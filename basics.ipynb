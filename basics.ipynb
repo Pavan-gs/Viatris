{
 "cells": [
  {
   "cell_type": "code",
   "execution_count": null,
   "id": "6e275d2b-7449-4ae6-8705-9bb32c814c43",
   "metadata": {},
   "outputs": [],
   "source": [
    "# OOPS --> General purpose programming language\n",
    "Python uses interpreter"
   ]
  },
  {
   "cell_type": "code",
   "execution_count": null,
   "id": "19fb1dcb-61c6-4eab-b543-298838355f55",
   "metadata": {},
   "outputs": [],
   "source": [
    "x = 100"
   ]
  },
  {
   "cell_type": "code",
   "execution_count": null,
   "id": "1ec1e0e4-4c7a-4197-9573-ca381e104fa9",
   "metadata": {},
   "outputs": [],
   "source": [
    "x"
   ]
  },
  {
   "cell_type": "code",
   "execution_count": null,
   "id": "38a66188-18cc-4e75-8b85-3237b4076505",
   "metadata": {},
   "outputs": [],
   "source": [
    "type(x)"
   ]
  },
  {
   "cell_type": "code",
   "execution_count": null,
   "id": "5def3e6d-8cc6-44da-bea2-c39e6533d431",
   "metadata": {},
   "outputs": [],
   "source": [
    "3>4"
   ]
  },
  {
   "cell_type": "code",
   "execution_count": null,
   "id": "096373ba-5660-4b90-9709-11c7fe0c9c44",
   "metadata": {},
   "outputs": [],
   "source": [
    "3==4"
   ]
  },
  {
   "cell_type": "code",
   "execution_count": null,
   "id": "b283d05f-a3ee-4128-8591-e4d82afb76b9",
   "metadata": {},
   "outputs": [],
   "source": [
    "3!=4"
   ]
  },
  {
   "cell_type": "code",
   "execution_count": null,
   "id": "c0ec2495-76c1-41d7-acb5-b1e4af153d8a",
   "metadata": {},
   "outputs": [],
   "source": [
    "4<=8"
   ]
  },
  {
   "cell_type": "code",
   "execution_count": null,
   "id": "aca8ac35-2e94-4525-a570-bc7a639f093d",
   "metadata": {},
   "outputs": [],
   "source": [
    "3*8"
   ]
  },
  {
   "cell_type": "code",
   "execution_count": null,
   "id": "56c1c446-47df-4371-8158-d8b5411b01e3",
   "metadata": {},
   "outputs": [],
   "source": [
    "2**3"
   ]
  },
  {
   "cell_type": "code",
   "execution_count": null,
   "id": "63a750a8-23dd-4c28-bb71-059cf7f598db",
   "metadata": {},
   "outputs": [],
   "source": [
    "5%2"
   ]
  },
  {
   "cell_type": "code",
   "execution_count": null,
   "id": "50770420-0444-480a-9b46-3a0538b006df",
   "metadata": {},
   "outputs": [],
   "source": [
    "a1=2"
   ]
  },
  {
   "cell_type": "code",
   "execution_count": null,
   "id": "0809f037-e87c-48ac-9ca9-a40d7f6d3d2f",
   "metadata": {},
   "outputs": [],
   "source": [
    "5/2"
   ]
  },
  {
   "cell_type": "code",
   "execution_count": null,
   "id": "a12f3a86-4a18-4e63-8f39-feea90798eec",
   "metadata": {},
   "outputs": [],
   "source": [
    "5//2"
   ]
  },
  {
   "cell_type": "code",
   "execution_count": null,
   "id": "fa1e29ea-63d3-47e4-9161-4c47db90c77b",
   "metadata": {},
   "outputs": [],
   "source": [
    "19/9"
   ]
  },
  {
   "cell_type": "code",
   "execution_count": null,
   "id": "084fdb75-89c0-4514-b954-9b24e38e79b6",
   "metadata": {},
   "outputs": [],
   "source": [
    "19//9"
   ]
  },
  {
   "cell_type": "code",
   "execution_count": null,
   "id": "e296365a-4500-4a52-83c2-511c51f5daf8",
   "metadata": {},
   "outputs": [],
   "source": [
    "19//2.2"
   ]
  },
  {
   "cell_type": "code",
   "execution_count": null,
   "id": "a43d204e-a3ec-4fb9-9a11-51aa0cf4af51",
   "metadata": {},
   "outputs": [],
   "source": [
    "251//100"
   ]
  },
  {
   "cell_type": "markdown",
   "id": "7cc8337a-5223-4660-8fab-45d7efa81401",
   "metadata": {},
   "source": [
    "# Data structures"
   ]
  },
  {
   "cell_type": "markdown",
   "id": "e620a9f3-56bf-48ed-8c33-5beac08525b2",
   "metadata": {},
   "source": [
    "### Ordered Data structures --> Strings, Lists, Tuples"
   ]
  },
  {
   "cell_type": "code",
   "execution_count": null,
   "id": "89a38d8a-a823-4755-82b2-d46aaff77823",
   "metadata": {},
   "outputs": [],
   "source": [
    "'hi'"
   ]
  },
  {
   "cell_type": "code",
   "execution_count": null,
   "id": "4b74f260-1f38-451d-b51b-1aaab6c18dfe",
   "metadata": {},
   "outputs": [],
   "source": [
    "\"hi\""
   ]
  },
  {
   "cell_type": "code",
   "execution_count": null,
   "id": "430d2beb-ca57-437a-9161-13297762a17e",
   "metadata": {},
   "outputs": [],
   "source": [
    "s = \"viatris is a pioneera in heakthcare\""
   ]
  },
  {
   "cell_type": "code",
   "execution_count": null,
   "id": "b9f4bec1-1d38-4087-b86f-8337be6bdc99",
   "metadata": {},
   "outputs": [],
   "source": [
    "len(s)"
   ]
  },
  {
   "cell_type": "code",
   "execution_count": null,
   "id": "ad8ebe86-ca8d-4096-bdf0-6d1dc20ce1bd",
   "metadata": {},
   "outputs": [],
   "source": [
    "s[3]"
   ]
  },
  {
   "cell_type": "code",
   "execution_count": null,
   "id": "a15d1f3d-c245-43e3-a7e3-a17233fccdd8",
   "metadata": {},
   "outputs": [],
   "source": [
    "s[0:7]"
   ]
  },
  {
   "cell_type": "code",
   "execution_count": null,
   "id": "75a34066-43c6-4473-afd8-76ca19d76d6d",
   "metadata": {},
   "outputs": [],
   "source": [
    "s[:7]"
   ]
  },
  {
   "cell_type": "code",
   "execution_count": null,
   "id": "7ddab035-968f-4f5e-b279-dad504bead24",
   "metadata": {},
   "outputs": [],
   "source": [
    "s[6:]"
   ]
  },
  {
   "cell_type": "code",
   "execution_count": null,
   "id": "212934a6-b411-4b4a-b8e9-58b390b162b8",
   "metadata": {},
   "outputs": [],
   "source": [
    "s[::2]"
   ]
  },
  {
   "cell_type": "code",
   "execution_count": null,
   "id": "a7de3d4f-7437-4f1e-8c5a-af82da2f48c4",
   "metadata": {},
   "outputs": [],
   "source": [
    "s[::3]"
   ]
  },
  {
   "cell_type": "code",
   "execution_count": null,
   "id": "0f57cf5e-714c-41f0-9b4a-ab907532a367",
   "metadata": {},
   "outputs": [],
   "source": [
    "s.capitalize()"
   ]
  },
  {
   "cell_type": "code",
   "execution_count": null,
   "id": "31ea556a-1801-4423-9282-2fc99ef5b2e9",
   "metadata": {},
   "outputs": [],
   "source": [
    "s.capitalize()"
   ]
  },
  {
   "cell_type": "code",
   "execution_count": null,
   "id": "84708426-a6c2-4daf-b535-2225715f53ec",
   "metadata": {},
   "outputs": [],
   "source": [
    "s.__add__(\" domain\")"
   ]
  },
  {
   "cell_type": "code",
   "execution_count": null,
   "id": "3680041d-0c3e-442e-87c7-9ce52ba42cfa",
   "metadata": {},
   "outputs": [],
   "source": [
    "dir(s)"
   ]
  },
  {
   "cell_type": "code",
   "execution_count": null,
   "id": "12d446a9-1e0c-47bd-843a-0583b0ff212e",
   "metadata": {},
   "outputs": [],
   "source": [
    "s.isupper()"
   ]
  },
  {
   "cell_type": "code",
   "execution_count": null,
   "id": "9d44aef8-b818-470c-a019-8a693e49d8db",
   "metadata": {},
   "outputs": [],
   "source": [
    "s.upper()"
   ]
  },
  {
   "cell_type": "code",
   "execution_count": null,
   "id": "08abeb09-91eb-403f-a2cb-17bfb809a31a",
   "metadata": {},
   "outputs": [],
   "source": [
    "s1=s.capitalize()"
   ]
  },
  {
   "cell_type": "code",
   "execution_count": null,
   "id": "59215d23-e674-4071-af28-e43ea4ea5c7d",
   "metadata": {},
   "outputs": [],
   "source": [
    "s1[25:].capitalize()"
   ]
  },
  {
   "cell_type": "code",
   "execution_count": null,
   "id": "e7ad14af-3d40-42f7-a7b7-3525eaae4f0d",
   "metadata": {},
   "outputs": [],
   "source": [
    "s1[:25]+s1[25:].capitalize()"
   ]
  },
  {
   "cell_type": "code",
   "execution_count": null,
   "id": "3eef15c6-30fb-46b4-8afb-eea683f22461",
   "metadata": {},
   "outputs": [],
   "source": [
    "help(s1.find)"
   ]
  },
  {
   "cell_type": "code",
   "execution_count": null,
   "id": "0cbd758c-9d80-47b8-864c-4a222fe173df",
   "metadata": {},
   "outputs": [],
   "source": [
    "s1[10:].find('i')"
   ]
  },
  {
   "cell_type": "code",
   "execution_count": null,
   "id": "5eef16be-c89e-46c3-898b-98de65380c36",
   "metadata": {},
   "outputs": [],
   "source": [
    "s.startswith('V')"
   ]
  },
  {
   "cell_type": "code",
   "execution_count": null,
   "id": "2534472d-9ee4-402e-a6eb-f97a572128e9",
   "metadata": {},
   "outputs": [],
   "source": [
    "\"hi\"+\"hi\""
   ]
  },
  {
   "cell_type": "code",
   "execution_count": null,
   "id": "f362d871-83f3-45e7-9388-4c04489f1573",
   "metadata": {},
   "outputs": [],
   "source": [
    "'hi'*2"
   ]
  },
  {
   "cell_type": "code",
   "execution_count": null,
   "id": "ed6b2ee6-307b-4d96-84ac-0b63bd2888c2",
   "metadata": {},
   "outputs": [],
   "source": [
    "s=s.replace('pioneera','pioneer')"
   ]
  },
  {
   "cell_type": "code",
   "execution_count": null,
   "id": "c36a7d8c-989d-416f-b1fc-fe7170726d43",
   "metadata": {},
   "outputs": [],
   "source": [
    "# Immutable\n",
    "s[27] = 'l'"
   ]
  },
  {
   "cell_type": "code",
   "execution_count": null,
   "id": "8a07b439-008c-426b-ade7-97cdaf1ab722",
   "metadata": {},
   "outputs": [],
   "source": [
    "s[:27]+'l'+s[28:]"
   ]
  },
  {
   "cell_type": "code",
   "execution_count": null,
   "id": "7e99682b-b9f1-4514-add2-c8cd9b264d4f",
   "metadata": {},
   "outputs": [],
   "source": [
    "s.split(' ')"
   ]
  },
  {
   "cell_type": "code",
   "execution_count": null,
   "id": "ce6aa4e7-adc9-406e-9ccb-159b3b0113a8",
   "metadata": {},
   "outputs": [],
   "source": [
    "l = []"
   ]
  },
  {
   "cell_type": "code",
   "execution_count": null,
   "id": "afafa904-9683-40d0-8f7f-d7136f53f655",
   "metadata": {},
   "outputs": [],
   "source": [
    "type([])"
   ]
  },
  {
   "cell_type": "code",
   "execution_count": null,
   "id": "3b811ee7-3dc4-4f7c-9818-0bdc724b92dd",
   "metadata": {},
   "outputs": [],
   "source": [
    "type(\"\")"
   ]
  },
  {
   "cell_type": "code",
   "execution_count": null,
   "id": "69345264-1b5a-4669-8f79-ff076f09e348",
   "metadata": {},
   "outputs": [],
   "source": [
    "l = [\"mangoes\", 100, 'apples', 200]"
   ]
  },
  {
   "cell_type": "code",
   "execution_count": null,
   "id": "6515ede4-d78f-4a84-b965-170c4c77db53",
   "metadata": {},
   "outputs": [],
   "source": [
    "l.append(['python',30,'java',40])"
   ]
  },
  {
   "cell_type": "code",
   "execution_count": null,
   "id": "8dd37c7b-b15d-4e4d-b7da-f4f21e71a06f",
   "metadata": {},
   "outputs": [],
   "source": [
    "l.extend(['banana'])"
   ]
  },
  {
   "cell_type": "code",
   "execution_count": null,
   "id": "d5331c41-930c-44c4-be1f-b67af533d90f",
   "metadata": {},
   "outputs": [],
   "source": [
    "l.append(['banana1'])"
   ]
  },
  {
   "cell_type": "code",
   "execution_count": null,
   "id": "1180e7fb-502e-47d8-bd92-db049d2be424",
   "metadata": {},
   "outputs": [],
   "source": [
    "type(l[2])"
   ]
  },
  {
   "cell_type": "code",
   "execution_count": null,
   "id": "1ffeeedf-e12d-408f-895a-f419d62acf83",
   "metadata": {},
   "outputs": [],
   "source": [
    "l[2][3]"
   ]
  },
  {
   "cell_type": "code",
   "execution_count": null,
   "id": "66038841-6564-4817-ad80-7833d9af2312",
   "metadata": {},
   "outputs": [],
   "source": [
    "s1 = \"strawberry\""
   ]
  },
  {
   "cell_type": "code",
   "execution_count": null,
   "id": "bb588ab0-e6ec-4ae1-9dd1-6c8f87f4cb02",
   "metadata": {},
   "outputs": [],
   "source": [
    "l.append(s1)"
   ]
  },
  {
   "cell_type": "code",
   "execution_count": null,
   "id": "47337e58-b5e7-4dd0-9b25-2f153120fd33",
   "metadata": {},
   "outputs": [],
   "source": [
    "l[:4]"
   ]
  },
  {
   "cell_type": "code",
   "execution_count": null,
   "id": "e810173b-888d-4c08-8217-15ecc15be129",
   "metadata": {},
   "outputs": [],
   "source": [
    "l[2:5]"
   ]
  },
  {
   "cell_type": "code",
   "execution_count": null,
   "id": "e9a6e0ba-c9f6-44a6-86a1-2d4cb4736b9b",
   "metadata": {},
   "outputs": [],
   "source": [
    "l[4][2][2]"
   ]
  },
  {
   "cell_type": "code",
   "execution_count": null,
   "id": "b41eb446-c945-4c2f-86e8-e189cd15ad45",
   "metadata": {},
   "outputs": [],
   "source": [
    "# mutable\n",
    "l[1] = 200"
   ]
  },
  {
   "cell_type": "code",
   "execution_count": null,
   "id": "9e246869-cbfa-4c93-bcc7-305645aa1ddd",
   "metadata": {},
   "outputs": [],
   "source": [
    "l.pop()"
   ]
  },
  {
   "cell_type": "code",
   "execution_count": null,
   "id": "19125bc1-6729-4947-b907-8eff0d210e4d",
   "metadata": {},
   "outputs": [],
   "source": [
    "l.insert(2,'blr')"
   ]
  },
  {
   "cell_type": "code",
   "execution_count": null,
   "id": "57789e65-3b42-42f8-82c8-7579fb4fd83b",
   "metadata": {},
   "outputs": [],
   "source": [
    "l.insert(2,'mlr')"
   ]
  },
  {
   "cell_type": "code",
   "execution_count": null,
   "id": "605bf8de-8c77-44c9-b13b-19f6ce12444e",
   "metadata": {},
   "outputs": [],
   "source": [
    "'100'+' hi'"
   ]
  },
  {
   "cell_type": "code",
   "execution_count": null,
   "id": "0ecb7466-4504-4834-92a2-6372bc0ad03a",
   "metadata": {},
   "outputs": [],
   "source": [
    "'True'"
   ]
  },
  {
   "cell_type": "code",
   "execution_count": null,
   "id": "882afd28-da98-4e6b-a0c5-fea617dcd55e",
   "metadata": {},
   "outputs": [],
   "source": [
    "str(100)"
   ]
  },
  {
   "cell_type": "code",
   "execution_count": null,
   "id": "be6a09d9-b7af-4e67-9c54-2f6dfd59cb58",
   "metadata": {},
   "outputs": [],
   "source": [
    "# tuples"
   ]
  },
  {
   "cell_type": "code",
   "execution_count": null,
   "id": "81275afa-bab7-46dd-b475-9e91ec386cf8",
   "metadata": {},
   "outputs": [],
   "source": [
    "type((1,'hi'))"
   ]
  },
  {
   "cell_type": "code",
   "execution_count": null,
   "id": "0d738f6f-30e9-47c8-9735-e884d66c0786",
   "metadata": {},
   "outputs": [],
   "source": [
    "t = 10,'t','m',[100,200],(100,200)"
   ]
  },
  {
   "cell_type": "code",
   "execution_count": null,
   "id": "47e1c350-ccf1-40b6-badf-f6844d0b5fb9",
   "metadata": {},
   "outputs": [],
   "source": [
    "t[2].upper()"
   ]
  },
  {
   "cell_type": "code",
   "execution_count": null,
   "id": "fb17204a-7f0e-4605-99c4-45a7067b8cb6",
   "metadata": {},
   "outputs": [],
   "source": [
    "t[3][1] = 1000"
   ]
  },
  {
   "cell_type": "code",
   "execution_count": null,
   "id": "4fb0c509-9a21-4f9a-9336-44b4c0581579",
   "metadata": {},
   "outputs": [],
   "source": [
    "t[4][1] = 2000"
   ]
  },
  {
   "cell_type": "code",
   "execution_count": null,
   "id": "11695139-3062-4278-bb5f-4e521b89eb0f",
   "metadata": {},
   "outputs": [],
   "source": [
    "# immutable\n",
    "t[0] = 100"
   ]
  },
  {
   "cell_type": "code",
   "execution_count": null,
   "id": "1358279e-db73-4045-a448-78573e690fde",
   "metadata": {},
   "outputs": [],
   "source": [
    "l = [10,'l']"
   ]
  },
  {
   "cell_type": "code",
   "execution_count": null,
   "id": "b456aa13-a3c8-4cf0-9c00-0721275cc23b",
   "metadata": {},
   "outputs": [],
   "source": [
    "l[0] = 0.12"
   ]
  },
  {
   "cell_type": "code",
   "execution_count": null,
   "id": "8418b4bc-9113-47f7-bfb3-e128e364fe3a",
   "metadata": {},
   "outputs": [],
   "source": [
    "list(t)"
   ]
  },
  {
   "cell_type": "code",
   "execution_count": null,
   "id": "fd44c45d-e156-41ca-9c1e-78024d501d2d",
   "metadata": {},
   "outputs": [],
   "source": [
    "tuple(l)"
   ]
  },
  {
   "cell_type": "code",
   "execution_count": null,
   "id": "fcc2433d-2c51-4afb-a41b-68147c48cba8",
   "metadata": {},
   "outputs": [],
   "source": [
    "10\n",
    "10.256757\n",
    "'viatris'\n",
    "True"
   ]
  },
  {
   "cell_type": "code",
   "execution_count": null,
   "id": "6aefd3cb-90c0-4c2c-bc15-b345073843e7",
   "metadata": {},
   "outputs": [],
   "source": [
    "# un-ordered data structures"
   ]
  },
  {
   "cell_type": "code",
   "execution_count": null,
   "id": "7ef083c0-ba4f-4589-af38-0cac27b7301d",
   "metadata": {},
   "outputs": [],
   "source": [
    "d = {}"
   ]
  },
  {
   "cell_type": "code",
   "execution_count": null,
   "id": "0ec0d778-30ed-4290-b175-a68c5ee3b10e",
   "metadata": {},
   "outputs": [],
   "source": [
    "d['ID'] = [1,2,3,5]"
   ]
  },
  {
   "cell_type": "code",
   "execution_count": null,
   "id": "7957c3e1-a52d-46bd-9cdf-ca4c23da2c6c",
   "metadata": {},
   "outputs": [],
   "source": [
    "d['Name'] = ['John','Sean','Kiran','Monika']"
   ]
  },
  {
   "cell_type": "code",
   "execution_count": null,
   "id": "d3f10b73-2558-453d-a5f2-dc289d852ad3",
   "metadata": {},
   "outputs": [],
   "source": [
    "d['Salary'] = (100,200,300,5000)"
   ]
  },
  {
   "cell_type": "code",
   "execution_count": null,
   "id": "04dca845-5c1a-42ab-8567-177da790918d",
   "metadata": {},
   "outputs": [],
   "source": [
    "d1 = {'id':[1,2,3],'city':['b','v','l']}"
   ]
  },
  {
   "cell_type": "code",
   "execution_count": null,
   "id": "78ce1f17-db7a-452b-bc9c-634156bf685c",
   "metadata": {},
   "outputs": [],
   "source": [
    "d['Name'][2].upper()"
   ]
  },
  {
   "cell_type": "code",
   "execution_count": null,
   "id": "637cb4ad-c4fa-4319-9e66-b72b04633f32",
   "metadata": {},
   "outputs": [],
   "source": [
    "del(d['ID'])"
   ]
  },
  {
   "cell_type": "code",
   "execution_count": null,
   "id": "3230d501-9de4-45d3-90c6-f9baf13a637a",
   "metadata": {},
   "outputs": [],
   "source": [
    "d['city'] = ['Mum','Blr','Hyd','Del']"
   ]
  },
  {
   "cell_type": "code",
   "execution_count": null,
   "id": "7d5232e1-6ca9-4983-9495-1411dcee5cdf",
   "metadata": {},
   "outputs": [],
   "source": [
    "d.keys()"
   ]
  },
  {
   "cell_type": "code",
   "execution_count": null,
   "id": "bbb21d5c-d50c-43cd-beba-64bc4b0d3b9e",
   "metadata": {},
   "outputs": [],
   "source": [
    "d.values()"
   ]
  },
  {
   "cell_type": "code",
   "execution_count": null,
   "id": "b6de87bd-fbf9-46ef-8aca-ae694aa9df25",
   "metadata": {},
   "outputs": [],
   "source": [
    "d.items()"
   ]
  },
  {
   "cell_type": "code",
   "execution_count": null,
   "id": "7ddae4f8-ea40-4f23-94c2-9e7ba50282bd",
   "metadata": {},
   "outputs": [],
   "source": [
    "dir(d)"
   ]
  },
  {
   "cell_type": "code",
   "execution_count": null,
   "id": "be8e4a83-4249-4d78-b413-bde75d6a415e",
   "metadata": {},
   "outputs": [],
   "source": [
    "# Sets"
   ]
  },
  {
   "cell_type": "code",
   "execution_count": null,
   "id": "0df0142a-5e60-41ab-a45f-262619cfa1ef",
   "metadata": {},
   "outputs": [],
   "source": [
    "s1 = set()"
   ]
  },
  {
   "cell_type": "code",
   "execution_count": null,
   "id": "9055f34a-b75a-4149-a21b-0435fca57509",
   "metadata": {},
   "outputs": [],
   "source": [
    "s2 = {1,1,1,1,1,5,4,2,2,2,2,'hi','hi','yello'}"
   ]
  },
  {
   "cell_type": "code",
   "execution_count": null,
   "id": "853e3e5f-cb7b-411f-97ef-7f0f78b3e8cd",
   "metadata": {},
   "outputs": [],
   "source": [
    "l1 = list(s2)[:4]"
   ]
  },
  {
   "cell_type": "code",
   "execution_count": null,
   "id": "e8d4de49-1790-4580-8ef9-aa49c255d245",
   "metadata": {},
   "outputs": [],
   "source": [
    "list.sort()"
   ]
  },
  {
   "cell_type": "code",
   "execution_count": null,
   "id": "665378fd-839f-4546-9cc8-37e9001fe9f0",
   "metadata": {},
   "outputs": [],
   "source": [
    "l1.sort(reverse=True)"
   ]
  },
  {
   "cell_type": "code",
   "execution_count": null,
   "id": "bbac4b29-7721-48b6-bcce-c2774bc1a3db",
   "metadata": {},
   "outputs": [],
   "source": [
    "s3 = {1,2,3,4,5,6,7,8}"
   ]
  },
  {
   "cell_type": "code",
   "execution_count": null,
   "id": "5ccaff53-3fba-485a-bf4c-14e74b536d2f",
   "metadata": {},
   "outputs": [],
   "source": [
    "s2|s3"
   ]
  },
  {
   "cell_type": "code",
   "execution_count": null,
   "id": "bc4c9358-b099-4b0b-889d-dcfcb74feb9f",
   "metadata": {},
   "outputs": [],
   "source": [
    "s2&s3"
   ]
  },
  {
   "cell_type": "code",
   "execution_count": null,
   "id": "6de542d4-9b33-4f0b-996c-62da138b4e6a",
   "metadata": {},
   "outputs": [],
   "source": [
    "s2.issubset(s3)"
   ]
  },
  {
   "cell_type": "code",
   "execution_count": null,
   "id": "34ba91ce-14e1-4120-b322-791c8bfa5c07",
   "metadata": {},
   "outputs": [],
   "source": [
    "s4 = {1,2,3,4}"
   ]
  },
  {
   "cell_type": "code",
   "execution_count": null,
   "id": "0807b76b-8441-4ef6-81e3-80918a483eb8",
   "metadata": {},
   "outputs": [],
   "source": [
    "s4.issubset(s3)"
   ]
  },
  {
   "cell_type": "code",
   "execution_count": null,
   "id": "2567a3b9-93ee-4167-8f13-5c20c9a748e0",
   "metadata": {},
   "outputs": [],
   "source": [
    "s3.difference(s2)"
   ]
  },
  {
   "cell_type": "code",
   "execution_count": null,
   "id": "bb0bf692-310d-402e-ab49-412bf1cece19",
   "metadata": {},
   "outputs": [],
   "source": [
    "s2.difference(s3)"
   ]
  },
  {
   "cell_type": "code",
   "execution_count": null,
   "id": "7a5840b2-a4d8-4c20-8407-9d91d29281ff",
   "metadata": {},
   "outputs": [],
   "source": [
    "s2.difference_update(s3)"
   ]
  },
  {
   "cell_type": "code",
   "execution_count": null,
   "id": "7fecd1a7-f8d4-4e8c-8b32-b9f1f56eb97d",
   "metadata": {},
   "outputs": [],
   "source": [
    "\"\""
   ]
  },
  {
   "cell_type": "code",
   "execution_count": null,
   "id": "a5170d27-c417-4b22-a08b-9a4d182a006b",
   "metadata": {},
   "outputs": [],
   "source": [
    "[]"
   ]
  },
  {
   "cell_type": "code",
   "execution_count": null,
   "id": "0c38c5e2-2815-454c-84f2-4e3727da30bf",
   "metadata": {},
   "outputs": [],
   "source": [
    "()"
   ]
  },
  {
   "cell_type": "code",
   "execution_count": null,
   "id": "4e467616-5566-49e0-a8b9-1600e50db0a7",
   "metadata": {},
   "outputs": [],
   "source": [
    "{}"
   ]
  },
  {
   "cell_type": "code",
   "execution_count": null,
   "id": "d3d4c994-3e4d-4e10-954d-d3a26aecf2e5",
   "metadata": {},
   "outputs": [],
   "source": [
    "set()"
   ]
  },
  {
   "cell_type": "code",
   "execution_count": null,
   "id": "4bc138d7-af1d-417a-a922-fb94cd961fb7",
   "metadata": {},
   "outputs": [],
   "source": [
    "# Iterations --> for, while"
   ]
  },
  {
   "cell_type": "code",
   "execution_count": null,
   "id": "c8a0f308-b478-419a-bd2f-9795a7ff8159",
   "metadata": {},
   "outputs": [],
   "source": [
    "for i in s:\n",
    "    print(i)"
   ]
  },
  {
   "cell_type": "code",
   "execution_count": null,
   "id": "8e6812a1-ec90-4f00-8140-709ca8fa1e9a",
   "metadata": {},
   "outputs": [],
   "source": [
    "for i in s:\n",
    "    print(i, end='--')"
   ]
  },
  {
   "cell_type": "code",
   "execution_count": null,
   "id": "ea8bd4df-1c5a-4a57-9072-ef3213bcad5e",
   "metadata": {},
   "outputs": [],
   "source": [
    "l = ['neptune','saturn','threat','normal']"
   ]
  },
  {
   "cell_type": "code",
   "execution_count": null,
   "id": "97bf33c1-3a36-42e8-ba7b-ded0b3cb3bee",
   "metadata": {},
   "outputs": [],
   "source": [
    "for i in l:\n",
    "    print(i)"
   ]
  },
  {
   "cell_type": "code",
   "execution_count": null,
   "id": "3768b848-4907-480f-98c4-37f10674d2bf",
   "metadata": {},
   "outputs": [],
   "source": [
    "for e in i:\n",
    "    print(e)"
   ]
  },
  {
   "cell_type": "code",
   "execution_count": null,
   "id": "9fea1ef9-e7f6-49d4-92ca-cf25c1afcb38",
   "metadata": {},
   "outputs": [],
   "source": [
    "t = (('blr',100),('mlr',50))"
   ]
  },
  {
   "cell_type": "code",
   "execution_count": null,
   "id": "d839a75c-b73a-4fbe-b960-2b5206f087fe",
   "metadata": {},
   "outputs": [],
   "source": [
    "for i in t:\n",
    "    print(i)"
   ]
  },
  {
   "cell_type": "code",
   "execution_count": null,
   "id": "d70ae497-44ba-46da-ac6d-e689557daabb",
   "metadata": {},
   "outputs": [],
   "source": [
    "for i,j in t:\n",
    "    print(i)"
   ]
  },
  {
   "cell_type": "code",
   "execution_count": null,
   "id": "6c4e8338-87d9-404c-b148-c7b9065f3515",
   "metadata": {},
   "outputs": [],
   "source": [
    "'''this is multi\n",
    "line comment\n",
    "and he is one more line'''"
   ]
  },
  {
   "cell_type": "code",
   "execution_count": null,
   "id": "81c28626-2e19-49a7-9839-4505acaf5b2a",
   "metadata": {},
   "outputs": [],
   "source": [
    "# this is one line"
   ]
  },
  {
   "cell_type": "code",
   "execution_count": null,
   "id": "0a770086-5280-4fe3-9a74-4b3a00a529d9",
   "metadata": {},
   "outputs": [],
   "source": [
    "for k,v in d.items():\n",
    "    print(k,v[2])"
   ]
  },
  {
   "cell_type": "code",
   "execution_count": null,
   "id": "fdee5e64-7ea6-43b6-af53-2f5c3b1079ad",
   "metadata": {},
   "outputs": [],
   "source": [
    "marks = 5"
   ]
  },
  {
   "cell_type": "code",
   "execution_count": null,
   "id": "b7675b9b-882e-4f44-a6df-577e6d94d456",
   "metadata": {},
   "outputs": [],
   "source": [
    "if (marks>85):\n",
    "    print(\"excellent\")\n",
    "elif (marks>40) & (marks<85):\n",
    "    print(\"average\")\n",
    "elif (marks<45) & (marks>35):\n",
    "    print(\"poor\")\n",
    "else:\n",
    "    print(\"you better improve\")"
   ]
  },
  {
   "cell_type": "code",
   "execution_count": null,
   "id": "c626b4f6-4a9d-4970-8117-aa3db8cb71cc",
   "metadata": {},
   "outputs": [],
   "source": [
    "if (marks>35):\n",
    "    if (marks<45) & (marks>35):\n",
    "        print(\"poor\")\n",
    "    elif (marks>40) & (marks<85):\n",
    "        print(\"average\")\n",
    "    elif (marks>85):\n",
    "        print(\"excellent\")\n",
    "else:\n",
    "    print(\"failed\")"
   ]
  },
  {
   "cell_type": "code",
   "execution_count": 5,
   "id": "1c222080-8d50-4ace-9a44-94c347b56ad2",
   "metadata": {},
   "outputs": [
    {
     "name": "stdin",
     "output_type": "stream",
     "text": [
      "enter an amount to withdraw 500\n"
     ]
    },
    {
     "name": "stdout",
     "output_type": "stream",
     "text": [
      "the amt withdrawn is 9500 and balance is 500\n"
     ]
    }
   ],
   "source": [
    "amt = int(input(\"enter an amount to withdraw\"))\n",
    "bal = 10000\n",
    "\n",
    "if amt>bal:\n",
    "    print(\"Insufficient funds\")\n",
    "else:\n",
    "    print(\"the amt withdrawn is {1} and balance is {0}\".format(amt,(bal-amt)))"
   ]
  },
  {
   "cell_type": "code",
   "execution_count": null,
   "id": "6476221e-ec4f-4dc8-b277-e4a0d3643b0f",
   "metadata": {},
   "outputs": [],
   "source": [
    "input(\"enter an amount to withdraw\")"
   ]
  },
  {
   "cell_type": "code",
   "execution_count": null,
   "id": "231493c9-1679-4890-bfcb-94eb5868d67f",
   "metadata": {},
   "outputs": [],
   "source": []
  }
 ],
 "metadata": {
  "kernelspec": {
   "display_name": "Python 3 (ipykernel)",
   "language": "python",
   "name": "python3"
  },
  "language_info": {
   "codemirror_mode": {
    "name": "ipython",
    "version": 3
   },
   "file_extension": ".py",
   "mimetype": "text/x-python",
   "name": "python",
   "nbconvert_exporter": "python",
   "pygments_lexer": "ipython3",
   "version": "3.12.4"
  }
 },
 "nbformat": 4,
 "nbformat_minor": 5
}
