{
 "cells": [
  {
   "cell_type": "code",
   "execution_count": null,
   "id": "3bafb97a-afcb-4f29-a085-9c084c4b371d",
   "metadata": {},
   "outputs": [],
   "source": [
    "import pandas as pd\n",
    "import numpy as np\n",
    "\n",
    "# Set seed for reproducibility\n",
    "np.random.seed(42)\n",
    "\n",
    "# Generate 1000 rows\n",
    "n_rows = 1000\n",
    "\n",
    "# Features\n",
    "duration_sec = np.random.uniform(1, 20, n_rows)  # Flow duration in seconds\n",
    "packet_count = np.random.randint(50, 150, n_rows)  # Number of packets\n",
    "latency_ms = np.random.uniform(10, 100, n_rows)  # Latency in ms\n",
    "protocol = np.random.choice(['TCP', 'UDP', 'ICMP'], n_rows, p=[0.6, 0.3, 0.1])  # Protocol type\n",
    "device_type = np.random.choice(['IoT', 'Server', 'Router', 'Workstation'], n_rows, p=[0.4, 0.3, 0.2, 0.1])  # Device type\n",
    "location = np.random.choice(['Data Center', 'Remote'], n_rows, p=[0.5, 0.5])  # Location\n",
    "event_type = np.random.choice(['No Event', 'Login Fail', 'Malware Detect', 'Firewall Block'], n_rows, p=[0.7, 0.1, 0.1, 0.1])  # Security event\n",
    "severity = np.random.choice(['None', 'Low', 'Medium', 'High'], n_rows, p=[0.7, 0.1, 0.1, 0.1])  # Severity level\n",
    "\n",
    "# Target: bytes_sent, influenced by features\n",
    "# Base: positive correlation with duration and packets, some noise\n",
    "bytes_sent = (duration_sec * 300) + (packet_count * 50) + (latency_ms * 10) + np.random.normal(0, 500, n_rows)\n",
    "\n",
    "# Adjust based on categorical (e.g., TCP higher bytes, High severity spikes)\n",
    "bytes_sent += np.where(protocol == 'TCP', 1000, 0)\n",
    "bytes_sent += np.where(protocol == 'UDP', 500, 0)\n",
    "bytes_sent += np.where(device_type == 'Server', 1500, 0)\n",
    "bytes_sent += np.where(severity == 'High', 2000, 0)\n",
    "bytes_sent += np.where(event_type == 'Malware Detect', 1000, 0)\n",
    "\n",
    "# Add some outliers (5% of rows)\n",
    "outlier_mask = np.random.choice([True, False], n_rows, p=[0.05, 0.95])\n",
    "bytes_sent[outlier_mask] *= np.random.uniform(5, 10, sum(outlier_mask))\n",
    "\n",
    "# Create DataFrame\n",
    "df = pd.DataFrame({\n",
    "    'duration_sec': duration_sec,\n",
    "    'packet_count': packet_count,\n",
    "    'latency_ms': latency_ms,\n",
    "    'protocol': protocol,\n",
    "    'device_type': device_type,\n",
    "    'location': location,\n",
    "    'event_type': event_type,\n",
    "    'severity': severity,\n",
    "    'bytes_sent': bytes_sent\n",
    "})\n",
    "\n",
    "# Save to CSV\n",
    "df.to_csv('network_traffic_dataset.csv', index=False)\n",
    "print(\"Dataset saved as 'network_traffic_dataset.csv' with 1000 rows.\")"
   ]
  },
  {
   "cell_type": "code",
   "execution_count": null,
   "id": "692ef2ac-967d-4957-888f-7975f896db25",
   "metadata": {},
   "outputs": [],
   "source": [
    "pwd"
   ]
  },
  {
   "cell_type": "code",
   "execution_count": null,
   "id": "001fc78d-0782-42cf-9740-8dbb5129735c",
   "metadata": {},
   "outputs": [],
   "source": [
    "# ML"
   ]
  },
  {
   "cell_type": "raw",
   "id": "78d15ff0-3b7b-4d00-87b0-0251ae711008",
   "metadata": {},
   "source": [
    "Machine Learning\n",
    "\n",
    "Supervised Machine Learning Algorithms\n",
    "\n",
    "Unsupervised Machine Learning Algorithms\n",
    "\n",
    "Dependent Variable/ Target Variable Independent Variables/Predictor Variables\n",
    "\n",
    "Predictive Models : --> learning from the statistical/mathematical relationship between a Dependent variable (y) and one or more independent variables (x) from the historic data\n",
    "\n",
    "Regression : Target variable --> Continuous random variable Classification : Target variable --> Categorical/pre-defined/classes\n"
   ]
  },
  {
   "cell_type": "raw",
   "id": "cb249b24-47ed-48ad-819f-f615c3328846",
   "metadata": {},
   "source": [
    "Retail -->Product price prediction, customer behaviour analysis/purchase pattern,product clustering, product recommendation, customer review analysis\n",
    "\n",
    "Banking --> Fraud analysis, Risk analysis, Target an ad for a deposit scheme\n",
    "\n",
    "Insurance --> Risk analysis\n",
    "\n",
    "Oil & Gas --> Threat Analysis\n",
    "\n",
    "Etailing, FMCG, Tourism, Travel"
   ]
  },
  {
   "cell_type": "raw",
   "id": "2f1fb322-ef55-46f8-ba58-d6c30c27e5d5",
   "metadata": {},
   "source": [
    "Real-World Relevance: In networking/security:\n",
    "\n",
    "Forecast bandwidth usage to optimize infrastructure (e.g., scale routers or firewalls in data centers).\n",
    "\n",
    "Detect anomalies: High predicted vs. actual bytes_sent could signal data leaks or DDoS attacks, \n",
    "especially during 'High' severity or 'Malware Detect' events.\n",
    "\n",
    "For Sitecore/Active Directory users: Predict traffic in authenticated sessions\n",
    "\n",
    "(e.g., login-related flows) to prevent overloads or spot unauthorized access\n",
    "(e.g., brute-force spiking bytes)."
   ]
  },
  {
   "cell_type": "code",
   "execution_count": null,
   "id": "6b2135b3-b08d-46d7-a4ff-412d81124285",
   "metadata": {},
   "outputs": [],
   "source": [
    "import pandas as pd\n",
    "import numpy as np\n",
    "import matplotlib.pyplot as plt\n",
    "import seaborn as sns"
   ]
  },
  {
   "cell_type": "code",
   "execution_count": null,
   "id": "116c6e4e-e4e3-4439-abf5-b5e952f75631",
   "metadata": {},
   "outputs": [],
   "source": [
    "df = pd.read_csv('network_traffic_dataset.csv')"
   ]
  },
  {
   "cell_type": "code",
   "execution_count": null,
   "id": "147960b6-3322-4681-adff-326b444a6a9c",
   "metadata": {},
   "outputs": [],
   "source": [
    "df[:3]"
   ]
  },
  {
   "cell_type": "code",
   "execution_count": null,
   "id": "6a603e56-65cc-4676-a84b-1307a9032db3",
   "metadata": {},
   "outputs": [],
   "source": [
    "df.isna().sum()"
   ]
  },
  {
   "cell_type": "code",
   "execution_count": null,
   "id": "70f37462-c9bb-432c-8944-7a696290d561",
   "metadata": {},
   "outputs": [],
   "source": [
    "df.shape"
   ]
  },
  {
   "cell_type": "code",
   "execution_count": null,
   "id": "d81e901b-461c-48e3-9440-76d6104a4bb9",
   "metadata": {},
   "outputs": [],
   "source": [
    "df.severity.value_counts()"
   ]
  },
  {
   "cell_type": "code",
   "execution_count": null,
   "id": "0ca05ba3-49ae-4bbd-a91b-de8020bd8857",
   "metadata": {},
   "outputs": [],
   "source": [
    "df.severity.fillna(value='None', inplace=True)"
   ]
  },
  {
   "cell_type": "code",
   "execution_count": null,
   "id": "a50122bc-4357-4c03-ae98-ef3d6a135fbf",
   "metadata": {},
   "outputs": [],
   "source": [
    "df.info()"
   ]
  },
  {
   "cell_type": "code",
   "execution_count": null,
   "id": "37efca69-cabb-49e8-93ce-f557d4ec146c",
   "metadata": {},
   "outputs": [],
   "source": [
    "df.describe().T"
   ]
  },
  {
   "cell_type": "code",
   "execution_count": null,
   "id": "99d36fa7-5252-45e8-87c6-2a0a1ed7ed64",
   "metadata": {},
   "outputs": [],
   "source": [
    "plt.plot(df['packet_count'])"
   ]
  },
  {
   "cell_type": "code",
   "execution_count": null,
   "id": "6ac297fa-62fb-4c73-b6a4-7315db8cec55",
   "metadata": {},
   "outputs": [],
   "source": [
    "sns.boxenplot(df['bytes_sent'])"
   ]
  },
  {
   "cell_type": "code",
   "execution_count": null,
   "id": "c488e7f5-c7f6-4da7-a059-ef72c243a7b3",
   "metadata": {},
   "outputs": [],
   "source": [
    "df.columns"
   ]
  },
  {
   "cell_type": "code",
   "execution_count": null,
   "id": "11aac58a-e406-4d55-ad68-10b50580a1da",
   "metadata": {},
   "outputs": [],
   "source": [
    "plt.scatter(y=df['bytes_sent'], x=df['packet_count'])\n",
    "plt.xlabel('Packets')\n",
    "plt.ylabel('Bytes sent')\n",
    "plt.show()"
   ]
  },
  {
   "cell_type": "code",
   "execution_count": null,
   "id": "3e56b2f7-cea5-4596-86ff-00dd5de0ef55",
   "metadata": {},
   "outputs": [],
   "source": [
    "sns.boxplot(x=df['event_type'],y=df['bytes_sent'], hue=df['protocol'])"
   ]
  },
  {
   "cell_type": "code",
   "execution_count": null,
   "id": "fb35837a-df22-4fe4-bef3-5b6d26721ad7",
   "metadata": {},
   "outputs": [],
   "source": [
    "# Consider we have done a detailed EDA (univariate and bivariate)"
   ]
  },
  {
   "cell_type": "code",
   "execution_count": null,
   "id": "642f6a1f-f701-4c51-a4cd-d1864635da88",
   "metadata": {},
   "outputs": [],
   "source": [
    "df[:2]"
   ]
  },
  {
   "cell_type": "code",
   "execution_count": null,
   "id": "422ac0a4-f25f-43d9-afc3-a1897f14243d",
   "metadata": {},
   "outputs": [],
   "source": [
    "# # Distribution of the Target Variable"
   ]
  },
  {
   "cell_type": "code",
   "execution_count": null,
   "id": "dc384818-f2d5-4555-b8e5-7026f2f53fb1",
   "metadata": {},
   "outputs": [],
   "source": [
    "sns.distplot(df['bytes_sent'])"
   ]
  },
  {
   "cell_type": "code",
   "execution_count": null,
   "id": "aa991fb9-6df2-45e1-b4c8-bf8199d9615e",
   "metadata": {},
   "outputs": [],
   "source": [
    "sns.boxplot(df.bytes_sent)"
   ]
  },
  {
   "cell_type": "raw",
   "id": "7d7269eb-d674-4d9b-a332-e6b941df600a",
   "metadata": {},
   "source": [
    "Linear Models --> Define a simple relationship between the \"Y\" & all the \"X\" variables\n",
    "\n",
    "Non-linear Models --> Learn from the non-linear relationship between the \"Y\" and all the \"X\" variables\n",
    "\n",
    "Ensemble Algorithms --> Group of models"
   ]
  },
  {
   "cell_type": "code",
   "execution_count": null,
   "id": "c0026856-a95f-4ecd-9e6c-6a00605ed72a",
   "metadata": {},
   "outputs": [],
   "source": [
    "# Linear regression"
   ]
  },
  {
   "cell_type": "raw",
   "id": "17aee173-075a-4d75-9117-178948e69cdd",
   "metadata": {},
   "source": [
    "Linear Regression\n",
    "Simple : Only one independent variable\n",
    "Multiple : More than one independent variable\n",
    "\n",
    "e(y) = b0 + b1x1 + b2x2 + b3x3 + ......... + bnxn\n",
    "\n",
    "e(price) = b0 + b1*(packets) + b2*(duration) + b3* (latency) +......... bn*xn\n",
    "\n",
    "Ordinary Least squared --> Line of best fit --> Least squared distance between the \"Actual values\" and \"Fitted values\"\n",
    "\n",
    "Residuals / Error --> Squared distance between the fitted values and actual values\n",
    "\n",
    "Slope coefficient/ Weight --> Impact on y upon the variation in x [b1= sum(xi-mean(x)(yi-mean(y)/sum(xi-mean(x)2]\n",
    "\n",
    "Intercept --> Y value when the x value is zero [b0 = mean(y)-b1*mean(x)"
   ]
  },
  {
   "cell_type": "code",
   "execution_count": null,
   "id": "7024a1c2-b064-40f5-bd64-bfbfb4a76195",
   "metadata": {},
   "outputs": [],
   "source": [
    "# Assumptions --> 1 --> All x vars should have a linear relationship with Y var"
   ]
  },
  {
   "cell_type": "code",
   "execution_count": null,
   "id": "42b91ca1-c05f-4c68-8a63-16c669dad017",
   "metadata": {},
   "outputs": [],
   "source": [
    "df.columns"
   ]
  },
  {
   "cell_type": "code",
   "execution_count": null,
   "id": "01a1e250-5b47-4139-b0f7-e570dae41466",
   "metadata": {},
   "outputs": [],
   "source": [
    "df.iloc[:,[0,1,2,8]].corr()"
   ]
  },
  {
   "cell_type": "code",
   "execution_count": null,
   "id": "fa14e7d7-aafd-41c8-98ae-fc98e967ba4a",
   "metadata": {},
   "outputs": [],
   "source": [
    "sns.heatmap(df.iloc[:,[0,1,2,8]].corr(), annot=True)"
   ]
  },
  {
   "cell_type": "code",
   "execution_count": null,
   "id": "81f5a5fa-5dc1-44bc-b9c0-90f5a9c67ad1",
   "metadata": {},
   "outputs": [],
   "source": [
    "# y = mx+c"
   ]
  },
  {
   "cell_type": "code",
   "execution_count": null,
   "id": "b1fb235a-08d0-4c88-8de2-fb7c0accbbbe",
   "metadata": {},
   "outputs": [],
   "source": [
    "df.columns"
   ]
  },
  {
   "cell_type": "code",
   "execution_count": null,
   "id": "ce10b0a2-411a-4ef5-80c0-d2bb21dd1a8f",
   "metadata": {},
   "outputs": [],
   "source": [
    "x = df.iloc[:,:8]"
   ]
  },
  {
   "cell_type": "code",
   "execution_count": null,
   "id": "e1f6edf2-2a04-433c-bf38-b10874c7682b",
   "metadata": {},
   "outputs": [],
   "source": [
    "y = df['bytes_sent']"
   ]
  },
  {
   "cell_type": "code",
   "execution_count": null,
   "id": "93d90221-d2f8-41d2-9a57-6c5883c1cef1",
   "metadata": {},
   "outputs": [],
   "source": [
    "df.columns"
   ]
  },
  {
   "cell_type": "code",
   "execution_count": null,
   "id": "898f154b-ad3b-43f6-883e-6ddb98aadfdb",
   "metadata": {},
   "outputs": [],
   "source": [
    "df.groupby('protocol').agg({'bytes_sent' : ['mean','min','max','std']})"
   ]
  },
  {
   "cell_type": "code",
   "execution_count": null,
   "id": "7c56c470-2dc2-4ec6-bfbc-49298267b47b",
   "metadata": {},
   "outputs": [],
   "source": [
    "x=pd.get_dummies(columns=['protocol', 'device_type',\n",
    "       'location', 'event_type', 'severity'], data=x,drop_first=True)"
   ]
  },
  {
   "cell_type": "code",
   "execution_count": null,
   "id": "9eb7877b-63b9-45cb-b737-d4927bcfabcd",
   "metadata": {},
   "outputs": [],
   "source": [
    "x[:2]"
   ]
  },
  {
   "cell_type": "code",
   "execution_count": null,
   "id": "276606b9-4243-4eac-9d5e-92c356c4ad8f",
   "metadata": {},
   "outputs": [],
   "source": [
    "from sklearn.model_selection import train_test_split"
   ]
  },
  {
   "cell_type": "code",
   "execution_count": null,
   "id": "8d1efd61-24d9-4d45-9737-3ee7a90256d2",
   "metadata": {},
   "outputs": [],
   "source": [
    "xtrain,xtest,ytrain,ytest = train_test_split(x,y,test_size=0.2, random_state=0)"
   ]
  },
  {
   "cell_type": "code",
   "execution_count": null,
   "id": "02050590-ffc1-4cae-bbd6-4dc7f65af74d",
   "metadata": {
    "scrolled": true
   },
   "outputs": [],
   "source": [
    "xtrain[:3]"
   ]
  },
  {
   "cell_type": "code",
   "execution_count": null,
   "id": "0e2593a9-1a55-45ec-b63f-46fbc6154b06",
   "metadata": {},
   "outputs": [],
   "source": [
    "sns.boxplot(ytest)"
   ]
  },
  {
   "cell_type": "code",
   "execution_count": null,
   "id": "d95893cf-15c2-4c3d-8b7e-d37dc6dcfcf1",
   "metadata": {},
   "outputs": [],
   "source": [
    "xtrain.shape"
   ]
  },
  {
   "cell_type": "code",
   "execution_count": null,
   "id": "1b7f7613-ec88-4c59-b67e-bd530c62268c",
   "metadata": {},
   "outputs": [],
   "source": [
    "from sklearn.linear_model import LinearRegression"
   ]
  },
  {
   "cell_type": "code",
   "execution_count": null,
   "id": "d9f7028d-bd87-401b-92f3-a1bcd1b69d82",
   "metadata": {},
   "outputs": [],
   "source": [
    "lr = LinearRegression()"
   ]
  },
  {
   "cell_type": "code",
   "execution_count": null,
   "id": "d6116e57-c165-44cb-b28b-89a3abe54dfc",
   "metadata": {},
   "outputs": [],
   "source": [
    "lr_model = lr.fit(xtrain,ytrain)"
   ]
  },
  {
   "cell_type": "code",
   "execution_count": null,
   "id": "733aed1a-867b-4257-9a40-b075460096db",
   "metadata": {},
   "outputs": [],
   "source": [
    "lr_model.coef_"
   ]
  },
  {
   "cell_type": "code",
   "execution_count": null,
   "id": "327f2cba-f705-4df4-a366-3779fba31f2b",
   "metadata": {},
   "outputs": [],
   "source": [
    "xtrain[:2]"
   ]
  },
  {
   "cell_type": "code",
   "execution_count": null,
   "id": "cbdb2ab0-3757-44e3-9c1b-db0a1f4a9ce0",
   "metadata": {},
   "outputs": [],
   "source": [
    "plt.scatter(df['duration_sec'],df['bytes_sent'])"
   ]
  },
  {
   "cell_type": "code",
   "execution_count": null,
   "id": "87d4ccb2-d3f3-4ccd-a649-07d3f525420e",
   "metadata": {},
   "outputs": [],
   "source": [
    "pred = lr_model.predict(xtest)"
   ]
  },
  {
   "cell_type": "code",
   "execution_count": null,
   "id": "5c729bbe-24ce-4f33-8860-f917dd4ac103",
   "metadata": {},
   "outputs": [],
   "source": [
    "error = pd.DataFrame({'Actual':ytest,'Predicted':pred})"
   ]
  },
  {
   "cell_type": "code",
   "execution_count": null,
   "id": "ce801850-61fc-4a62-81d9-ddf8f27afa41",
   "metadata": {},
   "outputs": [],
   "source": [
    "error.reset_index(drop=True, inplace=True)"
   ]
  },
  {
   "cell_type": "code",
   "execution_count": null,
   "id": "6ba4c27f-0a8c-4434-8162-8093e96815e1",
   "metadata": {},
   "outputs": [],
   "source": [
    "plt.figure(figsize=(15,15))\n",
    "error.plot()"
   ]
  },
  {
   "cell_type": "code",
   "execution_count": null,
   "id": "f30bb0f6-9374-4dee-bd5c-4d61833f0756",
   "metadata": {},
   "outputs": [],
   "source": [
    "from sklearn.metrics import mean_squared_error"
   ]
  },
  {
   "cell_type": "code",
   "execution_count": null,
   "id": "98ee4660-b71c-4bc6-8ded-85bada261ee5",
   "metadata": {},
   "outputs": [],
   "source": [
    "error[:5]"
   ]
  },
  {
   "cell_type": "code",
   "execution_count": null,
   "id": "6c82600b-c053-4610-be2a-a4dd7ecd7899",
   "metadata": {},
   "outputs": [],
   "source": []
  }
 ],
 "metadata": {
  "kernelspec": {
   "display_name": "Python 3 (ipykernel)",
   "language": "python",
   "name": "python3"
  },
  "language_info": {
   "codemirror_mode": {
    "name": "ipython",
    "version": 3
   },
   "file_extension": ".py",
   "mimetype": "text/x-python",
   "name": "python",
   "nbconvert_exporter": "python",
   "pygments_lexer": "ipython3",
   "version": "3.12.4"
  }
 },
 "nbformat": 4,
 "nbformat_minor": 5
}
