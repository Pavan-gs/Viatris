{
 "cells": [
  {
   "cell_type": "code",
   "execution_count": null,
   "id": "42816da4-2386-4ba1-bcfb-16c478dc52c8",
   "metadata": {},
   "outputs": [],
   "source": [
    "import pandas as pd\n",
    "import numpy as np\n",
    "import matplotlib.pyplot as plt\n",
    "import seaborn as sns\n",
    "from sklearn.model_selection import train_test_split\n",
    "from sklearn.preprocessing import StandardScaler\n",
    "from sklearn.linear_model import LogisticRegression\n",
    "from sklearn.tree import DecisionTreeClassifier\n",
    "from sklearn.ensemble import RandomForestClassifier\n",
    "from sklearn.metrics import roc_auc_score, roc_curve, confusion_matrix, ConfusionMatrixDisplay, accuracy_score, f1_score, precision_score, recall_score\n",
    "from sklearn.tree import plot_tree\n",
    "from sklearn.feature_selection import SelectKBest, f_classif\n",
    "import warnings\n",
    "warnings.filterwarnings('ignore')"
   ]
  },
  {
   "cell_type": "code",
   "execution_count": null,
   "id": "69b82041-b6f9-4f31-83aa-2e78cb8aec5c",
   "metadata": {},
   "outputs": [],
   "source": [
    "# Step 1: Load the data\n",
    "# Download from: https://www.kaggle.com/datasets/mrwellsdavid/unsw-nb15\n",
    "# Use 'UNSW_NB15_training-set.csv' for this demo\n",
    "df = pd.read_parquet('UNSW_NB15_training-set.parquet')\n",
    "print(f\"Original shape: {df.shape}\")"
   ]
  },
  {
   "cell_type": "code",
   "execution_count": null,
   "id": "1785983a-caa7-43d4-8bce-53d8d6e97884",
   "metadata": {},
   "outputs": [],
   "source": [
    "# Step 2: EDA - Basic overview\n",
    "print(df.info())"
   ]
  },
  {
   "cell_type": "code",
   "execution_count": null,
   "id": "7582859c-fb86-4787-a68e-bdb7ea46e72d",
   "metadata": {},
   "outputs": [],
   "source": [
    "df.describe().T"
   ]
  },
  {
   "cell_type": "code",
   "execution_count": null,
   "id": "c527bce1-8f19-4ecc-83e4-c7c068d9b08c",
   "metadata": {},
   "outputs": [],
   "source": [
    "df.proto.value_counts()"
   ]
  },
  {
   "cell_type": "code",
   "execution_count": null,
   "id": "0474f0da-83af-4d2b-b344-2e2ff6ac1652",
   "metadata": {},
   "outputs": [],
   "source": [
    "# Handle categorical columns: Limit levels for simplicity\n",
    "df = df[df['proto'].isin(['tcp', 'udp', 'arp'])]\n",
    "df = df[df['service'].isin(['http', 'ftp', 'ssh', '-'])]\n",
    "df = df[df['state'].isin(['INT', 'FIN', 'CON'])]\n",
    "\n",
    "# Subset to 10 key features for simplicity\n",
    "selected_features = ['dur', 'proto', 'service', 'state', 'spkts', 'sbytes', 'rate','dload', 'sloss', 'label']\n",
    "df_subset = df[selected_features]\n",
    "print(f\"Subset shape: {df_subset.shape}\")"
   ]
  },
  {
   "cell_type": "code",
   "execution_count": null,
   "id": "8c1bb79f-59c2-4c18-9e97-897051bc0ae2",
   "metadata": {},
   "outputs": [],
   "source": [
    "df.isna().sum()"
   ]
  },
  {
   "cell_type": "code",
   "execution_count": null,
   "id": "da4b2608-c0d5-4b5e-80fa-c2194abbe259",
   "metadata": {},
   "outputs": [],
   "source": [
    "df.proto.nunique()"
   ]
  },
  {
   "cell_type": "code",
   "execution_count": null,
   "id": "e9fb35e4-64e9-4bec-8387-384f925edc01",
   "metadata": {},
   "outputs": [],
   "source": [
    "df.proto.value_counts()"
   ]
  },
  {
   "cell_type": "code",
   "execution_count": null,
   "id": "b3b50553-4cc8-4b10-be13-ef2ff52269cd",
   "metadata": {},
   "outputs": [],
   "source": [
    "df_subset.shape"
   ]
  },
  {
   "cell_type": "code",
   "execution_count": null,
   "id": "7161d4ea-bd1a-4f3c-aa10-06b39c0cb60c",
   "metadata": {},
   "outputs": [],
   "source": [
    "sns.boxplot(df_subset['sbytes'])"
   ]
  },
  {
   "cell_type": "code",
   "execution_count": null,
   "id": "a1593abc-25cf-4718-8edd-28fa2daa5c5d",
   "metadata": {},
   "outputs": [],
   "source": [
    "plt.scatter(df_subset['sbytes'],df_subset['spkts'])"
   ]
  },
  {
   "cell_type": "code",
   "execution_count": null,
   "id": "1f9a5b26-7b7e-43ad-a415-580621edc1f7",
   "metadata": {},
   "outputs": [],
   "source": [
    "df_subset.proto.value_counts()"
   ]
  },
  {
   "cell_type": "code",
   "execution_count": null,
   "id": "9374edcb-aaa9-4c13-88a7-4203f4abef92",
   "metadata": {},
   "outputs": [],
   "source": [
    "sns.countplot(x=df_subset['proto'], hue=df_subset['label'])"
   ]
  },
  {
   "cell_type": "code",
   "execution_count": null,
   "id": "a3efa7a8-150e-4cce-acac-af57a3dc0ae4",
   "metadata": {},
   "outputs": [],
   "source": [
    "# considering we have done detailed analysis"
   ]
  },
  {
   "cell_type": "code",
   "execution_count": null,
   "id": "87e33ef8-2240-44e7-aa40-edda06692a25",
   "metadata": {},
   "outputs": [],
   "source": [
    "df.proto.unique()"
   ]
  },
  {
   "cell_type": "code",
   "execution_count": null,
   "id": "43e4b518-d201-4bfd-94b1-9d4380cfc85f",
   "metadata": {},
   "outputs": [],
   "source": [
    "df.info()"
   ]
  },
  {
   "cell_type": "code",
   "execution_count": null,
   "id": "858f347d-0a34-4097-91d2-b2f9a49c5921",
   "metadata": {},
   "outputs": [],
   "source": [
    "df_subset.service.unique()"
   ]
  },
  {
   "cell_type": "code",
   "execution_count": null,
   "id": "9a3c3398-d4bb-4564-9d4f-22bda62f2a37",
   "metadata": {},
   "outputs": [],
   "source": [
    "df_subset.label.value_counts()"
   ]
  },
  {
   "cell_type": "code",
   "execution_count": null,
   "id": "5680f636-ddf6-47de-b5a2-93d8e92809ab",
   "metadata": {},
   "outputs": [],
   "source": [
    "print(df['label'].value_counts(normalize=True))  # Class distribution (target: label, 0=normal, 1=attack)"
   ]
  },
  {
   "cell_type": "code",
   "execution_count": null,
   "id": "7e8085ea-423c-48a4-82e0-1e76c8c372f0",
   "metadata": {},
   "outputs": [],
   "source": [
    "# baseline accuracy"
   ]
  },
  {
   "cell_type": "code",
   "execution_count": null,
   "id": "9e78be91-bc44-4990-9f54-9424a62ea3aa",
   "metadata": {},
   "outputs": [],
   "source": [
    "df_subset.info()"
   ]
  },
  {
   "cell_type": "code",
   "execution_count": null,
   "id": "3678d2dd-77be-4ffd-a64e-e8634d2eaaa0",
   "metadata": {},
   "outputs": [],
   "source": [
    "df_subset[['proto','service','state']]=df_subset[['proto','service','state']].astype('object')"
   ]
  },
  {
   "cell_type": "code",
   "execution_count": null,
   "id": "729029de-3c43-4499-84c3-554d49fe8769",
   "metadata": {},
   "outputs": [],
   "source": [
    "# Encode categorical features\n",
    "df_encoded = pd.get_dummies(df_subset, columns=['proto', 'service', 'state'], drop_first=True)"
   ]
  },
  {
   "cell_type": "code",
   "execution_count": null,
   "id": "04aeccef-16eb-40cf-a613-b10ad3b1c76d",
   "metadata": {},
   "outputs": [],
   "source": [
    "df_encoded.columns"
   ]
  },
  {
   "cell_type": "code",
   "execution_count": null,
   "id": "5fd41978-86e7-4b8d-a078-60f1b23820e2",
   "metadata": {},
   "outputs": [],
   "source": [
    "x= df_encoded[['dur', 'spkts', 'sbytes', 'rate', 'dload', 'sloss',\n",
    "       'proto_tcp', 'proto_udp', 'service_ftp', 'service_http', 'service_ssh',\n",
    "       'state_FIN', 'state_INT']][:]"
   ]
  },
  {
   "cell_type": "code",
   "execution_count": null,
   "id": "b9b0cfcc-798b-4005-ae7d-69cd804310c7",
   "metadata": {},
   "outputs": [],
   "source": [
    "x[:2]"
   ]
  },
  {
   "cell_type": "code",
   "execution_count": null,
   "id": "718edcff-588d-4d5e-977f-538e2cd139a8",
   "metadata": {},
   "outputs": [],
   "source": [
    "y=df_encoded.label"
   ]
  },
  {
   "cell_type": "code",
   "execution_count": null,
   "id": "ef2573ca-0ced-4d60-923b-203152f0f556",
   "metadata": {},
   "outputs": [],
   "source": [
    "from sklearn.model_selection import train_test_split"
   ]
  },
  {
   "cell_type": "code",
   "execution_count": null,
   "id": "97b276d9-8621-450b-8e96-154cf1155076",
   "metadata": {},
   "outputs": [],
   "source": [
    "xtrain, xtest, ytrain, ytest = train_test_split(x, y, test_size=0.2, random_state=42, stratify=y)"
   ]
  },
  {
   "cell_type": "code",
   "execution_count": null,
   "id": "6a47da35-195f-46e8-a90f-b64710457a3e",
   "metadata": {},
   "outputs": [],
   "source": [
    "df_encoded[:2]"
   ]
  },
  {
   "cell_type": "raw",
   "id": "64fa782c-ba6c-435c-b86f-390774fe1807",
   "metadata": {},
   "source": [
    "Logistic Regression --> Probabilistic Model\n",
    "\n",
    "g(e(y)) --> b0+b1x1+b2x2+.......bn*xn\n",
    "g(e(y)) --> c+mx1+mx2+.....+mxn\n",
    "\n",
    "Binary Classifier\n",
    "\n",
    "g() --> Link function\n",
    "\n",
    "GLM doesn't assume a linear relationship b/w the y and all the x vars, (assumes a linear relationship b/w link fn and the x vars in the \"Logit\" model)\n",
    "\n",
    "Target variable Y need not be normally distributed\n",
    "\n",
    "GLM uses Maximum Likelyhood instead of OLS\n",
    "\n",
    "Errors need not be normally distribued however needs to be independent\n",
    "\n",
    "p = 1/2 = 0.5\n",
    "\n",
    "odds = 0.5/0.5 = 1:1\n",
    "\n",
    "odds ratio = p/1-p\n",
    "\n",
    "p(heads) --> 7/10 = 0.7\n",
    "\n",
    "odds(heads) --> 0.7/0.3 = 2.33\n",
    "\n",
    "p = 0 & 1\n",
    "\n",
    "p < 1\n",
    "\n",
    "p > 0\n",
    "\n",
    "p = exp(b0+b1x1) --> For any values of x and its slope y would bever be negative\n",
    "\n",
    "p = exp(bo+b1x1)/exp(b0+b1x1)+1 ---> Y would always be less than 1\n",
    "\n",
    "p = e^y/e^y+1\n",
    "\n",
    "q = 1-(e^y/e^y+1)\n",
    "\n",
    "p/1-p = ey\n",
    "\n",
    "log[p/1-p] = y\n",
    "\n",
    "log[p/1-p] --> Link function\n",
    "\n",
    "log[p/1-p] = b0+b1*x1\n",
    "\n",
    "sigmoid function (Squashing function) --> Inverse Logit Function\n",
    "\n",
    "s(y) = 1/1+e(-y)"
   ]
  },
  {
   "cell_type": "code",
   "execution_count": null,
   "id": "1ddb2537-96d6-4669-a17b-929b6deb4db6",
   "metadata": {},
   "outputs": [],
   "source": [
    "from sklearn.linear_model import LogisticRegression"
   ]
  },
  {
   "cell_type": "code",
   "execution_count": null,
   "id": "56f57525-7c87-4070-9047-71c55ec29055",
   "metadata": {},
   "outputs": [],
   "source": [
    "lg = LogisticRegression(max_iter=500)"
   ]
  },
  {
   "cell_type": "code",
   "execution_count": null,
   "id": "62b3c850-3291-473f-8ba3-b0b38ee4ef5d",
   "metadata": {},
   "outputs": [],
   "source": [
    "lg_model = lg.fit(xtrain,ytrain)"
   ]
  },
  {
   "cell_type": "code",
   "execution_count": null,
   "id": "a799afd6-8465-4894-88d2-ed10360c7295",
   "metadata": {},
   "outputs": [],
   "source": [
    "lg_model.coef_"
   ]
  },
  {
   "cell_type": "code",
   "execution_count": null,
   "id": "252ba990-eeed-4606-a8aa-42fcfc783765",
   "metadata": {},
   "outputs": [],
   "source": [
    "# Check ROC AUC\n",
    "auc_log = roc_auc_score(ytest, y_prob_log)\n",
    "print(f\"Logistic Regression AUC: {auc_log:.2f}\")\n",
    "\n",
    "# ROC Curve\n",
    "fpr, tpr, _ = roc_curve(ytest, y_prob_log)\n",
    "plt.figure(figsize=(6, 4))\n",
    "plt.plot(fpr, tpr, label=f'Logistic (AUC = {auc_log:.2f})')\n",
    "plt.plot([0, 1], [0, 1], 'k--')\n",
    "plt.xlabel('False Positive Rate')\n",
    "plt.ylabel('True Positive Rate')\n",
    "plt.title('ROC Curve - Logistic Regression')\n",
    "plt.legend()\n",
    "plt.show()"
   ]
  },
  {
   "cell_type": "code",
   "execution_count": null,
   "id": "45626d84-ffab-405d-9c1e-1606a9a9ec25",
   "metadata": {},
   "outputs": [],
   "source": [
    "lg_pred = lg_model.predict(xtest)"
   ]
  },
  {
   "cell_type": "code",
   "execution_count": null,
   "id": "98511e95-2a2c-4f21-b58f-85f3dc06dfed",
   "metadata": {},
   "outputs": [],
   "source": [
    "lg_model.predict(xtest)[:5]"
   ]
  },
  {
   "cell_type": "code",
   "execution_count": null,
   "id": "d8156eae-e042-44b7-bc60-36c1e02cb87b",
   "metadata": {},
   "outputs": [],
   "source": [
    "y_prob_log=lg_model.predict_proba(xtest)[:, 1]"
   ]
  },
  {
   "cell_type": "code",
   "execution_count": null,
   "id": "5cf71720-4e67-4af5-b086-edc46f359c62",
   "metadata": {},
   "outputs": [],
   "source": [
    "xtest.shape"
   ]
  },
  {
   "cell_type": "code",
   "execution_count": null,
   "id": "870ad5e5-3bcf-4e1c-8760-50b98aadedc5",
   "metadata": {},
   "outputs": [],
   "source": [
    "pd.crosstab(ytest,lg_pred)"
   ]
  },
  {
   "cell_type": "code",
   "execution_count": null,
   "id": "a6be0957-047d-48a1-92ba-0eb20cb669f6",
   "metadata": {},
   "outputs": [],
   "source": [
    "confusion_matrix(ytest,lg_pred)"
   ]
  },
  {
   "cell_type": "code",
   "execution_count": null,
   "id": "b3a8a383-67c6-4d8e-96e0-7f4d8c7a8f84",
   "metadata": {},
   "outputs": [],
   "source": [
    "acc=(5259+8307)/17470"
   ]
  },
  {
   "cell_type": "code",
   "execution_count": null,
   "id": "e219da53-2dfc-482d-9ed6-4bc054d2a305",
   "metadata": {},
   "outputs": [],
   "source": [
    "accuracy_score(ytest,lg_pred)"
   ]
  },
  {
   "cell_type": "code",
   "execution_count": null,
   "id": "3c15052c-ca62-46bd-ae6e-b0b2aef71dc3",
   "metadata": {},
   "outputs": [],
   "source": [
    "8307/(3408+8307)"
   ]
  },
  {
   "cell_type": "code",
   "execution_count": null,
   "id": "c40756b7-6e8d-4fe3-b59e-99f8a7f41ae5",
   "metadata": {},
   "outputs": [],
   "source": [
    "8307/(8307+496)"
   ]
  },
  {
   "cell_type": "code",
   "execution_count": null,
   "id": "959791e9-d602-4220-864d-f1f8f5101fc8",
   "metadata": {},
   "outputs": [],
   "source": [
    "# Confusion Matrix\n",
    "cm_log = confusion_matrix(ytest, lg_pred)\n",
    "disp_log = ConfusionMatrixDisplay(confusion_matrix=cm_log, display_labels=['Normal', 'Attack'])\n",
    "disp_log.plot(cmap='Blues')\n",
    "plt.title('Confusion Matrix - Logistic Regression')\n",
    "plt.show()"
   ]
  },
  {
   "cell_type": "code",
   "execution_count": null,
   "id": "61183ea9-2681-4b88-8530-10c28df45d96",
   "metadata": {},
   "outputs": [],
   "source": [
    "# Step 8: Build Decision Tree model\n",
    "dt_model = DecisionTreeClassifier()\n",
    "dt_model.fit(xtrain, ytrain)  # No scaling needed for trees"
   ]
  },
  {
   "cell_type": "code",
   "execution_count": null,
   "id": "cf7c265c-710a-498a-8e53-7fdd2c569eee",
   "metadata": {},
   "outputs": [],
   "source": [
    "# Predict\n",
    "y_pred_dt = dt_model.predict(xtest)"
   ]
  },
  {
   "cell_type": "code",
   "execution_count": null,
   "id": "c4f05449-543e-40ea-80b6-07239ed21d9e",
   "metadata": {},
   "outputs": [],
   "source": [
    "pd.crosstab(ytest,y_pred_dt)"
   ]
  },
  {
   "cell_type": "code",
   "execution_count": null,
   "id": "1b0a68ed-0ce1-41e3-9ff9-16ee9ba38d15",
   "metadata": {},
   "outputs": [],
   "source": [
    "7740/(7740+989)"
   ]
  },
  {
   "cell_type": "code",
   "execution_count": null,
   "id": "2eb4a042-9538-48a7-be0b-8d4734940dc7",
   "metadata": {},
   "outputs": [],
   "source": [
    "# Confusion Matrix\n",
    "cm_dt = confusion_matrix(ytest, y_pred_dt)\n",
    "disp_dt = ConfusionMatrixDisplay(confusion_matrix=cm_dt, display_labels=['Normal', 'Attack'])\n",
    "disp_dt.plot(cmap='Blues')\n",
    "plt.title('Confusion Matrix - Decision Tree')\n",
    "plt.show()"
   ]
  },
  {
   "cell_type": "code",
   "execution_count": null,
   "id": "b3cd7d37-a4a3-43fd-b15b-ec133d471b5d",
   "metadata": {},
   "outputs": [],
   "source": [
    "7740/(7740+989)"
   ]
  },
  {
   "cell_type": "code",
   "execution_count": null,
   "id": "0f32db8e-c5bd-4769-a2ac-2ae9c6df74a0",
   "metadata": {},
   "outputs": [],
   "source": [
    "(7740+7678)/17470"
   ]
  },
  {
   "cell_type": "code",
   "execution_count": null,
   "id": "cc7aac1a-ae54-4ec0-a43f-2d1b77b3b7e3",
   "metadata": {},
   "outputs": [],
   "source": [
    "# Visualize Decision Tree (limit depth for visibility)\n",
    "plt.figure(figsize=(12, 8))\n",
    "plot_tree(dt_model,feature_names=x.columns, class_names=['Normal', 'Attack'], filled=True)\n",
    "plt.title('Decision Tree Visualization (Partial)')\n",
    "plt.show()"
   ]
  },
  {
   "cell_type": "code",
   "execution_count": null,
   "id": "a9ae447c-7c31-4cf3-95d6-6035f9545f2e",
   "metadata": {},
   "outputs": [],
   "source": [
    "# Step 9: Decision Tree with Hyperparameters and Pruning\n",
    "# Hyperparameters: max_depth, min_samples_leaf\n",
    "dt_tuned = DecisionTreeClassifier(max_depth=6, max_leaf_nodes=10, min_samples_leaf=1, random_state=42)\n",
    "dt_tuned.fit(xtrain, ytrain)\n",
    "y_pred_dt_tuned = dt_tuned.predict(xtest)\n",
    "print(f\"Tuned Decision Tree Accuracy: {accuracy_score(ytest, y_pred_dt_tuned):.2f}\")"
   ]
  },
  {
   "cell_type": "code",
   "execution_count": null,
   "id": "86fcdc73-43dd-4a88-a188-89f503650a99",
   "metadata": {},
   "outputs": [],
   "source": [
    "pd.crosstab(ytest,y_pred_dt_tuned)"
   ]
  },
  {
   "cell_type": "code",
   "execution_count": null,
   "id": "4db34479-ab53-4c86-811a-f3e4c71ca4f4",
   "metadata": {},
   "outputs": [],
   "source": [
    "# Visualize Decision Tree (limit depth for visibility)\n",
    "plt.figure(figsize=(12, 8))\n",
    "plot_tree(dt_tuned,max_depth=3,feature_names=x.columns, class_names=['Normal', 'Attack'], filled=True)\n",
    "plt.title('Decision Tree Visualization (Partial)')\n",
    "plt.show()"
   ]
  },
  {
   "cell_type": "code",
   "execution_count": null,
   "id": "cea0e1b0-36db-4c65-886e-b876274eb784",
   "metadata": {},
   "outputs": [],
   "source": [
    "pip install matplotlib==3.4.3"
   ]
  },
  {
   "cell_type": "code",
   "execution_count": null,
   "id": "a997bb8e-43ed-4337-921b-2ebacc963aab",
   "metadata": {},
   "outputs": [],
   "source": [
    "from dtreeplt import dtreeplt"
   ]
  },
  {
   "cell_type": "code",
   "execution_count": null,
   "id": "86ccd48f-5885-483d-afcf-1f637e631788",
   "metadata": {},
   "outputs": [],
   "source": [
    "dtree_reg = dtreeplt(\n",
    "model = dt_tuned,\n",
    "feature_names=xtrain.columns,\n",
    "target_names= np.array(['Normal', 'Attack']))"
   ]
  },
  {
   "cell_type": "code",
   "execution_count": null,
   "id": "c018b58c-647e-407d-8ae1-0341af2272b1",
   "metadata": {},
   "outputs": [],
   "source": [
    "dtree_reg.view()"
   ]
  },
  {
   "cell_type": "code",
   "execution_count": null,
   "id": "1c5b674c-0ffc-4653-9e8f-f6b08ca9bd93",
   "metadata": {},
   "outputs": [],
   "source": [
    "import matplotlib.pyplot as plt\n",
    "from sklearn.tree import plot_tree\n",
    "\n",
    "# Visualize the decision tree up to depth 3\n",
    "plt.figure(figsize=(12, 8))\n",
    "plot_tree(\n",
    "    dt_tuned,\n",
    "    max_depth=3,\n",
    "    feature_names=x.columns,\n",
    "    class_names=['Normal', 'Attack'],\n",
    "    filled=True,\n",
    "    rounded=True\n",
    ")\n",
    "plt.title('Decision Tree Visualization (Partial, max_depth=3)')\n",
    "plt.show()"
   ]
  },
  {
   "cell_type": "code",
   "execution_count": null,
   "id": "9ade0927-2467-4599-945f-8a0e3922d5b1",
   "metadata": {},
   "outputs": [],
   "source": [
    "from sklearn.model_selection import GridSearchCV"
   ]
  },
  {
   "cell_type": "code",
   "execution_count": null,
   "id": "c88cb01c-5257-4b72-954a-5257faf52a10",
   "metadata": {},
   "outputs": [],
   "source": [
    "DecisionTreeClassifier(max_depth=2,max_leaf_nodes=5,min_samples_leaf=1)"
   ]
  },
  {
   "cell_type": "code",
   "execution_count": null,
   "id": "507be0e0-32fd-49d1-aa19-0e06986acedd",
   "metadata": {},
   "outputs": [],
   "source": [
    "params = {'max_depth' : [2,4,6,8,10],\n",
    "         'max_leaf_nodes' : [5,10],\n",
    "         'min_samples_leaf' : [1,2]}\n",
    "\n",
    "clf = DecisionTreeClassifier()\n",
    "gcv = GridSearchCV(estimator=clf, param_grid=params)\n",
    "gcv.fit(xtrain,ytrain)"
   ]
  },
  {
   "cell_type": "code",
   "execution_count": null,
   "id": "22066288-9fe0-428a-8a25-c8b3e3b8ae8b",
   "metadata": {},
   "outputs": [],
   "source": [
    "gcv.best_params_"
   ]
  },
  {
   "cell_type": "code",
   "execution_count": null,
   "id": "2e700309-19c5-46a1-b5e1-c68a1be5f17d",
   "metadata": {},
   "outputs": [],
   "source": [
    "# Pruning using cost complexity\n",
    "path = dt_model.cost_complexity_pruning_path(xtrain, ytrain)\n",
    "ccp_alphas = path.ccp_alphas\n",
    "dt_pruned = DecisionTreeClassifier(ccp_alpha=ccp_alphas[-2], random_state=42)  # Non-zero alpha for pruning\n",
    "dt_pruned.fit(xtrain, ytrain)\n",
    "y_pred_dt_pruned = dt_pruned.predict(xtest)\n",
    "print(f\"Pruned Decision Tree Accuracy: {accuracy_score(ytest, y_pred_dt_pruned):.2f}\")"
   ]
  },
  {
   "cell_type": "code",
   "execution_count": null,
   "id": "c20051a6-e772-4fbd-9781-35a3ad7e7f91",
   "metadata": {},
   "outputs": [],
   "source": [
    "# Step 10: Build Random Forest model\n",
    "rf_model = RandomForestClassifier(n_estimators=100, random_state=42)\n",
    "rf_model.fit(xtrain, ytrain)\n",
    "\n",
    "# Predict\n",
    "y_pred_rf = rf_model.predict(xtest)\n",
    "\n",
    "# Confusion Matrix\n",
    "cm_rf = confusion_matrix(ytest, y_pred_rf)\n",
    "disp_rf = ConfusionMatrixDisplay(confusion_matrix=cm_rf, display_labels=['Normal', 'Attack'])\n",
    "disp_rf.plot(cmap='Blues')\n",
    "plt.title('Confusion Matrix - Random Forest')\n",
    "plt.show()"
   ]
  },
  {
   "cell_type": "code",
   "execution_count": null,
   "id": "e0f7ebc8-997e-4da6-a296-aadf99d1b900",
   "metadata": {},
   "outputs": [],
   "source": [
    "7983/(1049+7983)"
   ]
  },
  {
   "cell_type": "code",
   "execution_count": null,
   "id": "a7e292f0-d20e-48ff-94cb-3e512674c04f",
   "metadata": {},
   "outputs": [],
   "source": [
    "rf_model.feature_importances_"
   ]
  },
  {
   "cell_type": "code",
   "execution_count": null,
   "id": "170918d0-23a2-416f-a617-ff2c7dbf42c0",
   "metadata": {},
   "outputs": [],
   "source": [
    "xtrain.columns"
   ]
  },
  {
   "cell_type": "code",
   "execution_count": null,
   "id": "a0694651-0652-4abd-857c-2580e4a102c2",
   "metadata": {},
   "outputs": [],
   "source": [
    "# Data Preparation / Hyper parameter tuning / Model Evaluation"
   ]
  },
  {
   "cell_type": "code",
   "execution_count": null,
   "id": "35ce2552-f4c9-40c8-b0e4-0ac72111c5f7",
   "metadata": {},
   "outputs": [],
   "source": [
    "# Data Pre-processing --> Data Transformation [Standardisation, Normalisation]\n",
    "\n",
    "# Sampling --> Train/Test, Cross Validation [KFold CV, Repeated K-fold CV, Stratified CV]\n",
    "\n",
    "# Feature Selection --> P-Value,Step function, Lasso, AUC(ROC), K-Best,Chi-square,RFE\n",
    "\n",
    "# Feature Extraction --> PCA, LDA\n",
    "\n",
    "# Handling Class Imbalances --> Undersampling, Oversampling, SMOTE"
   ]
  },
  {
   "cell_type": "code",
   "execution_count": null,
   "id": "e6e61d2d-175d-4d1f-8312-23fcfe35cb26",
   "metadata": {},
   "outputs": [],
   "source": [
    "# Standardisation : (xi-mean(x))/std(x) \n",
    "from sklearn.preprocessing import StandardScaler, MinMaxScaler"
   ]
  },
  {
   "cell_type": "code",
   "execution_count": null,
   "id": "042e8fb4-7087-40aa-b3fa-7bcbe54288db",
   "metadata": {},
   "outputs": [],
   "source": [
    "scaler = StandardScaler()\n",
    "X_train_scaled = scaler.fit_transform(X_train)\n",
    "X_test_scaled = scaler.transform(X_test)"
   ]
  },
  {
   "cell_type": "code",
   "execution_count": null,
   "id": "ddace868-75d8-44ac-b51c-467a5aeaf896",
   "metadata": {},
   "outputs": [],
   "source": [
    "# Normalisation : (xi-min(x))/(min(x)-max(x)) --> range function(0,1)"
   ]
  },
  {
   "cell_type": "code",
   "execution_count": null,
   "id": "ba6733f3-fee1-4452-975e-5f3af81979a6",
   "metadata": {},
   "outputs": [],
   "source": [
    "# Kfold CV --> 3 folds (n_splits = 3)\n",
    "# 10,000 Records"
   ]
  },
  {
   "cell_type": "code",
   "execution_count": null,
   "id": "425fa011-1b62-4c82-a81f-e5fcd36bc3c4",
   "metadata": {},
   "outputs": [],
   "source": [
    "# 1st chunk --> 3500\n",
    "\n",
    "# 2nd chunk --> 3500\n",
    "\n",
    "# 3rd chunk --> 3000"
   ]
  },
  {
   "cell_type": "code",
   "execution_count": null,
   "id": "4bcd1512-c7c3-4857-8cab-879524584896",
   "metadata": {},
   "outputs": [],
   "source": [
    "# 1st model --> use 1st and 2nd chunk for training and test on 3rd chunk --> accuracy (80%)\n",
    "\n",
    "# 2nd model --> use 1st and 3rd chunk for training and test on 2nd chunk --> accuracy (70%)\n",
    "\n",
    "# 3rd model --> use 3rd and 2nd chunk for training and test on 1st chunk --> accuracy (75%)"
   ]
  },
  {
   "cell_type": "code",
   "execution_count": null,
   "id": "a5ae4cb6-6b08-4607-85ce-46d3c8badd3c",
   "metadata": {},
   "outputs": [],
   "source": [
    "# return the avg(3 models accuracy as the avg accuracy of a algorithm on the given dataset)"
   ]
  },
  {
   "cell_type": "code",
   "execution_count": null,
   "id": "ad5ff030-007b-4115-bb35-3c99efc70473",
   "metadata": {},
   "outputs": [],
   "source": [
    "# Feature Selection Techniques"
   ]
  },
  {
   "cell_type": "code",
   "execution_count": null,
   "id": "87c29e96-c62b-4273-bfa5-505fada043f8",
   "metadata": {},
   "outputs": [],
   "source": [
    "from sklearn.feature_selection import SelectKBest, chi2, RFE"
   ]
  },
  {
   "cell_type": "code",
   "execution_count": null,
   "id": "2cf8ce7e-a09b-4a42-87aa-7f9fa53f53cc",
   "metadata": {},
   "outputs": [],
   "source": [
    "lr = LogisticRegression(max_iter=1000)"
   ]
  },
  {
   "cell_type": "code",
   "execution_count": null,
   "id": "76d6f4a8-6a6a-46f6-bea5-5b44bb9739b3",
   "metadata": {},
   "outputs": [],
   "source": [
    "rfe_lr = RFE(lr, n_features_to_select=5)\n",
    "result = rfe_lr.fit(xtrain,ytrain)"
   ]
  },
  {
   "cell_type": "code",
   "execution_count": null,
   "id": "472e6082-cb05-4a0b-a852-df408b6be4a6",
   "metadata": {},
   "outputs": [],
   "source": [
    "result.ranking_"
   ]
  },
  {
   "cell_type": "code",
   "execution_count": null,
   "id": "fc31c488-b20e-46f8-8ab9-7fe382a1cc22",
   "metadata": {},
   "outputs": [],
   "source": [
    "# Chi2 with Kbest"
   ]
  },
  {
   "cell_type": "code",
   "execution_count": null,
   "id": "b8d8ed7e-4e75-4749-a91a-2fbe8320788b",
   "metadata": {},
   "outputs": [],
   "source": [
    "model = SelectKBest(score_func=chi2,k=5)\n",
    "result_kbest = model.fit(x,y)"
   ]
  },
  {
   "cell_type": "code",
   "execution_count": null,
   "id": "46eef8e8-ee15-45a4-8a9c-f0ed691287c9",
   "metadata": {},
   "outputs": [],
   "source": [
    "result_kbest.scores_"
   ]
  },
  {
   "cell_type": "code",
   "execution_count": null,
   "id": "ef5d3a25-13c9-4d68-85b1-062420260e95",
   "metadata": {},
   "outputs": [],
   "source": [
    "for i in result_kbest.scores_:\n",
    "    print(round(i,2))"
   ]
  },
  {
   "cell_type": "code",
   "execution_count": null,
   "id": "2c52678f-8ddd-4305-92ac-1df3cbdc4554",
   "metadata": {},
   "outputs": [],
   "source": [
    "xtrain.columns"
   ]
  },
  {
   "cell_type": "code",
   "execution_count": null,
   "id": "b9d2d427-668a-438b-ab72-b19ca2158197",
   "metadata": {},
   "outputs": [],
   "source": [
    "result_kbest.get_support()"
   ]
  },
  {
   "cell_type": "code",
   "execution_count": null,
   "id": "ec922a41-a936-42e7-8850-06e0947ef676",
   "metadata": {},
   "outputs": [],
   "source": [
    "from sklearn.ensemble import ExtraTreesClassifier"
   ]
  },
  {
   "cell_type": "code",
   "execution_count": null,
   "id": "bf7eeba5-87d3-4e0a-a820-247f73f62fa2",
   "metadata": {},
   "outputs": [],
   "source": [
    "model = ExtraTreesClassifier()"
   ]
  },
  {
   "cell_type": "code",
   "execution_count": null,
   "id": "bbad37e7-b811-4b3b-9a9f-c458a0aa4678",
   "metadata": {},
   "outputs": [],
   "source": [
    "model.fit(x,y)"
   ]
  },
  {
   "cell_type": "code",
   "execution_count": null,
   "id": "57b98b59-c23a-4e75-a352-a0c0fc0d9435",
   "metadata": {},
   "outputs": [],
   "source": [
    "model.feature_importances_"
   ]
  },
  {
   "cell_type": "code",
   "execution_count": null,
   "id": "2629c312-ba6e-4f3c-8822-b057a3819ecd",
   "metadata": {},
   "outputs": [],
   "source": [
    "# Handling Class imbalance\n",
    "\n",
    "# Under Sampling\n",
    "\n",
    "# Over Sampling\n",
    "\n",
    "# SMOTE --> Synthetic Minority Over Sampling"
   ]
  },
  {
   "cell_type": "code",
   "execution_count": null,
   "id": "dfc32fbd-f49f-4b57-973b-daa34e44faf6",
   "metadata": {},
   "outputs": [],
   "source": [
    "from imblearn.over_sampling import SMOTE"
   ]
  },
  {
   "cell_type": "code",
   "execution_count": null,
   "id": "2af22d0c-cea3-4161-9757-b1cc9b122ac4",
   "metadata": {},
   "outputs": [],
   "source": [
    "df_encoded[df_encoded['label']==1][:6]"
   ]
  },
  {
   "cell_type": "code",
   "execution_count": null,
   "id": "476e9cd6-baf1-45f0-9603-824898d46eab",
   "metadata": {},
   "outputs": [],
   "source": [
    "s = SMOTE()"
   ]
  },
  {
   "cell_type": "code",
   "execution_count": null,
   "id": "ac653498-02e9-491e-9710-5efd21ed0485",
   "metadata": {},
   "outputs": [],
   "source": [
    "x_train_smote, y_train_smote = s.fit_sample(x_train,y_train)"
   ]
  },
  {
   "cell_type": "code",
   "execution_count": null,
   "id": "7f7304b8-b973-41ff-919b-7d91f01be646",
   "metadata": {},
   "outputs": [],
   "source": [
    "# Evaluation of Algorithms"
   ]
  },
  {
   "cell_type": "code",
   "execution_count": null,
   "id": "f6b5a190-a938-4f67-9839-fd0c8b043c52",
   "metadata": {},
   "outputs": [],
   "source": [
    "from sklearn.linear_model import LogisticRegression\n",
    "from sklearn.tree import DecisionTreeClassifier\n",
    "from sklearn.neighbors import KNeighborsClassifier\n",
    "from sklearn.svm import SVC\n",
    "from sklearn.discriminant_analysis import LinearDiscriminantAnalysis\n",
    "from sklearn.naive_bayes import GaussianNB\n",
    "from sklearn.ensemble import RandomForestClassifier\n",
    "from xgboost import XGBClassifier"
   ]
  },
  {
   "cell_type": "code",
   "execution_count": null,
   "id": "dc8aae97-9392-48a7-a448-85cc57b7c47b",
   "metadata": {},
   "outputs": [],
   "source": [
    "models = []"
   ]
  },
  {
   "cell_type": "code",
   "execution_count": null,
   "id": "3f4736eb-39a4-44e2-9f02-f040c44df5b8",
   "metadata": {},
   "outputs": [],
   "source": [
    "models.append((\"LR\", LogisticRegression()))\n",
    "models.append((\"Tree\", DecisionTreeClassifier(max_depth=6,max_leaf_nodes=10)))\n",
    "models.append((\"SVM\", SVC()))\n",
    "models.append((\"RF\", RandomForestClassifier()))\n",
    "models.append((\"KNN\", KNeighborsClassifier()))\n",
    "models.append((\"LDA\", LinearDiscriminantAnalysis()))\n",
    "models.append((\"NB\", GaussianNB()))\n",
    "models.append((\"XGB\", XGBClassifier()))"
   ]
  },
  {
   "cell_type": "code",
   "execution_count": null,
   "id": "0b02364a-5721-4593-baae-255109338ea8",
   "metadata": {},
   "outputs": [],
   "source": [
    "models"
   ]
  },
  {
   "cell_type": "code",
   "execution_count": null,
   "id": "26311201-5ef2-4338-9b56-c0da82aee824",
   "metadata": {},
   "outputs": [],
   "source": [
    "results = []\n",
    "names = []"
   ]
  },
  {
   "cell_type": "code",
   "execution_count": null,
   "id": "71e62d7b-a6cc-493c-a7e9-18a64296abf7",
   "metadata": {},
   "outputs": [],
   "source": [
    "from sklearn.model_selection import KFold , cross_val_score, GridSearchCV"
   ]
  },
  {
   "cell_type": "code",
   "execution_count": null,
   "id": "6c7015bc-a103-41ce-acf2-95f3bc284077",
   "metadata": {},
   "outputs": [
    {
     "name": "stdout",
     "output_type": "stream",
     "text": [
      "LR: 49.527607 (40.489871)\n",
      "Tree: 53.478271 (43.925599)\n"
     ]
    }
   ],
   "source": [
    "for name,model in models:\n",
    "    kfold = KFold(n_splits=5)\n",
    "    cv_results = cross_val_score(model,x,y,cv=kfold, scoring=\"precision\")\n",
    "    results.append(cv_results)\n",
    "    names.append(name)\n",
    "    \n",
    "    outcome = \"%s: %f (%f)\" % (name,cv_results.mean()*100, cv_results.std()*100)\n",
    "    print(outcome)"
   ]
  },
  {
   "cell_type": "code",
   "execution_count": null,
   "id": "9cab3ea6-e3a9-4fcd-9f82-823c869d05db",
   "metadata": {},
   "outputs": [],
   "source": [
    "fig = plt.figure()\n",
    "axis = fig.add_subplot(111)\n",
    "plt.boxplot(results)\n",
    "axis.set_xticklabels(names)\n",
    "plt.show()"
   ]
  },
  {
   "cell_type": "code",
   "execution_count": null,
   "id": "28176d70-9397-40bc-955e-aa98c7fe3edb",
   "metadata": {},
   "outputs": [],
   "source": []
  }
 ],
 "metadata": {
  "kernelspec": {
   "display_name": "Python 3 (ipykernel)",
   "language": "python",
   "name": "python3"
  },
  "language_info": {
   "codemirror_mode": {
    "name": "ipython",
    "version": 3
   },
   "file_extension": ".py",
   "mimetype": "text/x-python",
   "name": "python",
   "nbconvert_exporter": "python",
   "pygments_lexer": "ipython3",
   "version": "3.12.4"
  }
 },
 "nbformat": 4,
 "nbformat_minor": 5
}
