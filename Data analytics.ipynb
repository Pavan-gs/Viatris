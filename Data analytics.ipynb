{
 "cells": [
  {
   "cell_type": "raw",
   "id": "39d8b83e-c63d-45ae-b3e0-9a32549fb6d2",
   "metadata": {},
   "source": [
    "Data structures\n",
    "Control flow statements --> conditions, iterations\n",
    "Functions\n",
    "Functional programming constructs --> Map, reduce, filter, lambda, list comprehensions\n",
    "Modules & packages\n",
    "Numpy"
   ]
  },
  {
   "cell_type": "code",
   "execution_count": null,
   "id": "77213e2a-3afe-4d43-819e-742e9ddd7821",
   "metadata": {},
   "outputs": [],
   "source": [
    "# Pandas --> Data tool, workhorse related to anything about data in Python"
   ]
  },
  {
   "cell_type": "code",
   "execution_count": null,
   "id": "07a423ad-2387-42e2-b090-7f45c6cb8c41",
   "metadata": {},
   "outputs": [],
   "source": [
    "# Series\n",
    "# Dataframes"
   ]
  },
  {
   "cell_type": "code",
   "execution_count": null,
   "id": "a189e3d3-4c80-4557-8c9f-f2062ad5e327",
   "metadata": {},
   "outputs": [],
   "source": [
    "import pandas as pd"
   ]
  },
  {
   "cell_type": "code",
   "execution_count": null,
   "id": "71e45e96-7f0f-44cd-a092-1af597008ebb",
   "metadata": {},
   "outputs": [],
   "source": [
    "import numpy as np"
   ]
  },
  {
   "cell_type": "code",
   "execution_count": null,
   "id": "53dc986a-73c6-4fa6-865d-6dffb106cd9d",
   "metadata": {},
   "outputs": [],
   "source": [
    "s = pd.Series([120, 150, 90, 200, 110])"
   ]
  },
  {
   "cell_type": "code",
   "execution_count": null,
   "id": "e9d00fc3-f659-4d5d-829a-e29837d4a658",
   "metadata": {},
   "outputs": [],
   "source": [
    "s[:3]"
   ]
  },
  {
   "cell_type": "code",
   "execution_count": null,
   "id": "7d35bf3f-81ff-41e6-9277-ec752ad2e4c7",
   "metadata": {},
   "outputs": [],
   "source": [
    "s[2:]"
   ]
  },
  {
   "cell_type": "code",
   "execution_count": null,
   "id": "ac1da516-1144-4f62-a383-efa9af260545",
   "metadata": {},
   "outputs": [],
   "source": [
    "s.index = dt"
   ]
  },
  {
   "cell_type": "code",
   "execution_count": null,
   "id": "5a4883a9-8c56-456d-8994-9f8fa44c66c6",
   "metadata": {},
   "outputs": [],
   "source": [
    "dt=pd.date_range('20250901', periods=5)"
   ]
  },
  {
   "cell_type": "code",
   "execution_count": null,
   "id": "46871116-b067-4b5b-ad4a-f3f116fb2372",
   "metadata": {},
   "outputs": [],
   "source": [
    "pd.date_range('20250901', periods=5, freq='3M')"
   ]
  },
  {
   "cell_type": "code",
   "execution_count": null,
   "id": "e114e83b-932c-4602-8bcc-36e21dcc10f2",
   "metadata": {},
   "outputs": [],
   "source": [
    "help(pd.date_range)"
   ]
  },
  {
   "cell_type": "code",
   "execution_count": null,
   "id": "c53d8ab4-04c4-4321-8379-007c7ee89465",
   "metadata": {},
   "outputs": [],
   "source": [
    "s['2025-09-03']"
   ]
  },
  {
   "cell_type": "code",
   "execution_count": null,
   "id": "74cac305-396c-4761-a7dd-ad90fffe44a9",
   "metadata": {},
   "outputs": [],
   "source": [
    "s[2]"
   ]
  },
  {
   "cell_type": "code",
   "execution_count": null,
   "id": "b9ce6e54-ff60-450c-b652-905047c7f12e",
   "metadata": {},
   "outputs": [],
   "source": [
    "s[:3]"
   ]
  },
  {
   "cell_type": "code",
   "execution_count": null,
   "id": "cad23938-26f0-46fe-bda3-b05dd3696616",
   "metadata": {},
   "outputs": [],
   "source": [
    "s[:'2025-09-03']"
   ]
  },
  {
   "cell_type": "code",
   "execution_count": null,
   "id": "457a1b6b-a138-47b9-9238-2ce5eca05752",
   "metadata": {},
   "outputs": [],
   "source": [
    "s.index=['Server1', 'Server2', 'Server3', 'Server4', 'Server5']"
   ]
  },
  {
   "cell_type": "code",
   "execution_count": null,
   "id": "1f71c007-2980-4eb9-a1e5-ffaec212bdf2",
   "metadata": {},
   "outputs": [],
   "source": [
    "s.mean()"
   ]
  },
  {
   "cell_type": "code",
   "execution_count": null,
   "id": "5c65d37a-842b-4e14-9e87-d5d02fb0fbea",
   "metadata": {},
   "outputs": [],
   "source": [
    "s.std()"
   ]
  },
  {
   "cell_type": "code",
   "execution_count": null,
   "id": "4354d9db-7b5a-45d2-8208-8f47e4218777",
   "metadata": {},
   "outputs": [],
   "source": [
    "dir(s)"
   ]
  },
  {
   "cell_type": "code",
   "execution_count": null,
   "id": "f325ee80-c02e-480f-bcf1-e7158e7f8852",
   "metadata": {},
   "outputs": [],
   "source": [
    "len(s)"
   ]
  },
  {
   "cell_type": "code",
   "execution_count": null,
   "id": "63a007e5-9ae7-4e95-a7e8-67f27e7cac61",
   "metadata": {},
   "outputs": [],
   "source": [
    "# Dataframes --> Collections of rows & columns (more than 1 series)"
   ]
  },
  {
   "cell_type": "code",
   "execution_count": null,
   "id": "93970391-9053-4c41-887f-adeb6e60e463",
   "metadata": {},
   "outputs": [],
   "source": [
    "pd.DataFrame(np.random.randn(2,4))"
   ]
  },
  {
   "cell_type": "code",
   "execution_count": null,
   "id": "a9c4b2c9-3fb6-408d-ba8c-a42a7b5f640d",
   "metadata": {},
   "outputs": [],
   "source": [
    "np.random.randn(2,4)"
   ]
  },
  {
   "cell_type": "code",
   "execution_count": null,
   "id": "842c2a87-4826-460d-bac2-26573f129d75",
   "metadata": {},
   "outputs": [],
   "source": [
    "set([0,1,1,2,3,4])"
   ]
  },
  {
   "cell_type": "code",
   "execution_count": null,
   "id": "1ddd1041-5306-4046-9cf3-049a97cd9040",
   "metadata": {},
   "outputs": [],
   "source": [
    "pd.DataFrame(data=[[10,'normal','162.145.1.0'],[20,'suspicious','10.6.4.2']],index=['Mon','Tue'],\n",
    "             columns=['logs','Type','IP'])"
   ]
  },
  {
   "cell_type": "code",
   "execution_count": null,
   "id": "7097ad42-983f-4dd4-adcf-48c68952150e",
   "metadata": {},
   "outputs": [],
   "source": [
    "def fn(x,y,z=10):\n",
    "    return(x+y+z)"
   ]
  },
  {
   "cell_type": "code",
   "execution_count": null,
   "id": "3a6eb5c3-cead-45f4-860e-caeff9cd2558",
   "metadata": {},
   "outputs": [],
   "source": [
    "fn(10,20,5)"
   ]
  },
  {
   "cell_type": "code",
   "execution_count": null,
   "id": "15378bf3-d974-4ddd-a6a3-942d0a8d58ee",
   "metadata": {},
   "outputs": [],
   "source": [
    "fn(x=10,y=20)"
   ]
  },
  {
   "cell_type": "code",
   "execution_count": null,
   "id": "bcae3cce-361a-4198-be5f-7de13b4e5f20",
   "metadata": {},
   "outputs": [],
   "source": [
    "df = pd.DataFrame({'Server': ['Web1', 'Web2', 'DB1', 'DB2', 'App1'], \n",
    "                   'CPU_Usage': [75, 60, 85, 45, 70], 'Memory_Usage': [80, 65, 90, 50, 70], \n",
    "                   'Uptime_Hours': [720, 600, 800, 500, 650]})"
   ]
  },
  {
   "cell_type": "raw",
   "id": "57b90728-73ea-43b2-a54c-7738d017d563",
   "metadata": {},
   "source": [
    "Indexing --> grabbing data \n",
    "[] --> Access columns by label and multiple rows by integer position\n",
    "loc --> Access both rows and columns by label\n",
    "iloc --> Integer based indexing"
   ]
  },
  {
   "cell_type": "code",
   "execution_count": null,
   "id": "aab81240-be1c-4066-908c-e8128618def1",
   "metadata": {},
   "outputs": [],
   "source": [
    "df['Server'][:3]"
   ]
  },
  {
   "cell_type": "code",
   "execution_count": null,
   "id": "e37bbcb9-c65f-4076-ac1b-be5c66142604",
   "metadata": {},
   "outputs": [],
   "source": [
    "df[['Server','CPU_Usage']][:3]"
   ]
  },
  {
   "cell_type": "code",
   "execution_count": null,
   "id": "f6cf8e4b-00f5-43e7-90b5-7953576550b1",
   "metadata": {},
   "outputs": [],
   "source": [
    "np.array([1,2,3,4]).reshape(2,2)"
   ]
  },
  {
   "cell_type": "code",
   "execution_count": null,
   "id": "5aebe478-2a41-4be9-8b52-0bb7389df4ed",
   "metadata": {},
   "outputs": [],
   "source": [
    "df[2:][['Memory_Usage','Uptime_Hours']]"
   ]
  },
  {
   "cell_type": "code",
   "execution_count": null,
   "id": "f2e0b6bc-5a6b-43f2-a2c8-9be9a747ca42",
   "metadata": {},
   "outputs": [],
   "source": [
    "df.index = ['flask','django','mysql','oracle','ecomm']"
   ]
  },
  {
   "cell_type": "code",
   "execution_count": null,
   "id": "3999b77a-b565-4ac7-bd3d-a5853a346a27",
   "metadata": {},
   "outputs": [],
   "source": [
    "df.loc[['mysql','flask']][['Server','CPU_Usage']]"
   ]
  },
  {
   "cell_type": "code",
   "execution_count": null,
   "id": "6aa09900-1f8a-4ceb-9c20-72b82896a5f8",
   "metadata": {},
   "outputs": [],
   "source": [
    "df.iloc[[2,1,3],:]"
   ]
  },
  {
   "cell_type": "code",
   "execution_count": null,
   "id": "1da16aa1-4490-457d-b93e-959eb68f4ea6",
   "metadata": {},
   "outputs": [],
   "source": [
    "df.iloc[:4,[0,2,3]]"
   ]
  },
  {
   "cell_type": "code",
   "execution_count": null,
   "id": "ae3d292a-34d7-4559-8169-43bafbe024c3",
   "metadata": {},
   "outputs": [],
   "source": [
    "df.loc['mysql']"
   ]
  },
  {
   "cell_type": "code",
   "execution_count": null,
   "id": "82258a7e-3732-4ee6-b9e3-ca760051d6a9",
   "metadata": {},
   "outputs": [],
   "source": [
    "df['Grade'] = ['A','B','A','C','B']"
   ]
  },
  {
   "cell_type": "code",
   "execution_count": null,
   "id": "68eaab89-0e7c-44cf-a7e5-43a5675ea791",
   "metadata": {},
   "outputs": [],
   "source": [
    "#df.insert(2,'Grade',['A','B','A','C','B'], allow_duplicates=True)"
   ]
  },
  {
   "cell_type": "code",
   "execution_count": null,
   "id": "78137f3e-c2a7-4483-bb8a-f2767b62ae04",
   "metadata": {},
   "outputs": [],
   "source": [
    "#del(df['Grade'])"
   ]
  },
  {
   "cell_type": "code",
   "execution_count": null,
   "id": "1ff29e68-b97e-4f7c-a0db-89b60dfd0988",
   "metadata": {},
   "outputs": [],
   "source": [
    "# axis is set to 0(rows) by default, set it to 1 to refer to columns\n",
    "# inplace is false by default, make it true for permanent operation"
   ]
  },
  {
   "cell_type": "code",
   "execution_count": null,
   "id": "c9322eb0-a206-424b-8732-a00bd820a098",
   "metadata": {},
   "outputs": [],
   "source": [
    "df.drop('Grade', axis=1, inplace=True)"
   ]
  },
  {
   "cell_type": "code",
   "execution_count": null,
   "id": "62f1f9b4-f417-4790-85f8-9093e9332c34",
   "metadata": {},
   "outputs": [],
   "source": [
    "df.insert(2,'Grade',['A','B','A','C','B'])"
   ]
  },
  {
   "cell_type": "code",
   "execution_count": null,
   "id": "3ff2c4fb-689d-45f2-ac66-b953f1fede8e",
   "metadata": {
    "scrolled": true
   },
   "outputs": [],
   "source": [
    "dir(pd.DataFrame)"
   ]
  },
  {
   "cell_type": "code",
   "execution_count": null,
   "id": "9069d133-e31f-4ec6-ab93-f26470733918",
   "metadata": {},
   "outputs": [],
   "source": [
    "dir(df)"
   ]
  },
  {
   "cell_type": "code",
   "execution_count": null,
   "id": "7f53ddcd-99ab-4236-8676-02d1c109a4c9",
   "metadata": {},
   "outputs": [],
   "source": [
    "df.loc['Ent'] = ['App2',80,'A',80,787]"
   ]
  },
  {
   "cell_type": "code",
   "execution_count": null,
   "id": "5944d844-6c2c-4108-afb9-995840ac6522",
   "metadata": {},
   "outputs": [],
   "source": [
    "df.drop(5, inplace=True)"
   ]
  },
  {
   "cell_type": "code",
   "execution_count": null,
   "id": "c4d835a0-b825-4553-be3c-be467641940f",
   "metadata": {},
   "outputs": [],
   "source": [
    "# Conditional subsetting\n",
    "df[df['Grade']=='A']"
   ]
  },
  {
   "cell_type": "code",
   "execution_count": null,
   "id": "c86baded-a5aa-45c0-9c67-81b2306f8eb9",
   "metadata": {},
   "outputs": [],
   "source": [
    "df[(df['Grade']=='A') & (df['Uptime_Hours']<750)]"
   ]
  },
  {
   "cell_type": "code",
   "execution_count": null,
   "id": "55500361-64e4-4f96-995d-832ea8062020",
   "metadata": {},
   "outputs": [],
   "source": [
    "df[(df['Grade']=='A') | (df['Uptime_Hours']<750)]"
   ]
  },
  {
   "cell_type": "code",
   "execution_count": null,
   "id": "b8471073-226b-4515-952e-d54b33419037",
   "metadata": {},
   "outputs": [],
   "source": [
    "df['Server'][3] = 'db2'"
   ]
  },
  {
   "cell_type": "code",
   "execution_count": null,
   "id": "cd4807ba-a97c-4749-bc62-b4266ca528e9",
   "metadata": {},
   "outputs": [],
   "source": [
    "df['Server'].str.lower()"
   ]
  },
  {
   "cell_type": "code",
   "execution_count": null,
   "id": "0db965ca-aaa5-441d-9b72-95b524f9b0c8",
   "metadata": {},
   "outputs": [],
   "source": [
    "df[df['Server'].str.lower()=='db2']"
   ]
  },
  {
   "cell_type": "code",
   "execution_count": null,
   "id": "30f6126c-4b9e-4688-a5de-85d42a3d95b1",
   "metadata": {},
   "outputs": [],
   "source": [
    "df['Grade'][0] = 'a'"
   ]
  },
  {
   "cell_type": "code",
   "execution_count": null,
   "id": "ccf992ad-0981-4374-b53c-00db897246f5",
   "metadata": {},
   "outputs": [],
   "source": [
    "df[df['Grade'].str.lower()=='a']"
   ]
  },
  {
   "cell_type": "code",
   "execution_count": null,
   "id": "de61724d-6e76-489e-be35-1374b65fdb76",
   "metadata": {},
   "outputs": [],
   "source": [
    "df.reset_index(inplace=True)"
   ]
  },
  {
   "cell_type": "code",
   "execution_count": null,
   "id": "f0c2d574-7d4d-4c24-b399-d6986ba74cc9",
   "metadata": {},
   "outputs": [],
   "source": [
    "df.rename(columns={\"index\": \"S/W\"})"
   ]
  },
  {
   "cell_type": "code",
   "execution_count": null,
   "id": "9df647aa-8050-4134-99da-ce34ab99c60a",
   "metadata": {},
   "outputs": [],
   "source": [
    "#df.reset_index(drop=True, inplace=True)"
   ]
  },
  {
   "cell_type": "code",
   "execution_count": null,
   "id": "746ae36c-cbdc-4dfa-bc83-3f68137bffe9",
   "metadata": {},
   "outputs": [],
   "source": [
    "df.sort_index(ascending=False)"
   ]
  },
  {
   "cell_type": "code",
   "execution_count": null,
   "id": "fb05ad9f-2326-4d2e-ba10-a16b9b479b5d",
   "metadata": {},
   "outputs": [],
   "source": [
    "df.columns"
   ]
  },
  {
   "cell_type": "code",
   "execution_count": null,
   "id": "5f4f3091-ab39-4a63-8154-e44748582aab",
   "metadata": {},
   "outputs": [],
   "source": [
    "df.sort_values(by='Uptime_Hours')"
   ]
  },
  {
   "cell_type": "code",
   "execution_count": null,
   "id": "245ee14d-e3e4-42b6-b564-08d1a75cb5be",
   "metadata": {},
   "outputs": [],
   "source": [
    "help(df.reindex)"
   ]
  },
  {
   "cell_type": "code",
   "execution_count": null,
   "id": "25366fa4-3c29-468c-bacb-b8fa2e7ea27b",
   "metadata": {},
   "outputs": [],
   "source": [
    "index = ['Firefox', 'Chrome', 'Safari', 'IE10', 'Konqueror']"
   ]
  },
  {
   "cell_type": "code",
   "execution_count": null,
   "id": "79c0fb12-9df3-4a4b-ac95-6ffcd2d13f8c",
   "metadata": {},
   "outputs": [],
   "source": [
    "df = pd.DataFrame({'http_status': [200, 200, 404, 404, 301],\n",
    "                   'response_time': [0.04, 0.02, 0.07, 0.08, 1.0]},index=index)                  "
   ]
  },
  {
   "cell_type": "code",
   "execution_count": null,
   "id": "a298c1fc-b2e5-4d10-b231-20f48a087dc8",
   "metadata": {},
   "outputs": [],
   "source": [
    "new_index = ['Safari', 'Iceweasel', 'Comodo Dragon', 'IE10','Chrome']"
   ]
  },
  {
   "cell_type": "code",
   "execution_count": null,
   "id": "f91f0b19-029e-4074-bf55-adb562a5c32c",
   "metadata": {},
   "outputs": [],
   "source": [
    "df.reindex(new_index)"
   ]
  },
  {
   "cell_type": "raw",
   "id": "dcba21b9-49c4-4217-bc54-bd460eda60b1",
   "metadata": {},
   "source": [
    "# Data Science lifecycle\n",
    "\n",
    "Data Engineering --> Collect, store, process & manage [RDBMS,DWH, Hadoop/spark,cloud]\n",
    "\n",
    "Data analytics --> Analysis, maths, stats [R, Pandas, sql]\n",
    "\n",
    "Business Intelligence --> Power BI, Tableau, Qlikview\n",
    "\n",
    "Advanced analytics --> ML, DL, AI\n",
    "\n",
    "Solution development"
   ]
  },
  {
   "cell_type": "code",
   "execution_count": null,
   "id": "57b7232c-c7a4-4a5f-943b-dac439554d70",
   "metadata": {},
   "outputs": [],
   "source": [
    "'i\\'m good'"
   ]
  },
  {
   "cell_type": "code",
   "execution_count": null,
   "id": "5c115b96-316c-4f3a-bcff-7b8b62665992",
   "metadata": {},
   "outputs": [],
   "source": [
    "pwd"
   ]
  },
  {
   "cell_type": "code",
   "execution_count": null,
   "id": "05aa2464-a563-4f9c-8463-670929e7a5a9",
   "metadata": {},
   "outputs": [],
   "source": [
    "df = pd.read_csv(\"netflow_dataset.csv\")"
   ]
  },
  {
   "cell_type": "code",
   "execution_count": null,
   "id": "3fbc7311-13b5-4eab-b47c-9b6aed5f73ac",
   "metadata": {},
   "outputs": [],
   "source": [
    "df[:2]"
   ]
  },
  {
   "cell_type": "code",
   "execution_count": null,
   "id": "03cc647c-0d43-4114-abee-169b79b27ae7",
   "metadata": {},
   "outputs": [],
   "source": [
    "df.shape"
   ]
  },
  {
   "cell_type": "code",
   "execution_count": null,
   "id": "b817313a-a86a-4d80-b0f2-e502fce313eb",
   "metadata": {},
   "outputs": [],
   "source": [
    "df.columns"
   ]
  },
  {
   "cell_type": "code",
   "execution_count": null,
   "id": "303bbb47-95fa-4ea8-8e5c-c4a289cf7ce9",
   "metadata": {},
   "outputs": [],
   "source": [
    "df.info()"
   ]
  },
  {
   "cell_type": "code",
   "execution_count": null,
   "id": "cd5fb29b-e1c5-4e19-b87e-03c247c5b57b",
   "metadata": {},
   "outputs": [],
   "source": [
    "df.head(2)"
   ]
  },
  {
   "cell_type": "code",
   "execution_count": null,
   "id": "3b2d7097-d685-446a-9af6-8a81c689653e",
   "metadata": {},
   "outputs": [],
   "source": [
    "# EDA\n",
    "# Univariate\n",
    "# Bivariate"
   ]
  },
  {
   "cell_type": "code",
   "execution_count": null,
   "id": "c7814d27-82aa-4b77-aaa2-901ff7274a8f",
   "metadata": {},
   "outputs": [],
   "source": [
    "# Descriptive stats\n",
    "# Measure of Central tendancy --> mean, median, mode\n",
    "# Measure of Dispersion --> range, variance, std dev, quartiles"
   ]
  },
  {
   "cell_type": "code",
   "execution_count": null,
   "id": "df0ac792-6179-4317-be60-257fb43bdcd0",
   "metadata": {},
   "outputs": [],
   "source": [
    "df['packets'].mean()"
   ]
  },
  {
   "cell_type": "code",
   "execution_count": null,
   "id": "e3cc5979-a03c-49f8-a60c-5577eefd595d",
   "metadata": {},
   "outputs": [],
   "source": [
    "df['packets'].median()"
   ]
  },
  {
   "cell_type": "code",
   "execution_count": null,
   "id": "27b2d6c3-5d10-4418-814d-02d6309fe133",
   "metadata": {},
   "outputs": [],
   "source": [
    "df['packets'].min()"
   ]
  },
  {
   "cell_type": "code",
   "execution_count": null,
   "id": "7d048cbe-b361-4a5f-b82e-60bdfd90182d",
   "metadata": {},
   "outputs": [],
   "source": [
    "df['packets'].max()"
   ]
  },
  {
   "cell_type": "code",
   "execution_count": null,
   "id": "c8690fa9-31e3-44e8-8005-00d926f055bb",
   "metadata": {},
   "outputs": [],
   "source": [
    "import seaborn as sns\n",
    "import warnings\n",
    "warnings.filterwarnings('ignore')"
   ]
  },
  {
   "cell_type": "code",
   "execution_count": null,
   "id": "9fc93e2d-f347-4f7f-8e01-e84f1f927319",
   "metadata": {},
   "outputs": [],
   "source": [
    "sns.distplot(df['packets'])"
   ]
  },
  {
   "cell_type": "code",
   "execution_count": null,
   "id": "4ceb7d81-a397-4926-90da-f59f60f2505d",
   "metadata": {},
   "outputs": [],
   "source": []
  }
 ],
 "metadata": {
  "kernelspec": {
   "display_name": "Python 3 (ipykernel)",
   "language": "python",
   "name": "python3"
  },
  "language_info": {
   "codemirror_mode": {
    "name": "ipython",
    "version": 3
   },
   "file_extension": ".py",
   "mimetype": "text/x-python",
   "name": "python",
   "nbconvert_exporter": "python",
   "pygments_lexer": "ipython3",
   "version": "3.12.4"
  }
 },
 "nbformat": 4,
 "nbformat_minor": 5
}
