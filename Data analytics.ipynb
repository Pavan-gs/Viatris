{
 "cells": [
  {
   "cell_type": "raw",
   "id": "39d8b83e-c63d-45ae-b3e0-9a32549fb6d2",
   "metadata": {},
   "source": [
    "Data structures\n",
    "Control flow statements --> conditions, iterations\n",
    "Functions\n",
    "Functional programming constructs --> Map, reduce, filter, lambda, list comprehensions\n",
    "Modules & packages\n",
    "Numpy"
   ]
  },
  {
   "cell_type": "code",
   "execution_count": null,
   "id": "77213e2a-3afe-4d43-819e-742e9ddd7821",
   "metadata": {},
   "outputs": [],
   "source": [
    "# Pandas --> Data tool, workhorse related to anything about data in Python"
   ]
  },
  {
   "cell_type": "code",
   "execution_count": null,
   "id": "07a423ad-2387-42e2-b090-7f45c6cb8c41",
   "metadata": {},
   "outputs": [],
   "source": [
    "# Series\n",
    "# Dataframes"
   ]
  },
  {
   "cell_type": "code",
   "execution_count": null,
   "id": "a189e3d3-4c80-4557-8c9f-f2062ad5e327",
   "metadata": {},
   "outputs": [],
   "source": [
    "import pandas as pd"
   ]
  },
  {
   "cell_type": "code",
   "execution_count": null,
   "id": "71e45e96-7f0f-44cd-a092-1af597008ebb",
   "metadata": {},
   "outputs": [],
   "source": [
    "import numpy as np"
   ]
  },
  {
   "cell_type": "code",
   "execution_count": null,
   "id": "53dc986a-73c6-4fa6-865d-6dffb106cd9d",
   "metadata": {},
   "outputs": [],
   "source": [
    "s = pd.Series([120, 150, 90, 200, 110])"
   ]
  },
  {
   "cell_type": "code",
   "execution_count": null,
   "id": "e9d00fc3-f659-4d5d-829a-e29837d4a658",
   "metadata": {},
   "outputs": [],
   "source": [
    "s[:3]"
   ]
  },
  {
   "cell_type": "code",
   "execution_count": null,
   "id": "7d35bf3f-81ff-41e6-9277-ec752ad2e4c7",
   "metadata": {},
   "outputs": [],
   "source": [
    "s[2:]"
   ]
  },
  {
   "cell_type": "code",
   "execution_count": null,
   "id": "ac1da516-1144-4f62-a383-efa9af260545",
   "metadata": {},
   "outputs": [],
   "source": [
    "s.index = dt"
   ]
  },
  {
   "cell_type": "code",
   "execution_count": null,
   "id": "5a4883a9-8c56-456d-8994-9f8fa44c66c6",
   "metadata": {},
   "outputs": [],
   "source": [
    "dt=pd.date_range('20250901', periods=5)"
   ]
  },
  {
   "cell_type": "code",
   "execution_count": null,
   "id": "46871116-b067-4b5b-ad4a-f3f116fb2372",
   "metadata": {},
   "outputs": [],
   "source": [
    "pd.date_range('20250901', periods=5, freq='3M')"
   ]
  },
  {
   "cell_type": "code",
   "execution_count": null,
   "id": "e114e83b-932c-4602-8bcc-36e21dcc10f2",
   "metadata": {},
   "outputs": [],
   "source": [
    "help(pd.date_range)"
   ]
  },
  {
   "cell_type": "code",
   "execution_count": null,
   "id": "c53d8ab4-04c4-4321-8379-007c7ee89465",
   "metadata": {},
   "outputs": [],
   "source": [
    "s['2025-09-03']"
   ]
  },
  {
   "cell_type": "code",
   "execution_count": null,
   "id": "74cac305-396c-4761-a7dd-ad90fffe44a9",
   "metadata": {},
   "outputs": [],
   "source": [
    "s[2]"
   ]
  },
  {
   "cell_type": "code",
   "execution_count": null,
   "id": "b9ce6e54-ff60-450c-b652-905047c7f12e",
   "metadata": {},
   "outputs": [],
   "source": [
    "s[:3]"
   ]
  },
  {
   "cell_type": "code",
   "execution_count": null,
   "id": "cad23938-26f0-46fe-bda3-b05dd3696616",
   "metadata": {},
   "outputs": [],
   "source": [
    "s[:'2025-09-03']"
   ]
  },
  {
   "cell_type": "code",
   "execution_count": null,
   "id": "457a1b6b-a138-47b9-9238-2ce5eca05752",
   "metadata": {},
   "outputs": [],
   "source": [
    "s.index=['Server1', 'Server2', 'Server3', 'Server4', 'Server5']"
   ]
  },
  {
   "cell_type": "code",
   "execution_count": null,
   "id": "1f71c007-2980-4eb9-a1e5-ffaec212bdf2",
   "metadata": {},
   "outputs": [],
   "source": [
    "s.mean()"
   ]
  },
  {
   "cell_type": "code",
   "execution_count": null,
   "id": "5c65d37a-842b-4e14-9e87-d5d02fb0fbea",
   "metadata": {},
   "outputs": [],
   "source": [
    "s.std()"
   ]
  },
  {
   "cell_type": "code",
   "execution_count": null,
   "id": "4354d9db-7b5a-45d2-8208-8f47e4218777",
   "metadata": {},
   "outputs": [],
   "source": [
    "dir(s)"
   ]
  },
  {
   "cell_type": "code",
   "execution_count": null,
   "id": "f325ee80-c02e-480f-bcf1-e7158e7f8852",
   "metadata": {},
   "outputs": [],
   "source": [
    "len(s)"
   ]
  },
  {
   "cell_type": "code",
   "execution_count": null,
   "id": "63a007e5-9ae7-4e95-a7e8-67f27e7cac61",
   "metadata": {},
   "outputs": [],
   "source": [
    "# Dataframes --> Collections of rows & columns (more than 1 series)"
   ]
  },
  {
   "cell_type": "code",
   "execution_count": null,
   "id": "93970391-9053-4c41-887f-adeb6e60e463",
   "metadata": {},
   "outputs": [],
   "source": [
    "pd.DataFrame(np.random.randn(2,4))"
   ]
  },
  {
   "cell_type": "code",
   "execution_count": null,
   "id": "a9c4b2c9-3fb6-408d-ba8c-a42a7b5f640d",
   "metadata": {},
   "outputs": [],
   "source": [
    "np.random.randn(2,4)"
   ]
  },
  {
   "cell_type": "code",
   "execution_count": null,
   "id": "842c2a87-4826-460d-bac2-26573f129d75",
   "metadata": {},
   "outputs": [],
   "source": [
    "set([0,1,1,2,3,4])"
   ]
  },
  {
   "cell_type": "code",
   "execution_count": null,
   "id": "1ddd1041-5306-4046-9cf3-049a97cd9040",
   "metadata": {},
   "outputs": [],
   "source": [
    "pd.DataFrame(data=[[10,'normal','162.145.1.0'],[20,'suspicious','10.6.4.2']],index=['Mon','Tue'],\n",
    "             columns=['logs','Type','IP'])"
   ]
  },
  {
   "cell_type": "code",
   "execution_count": null,
   "id": "7097ad42-983f-4dd4-adcf-48c68952150e",
   "metadata": {},
   "outputs": [],
   "source": [
    "def fn(x,y,z=10):\n",
    "    return(x+y+z)"
   ]
  },
  {
   "cell_type": "code",
   "execution_count": null,
   "id": "3a6eb5c3-cead-45f4-860e-caeff9cd2558",
   "metadata": {},
   "outputs": [],
   "source": [
    "fn(10,20,5)"
   ]
  },
  {
   "cell_type": "code",
   "execution_count": null,
   "id": "15378bf3-d974-4ddd-a6a3-942d0a8d58ee",
   "metadata": {},
   "outputs": [],
   "source": [
    "fn(x=10,y=20)"
   ]
  },
  {
   "cell_type": "code",
   "execution_count": null,
   "id": "bcae3cce-361a-4198-be5f-7de13b4e5f20",
   "metadata": {},
   "outputs": [],
   "source": [
    "df = pd.DataFrame({'Server': ['Web1', 'Web2', 'DB1', 'DB2', 'App1'], \n",
    "                   'CPU_Usage': [75, 60, 85, 45, 70], 'Memory_Usage': [80, 65, 90, 50, 70], \n",
    "                   'Uptime_Hours': [720, 600, 800, 500, 650]})"
   ]
  },
  {
   "cell_type": "raw",
   "id": "57b90728-73ea-43b2-a54c-7738d017d563",
   "metadata": {},
   "source": [
    "Indexing --> grabbing data \n",
    "[] --> Access columns by label and multiple rows by integer position\n",
    "loc --> Access both rows and columns by label\n",
    "iloc --> Integer based indexing"
   ]
  },
  {
   "cell_type": "code",
   "execution_count": null,
   "id": "aab81240-be1c-4066-908c-e8128618def1",
   "metadata": {},
   "outputs": [],
   "source": [
    "df['Server'][:3]"
   ]
  },
  {
   "cell_type": "code",
   "execution_count": null,
   "id": "e37bbcb9-c65f-4076-ac1b-be5c66142604",
   "metadata": {},
   "outputs": [],
   "source": [
    "df[['Server','CPU_Usage']][:3]"
   ]
  },
  {
   "cell_type": "code",
   "execution_count": null,
   "id": "f6cf8e4b-00f5-43e7-90b5-7953576550b1",
   "metadata": {},
   "outputs": [],
   "source": [
    "np.array([1,2,3,4]).reshape(2,2)"
   ]
  },
  {
   "cell_type": "code",
   "execution_count": null,
   "id": "5aebe478-2a41-4be9-8b52-0bb7389df4ed",
   "metadata": {},
   "outputs": [],
   "source": [
    "df[2:][['Memory_Usage','Uptime_Hours']]"
   ]
  },
  {
   "cell_type": "code",
   "execution_count": null,
   "id": "f2e0b6bc-5a6b-43f2-a2c8-9be9a747ca42",
   "metadata": {},
   "outputs": [],
   "source": [
    "df.index = ['flask','django','mysql','oracle','ecomm']"
   ]
  },
  {
   "cell_type": "code",
   "execution_count": null,
   "id": "3999b77a-b565-4ac7-bd3d-a5853a346a27",
   "metadata": {},
   "outputs": [],
   "source": [
    "df.loc[['mysql','flask']][['Server','CPU_Usage']]"
   ]
  },
  {
   "cell_type": "code",
   "execution_count": null,
   "id": "6aa09900-1f8a-4ceb-9c20-72b82896a5f8",
   "metadata": {},
   "outputs": [],
   "source": [
    "df.iloc[[2,1,3],:]"
   ]
  },
  {
   "cell_type": "code",
   "execution_count": null,
   "id": "1da16aa1-4490-457d-b93e-959eb68f4ea6",
   "metadata": {},
   "outputs": [],
   "source": [
    "df.iloc[:4,[0,2,3]]"
   ]
  },
  {
   "cell_type": "code",
   "execution_count": null,
   "id": "ae3d292a-34d7-4559-8169-43bafbe024c3",
   "metadata": {},
   "outputs": [],
   "source": [
    "df.loc['mysql']"
   ]
  },
  {
   "cell_type": "code",
   "execution_count": null,
   "id": "82258a7e-3732-4ee6-b9e3-ca760051d6a9",
   "metadata": {},
   "outputs": [],
   "source": [
    "df['Grade'] = ['A','B','A','C','B']"
   ]
  },
  {
   "cell_type": "code",
   "execution_count": null,
   "id": "68eaab89-0e7c-44cf-a7e5-43a5675ea791",
   "metadata": {},
   "outputs": [],
   "source": [
    "#df.insert(2,'Grade',['A','B','A','C','B'], allow_duplicates=True)"
   ]
  },
  {
   "cell_type": "code",
   "execution_count": null,
   "id": "78137f3e-c2a7-4483-bb8a-f2767b62ae04",
   "metadata": {},
   "outputs": [],
   "source": [
    "#del(df['Grade'])"
   ]
  },
  {
   "cell_type": "code",
   "execution_count": null,
   "id": "1ff29e68-b97e-4f7c-a0db-89b60dfd0988",
   "metadata": {},
   "outputs": [],
   "source": [
    "# axis is set to 0(rows) by default, set it to 1 to refer to columns\n",
    "# inplace is false by default, make it true for permanent operation"
   ]
  },
  {
   "cell_type": "code",
   "execution_count": null,
   "id": "c9322eb0-a206-424b-8732-a00bd820a098",
   "metadata": {},
   "outputs": [],
   "source": [
    "df.drop('Grade', axis=1, inplace=True)"
   ]
  },
  {
   "cell_type": "code",
   "execution_count": null,
   "id": "62f1f9b4-f417-4790-85f8-9093e9332c34",
   "metadata": {},
   "outputs": [],
   "source": [
    "df.insert(2,'Grade',['A','B','A','C','B'])"
   ]
  },
  {
   "cell_type": "code",
   "execution_count": null,
   "id": "3ff2c4fb-689d-45f2-ac66-b953f1fede8e",
   "metadata": {
    "scrolled": true
   },
   "outputs": [],
   "source": [
    "dir(pd.DataFrame)"
   ]
  },
  {
   "cell_type": "code",
   "execution_count": null,
   "id": "9069d133-e31f-4ec6-ab93-f26470733918",
   "metadata": {},
   "outputs": [],
   "source": [
    "dir(df)"
   ]
  },
  {
   "cell_type": "code",
   "execution_count": null,
   "id": "7f53ddcd-99ab-4236-8676-02d1c109a4c9",
   "metadata": {},
   "outputs": [],
   "source": [
    "df.loc['Ent'] = ['App2',80,'A',80,787]"
   ]
  },
  {
   "cell_type": "code",
   "execution_count": null,
   "id": "5944d844-6c2c-4108-afb9-995840ac6522",
   "metadata": {},
   "outputs": [],
   "source": [
    "df.drop(5, inplace=True)"
   ]
  },
  {
   "cell_type": "code",
   "execution_count": null,
   "id": "c4d835a0-b825-4553-be3c-be467641940f",
   "metadata": {},
   "outputs": [],
   "source": [
    "# Conditional subsetting\n",
    "df[df['Grade']=='A']"
   ]
  },
  {
   "cell_type": "code",
   "execution_count": null,
   "id": "c86baded-a5aa-45c0-9c67-81b2306f8eb9",
   "metadata": {},
   "outputs": [],
   "source": [
    "df[(df['Grade']=='A') & (df['Uptime_Hours']<750)]"
   ]
  },
  {
   "cell_type": "code",
   "execution_count": null,
   "id": "55500361-64e4-4f96-995d-832ea8062020",
   "metadata": {},
   "outputs": [],
   "source": [
    "df[(df['Grade']=='A') | (df['Uptime_Hours']<750)]"
   ]
  },
  {
   "cell_type": "code",
   "execution_count": null,
   "id": "b8471073-226b-4515-952e-d54b33419037",
   "metadata": {},
   "outputs": [],
   "source": [
    "df['Server'][3] = 'db2'"
   ]
  },
  {
   "cell_type": "code",
   "execution_count": null,
   "id": "cd4807ba-a97c-4749-bc62-b4266ca528e9",
   "metadata": {},
   "outputs": [],
   "source": [
    "df['Server'].str.lower()"
   ]
  },
  {
   "cell_type": "code",
   "execution_count": null,
   "id": "0db965ca-aaa5-441d-9b72-95b524f9b0c8",
   "metadata": {},
   "outputs": [],
   "source": [
    "df[df['Server'].str.lower()=='db2']"
   ]
  },
  {
   "cell_type": "code",
   "execution_count": null,
   "id": "30f6126c-4b9e-4688-a5de-85d42a3d95b1",
   "metadata": {},
   "outputs": [],
   "source": [
    "df['Grade'][0] = 'a'"
   ]
  },
  {
   "cell_type": "code",
   "execution_count": null,
   "id": "ccf992ad-0981-4374-b53c-00db897246f5",
   "metadata": {},
   "outputs": [],
   "source": [
    "df[df['Grade'].str.lower()=='a']"
   ]
  },
  {
   "cell_type": "code",
   "execution_count": null,
   "id": "de61724d-6e76-489e-be35-1374b65fdb76",
   "metadata": {},
   "outputs": [],
   "source": [
    "df.reset_index(inplace=True)"
   ]
  },
  {
   "cell_type": "code",
   "execution_count": null,
   "id": "f0c2d574-7d4d-4c24-b399-d6986ba74cc9",
   "metadata": {},
   "outputs": [],
   "source": [
    "df.rename(columns={\"index\": \"S/W\"})"
   ]
  },
  {
   "cell_type": "code",
   "execution_count": null,
   "id": "9df647aa-8050-4134-99da-ce34ab99c60a",
   "metadata": {},
   "outputs": [],
   "source": [
    "#df.reset_index(drop=True, inplace=True)"
   ]
  },
  {
   "cell_type": "code",
   "execution_count": null,
   "id": "746ae36c-cbdc-4dfa-bc83-3f68137bffe9",
   "metadata": {},
   "outputs": [],
   "source": [
    "df.sort_index(ascending=False)"
   ]
  },
  {
   "cell_type": "code",
   "execution_count": null,
   "id": "fb05ad9f-2326-4d2e-ba10-a16b9b479b5d",
   "metadata": {},
   "outputs": [],
   "source": [
    "df.columns"
   ]
  },
  {
   "cell_type": "code",
   "execution_count": null,
   "id": "5f4f3091-ab39-4a63-8154-e44748582aab",
   "metadata": {},
   "outputs": [],
   "source": [
    "df.sort_values(by='Uptime_Hours')"
   ]
  },
  {
   "cell_type": "code",
   "execution_count": null,
   "id": "245ee14d-e3e4-42b6-b564-08d1a75cb5be",
   "metadata": {},
   "outputs": [],
   "source": [
    "help(df.reindex)"
   ]
  },
  {
   "cell_type": "code",
   "execution_count": null,
   "id": "25366fa4-3c29-468c-bacb-b8fa2e7ea27b",
   "metadata": {},
   "outputs": [],
   "source": [
    "index = ['Firefox', 'Chrome', 'Safari', 'IE10', 'Konqueror']"
   ]
  },
  {
   "cell_type": "code",
   "execution_count": null,
   "id": "79c0fb12-9df3-4a4b-ac95-6ffcd2d13f8c",
   "metadata": {},
   "outputs": [],
   "source": [
    "df = pd.DataFrame({'http_status': [200, 200, 404, 404, 301],\n",
    "                   'response_time': [0.04, 0.02, 0.07, 0.08, 1.0]},index=index)                  "
   ]
  },
  {
   "cell_type": "code",
   "execution_count": null,
   "id": "a298c1fc-b2e5-4d10-b231-20f48a087dc8",
   "metadata": {},
   "outputs": [],
   "source": [
    "new_index = ['Safari', 'Iceweasel', 'Comodo Dragon', 'IE10','Chrome']"
   ]
  },
  {
   "cell_type": "code",
   "execution_count": null,
   "id": "f91f0b19-029e-4074-bf55-adb562a5c32c",
   "metadata": {},
   "outputs": [],
   "source": [
    "df.reindex(new_index)"
   ]
  },
  {
   "cell_type": "raw",
   "id": "dcba21b9-49c4-4217-bc54-bd460eda60b1",
   "metadata": {},
   "source": [
    "# Data Science lifecycle\n",
    "\n",
    "Data Engineering --> Collect, store, process & manage [RDBMS,DWH, Hadoop/spark,cloud]\n",
    "\n",
    "Data analytics --> Analysis, maths, stats [R, Pandas, sql]\n",
    "\n",
    "Business Intelligence --> Power BI, Tableau, Qlikview\n",
    "\n",
    "Advanced analytics --> ML, DL, AI\n",
    "\n",
    "Solution development"
   ]
  },
  {
   "cell_type": "code",
   "execution_count": null,
   "id": "57b7232c-c7a4-4a5f-943b-dac439554d70",
   "metadata": {},
   "outputs": [],
   "source": [
    "'i\\'m good'"
   ]
  },
  {
   "cell_type": "code",
   "execution_count": null,
   "id": "5c115b96-316c-4f3a-bcff-7b8b62665992",
   "metadata": {},
   "outputs": [],
   "source": [
    "pwd"
   ]
  },
  {
   "cell_type": "code",
   "execution_count": null,
   "id": "05aa2464-a563-4f9c-8463-670929e7a5a9",
   "metadata": {},
   "outputs": [],
   "source": [
    "df = pd.read_csv(\"netflow_dataset.csv\")"
   ]
  },
  {
   "cell_type": "code",
   "execution_count": null,
   "id": "3fbc7311-13b5-4eab-b47c-9b6aed5f73ac",
   "metadata": {},
   "outputs": [],
   "source": [
    "df[:2]"
   ]
  },
  {
   "cell_type": "code",
   "execution_count": null,
   "id": "03cc647c-0d43-4114-abee-169b79b27ae7",
   "metadata": {},
   "outputs": [],
   "source": [
    "df.shape"
   ]
  },
  {
   "cell_type": "code",
   "execution_count": null,
   "id": "b817313a-a86a-4d80-b0f2-e502fce313eb",
   "metadata": {},
   "outputs": [],
   "source": [
    "df.columns"
   ]
  },
  {
   "cell_type": "code",
   "execution_count": null,
   "id": "303bbb47-95fa-4ea8-8e5c-c4a289cf7ce9",
   "metadata": {},
   "outputs": [],
   "source": [
    "df.info()"
   ]
  },
  {
   "cell_type": "code",
   "execution_count": null,
   "id": "cd5fb29b-e1c5-4e19-b87e-03c247c5b57b",
   "metadata": {},
   "outputs": [],
   "source": [
    "df.head(2)"
   ]
  },
  {
   "cell_type": "code",
   "execution_count": null,
   "id": "3b2d7097-d685-446a-9af6-8a81c689653e",
   "metadata": {},
   "outputs": [],
   "source": [
    "# EDA\n",
    "# Univariate\n",
    "# Bivariate"
   ]
  },
  {
   "cell_type": "code",
   "execution_count": null,
   "id": "c7814d27-82aa-4b77-aaa2-901ff7274a8f",
   "metadata": {},
   "outputs": [],
   "source": [
    "# Descriptive stats\n",
    "# Measure of Central tendancy --> mean, median, mode\n",
    "# Measure of Dispersion --> range, variance, std dev, quartiles"
   ]
  },
  {
   "cell_type": "code",
   "execution_count": null,
   "id": "df0ac792-6179-4317-be60-257fb43bdcd0",
   "metadata": {},
   "outputs": [],
   "source": [
    "df['packets'].mean()"
   ]
  },
  {
   "cell_type": "code",
   "execution_count": null,
   "id": "e3cc5979-a03c-49f8-a60c-5577eefd595d",
   "metadata": {},
   "outputs": [],
   "source": [
    "df['packets'].median()"
   ]
  },
  {
   "cell_type": "code",
   "execution_count": null,
   "id": "27b2d6c3-5d10-4418-814d-02d6309fe133",
   "metadata": {},
   "outputs": [],
   "source": [
    "df['packets'].min()"
   ]
  },
  {
   "cell_type": "code",
   "execution_count": null,
   "id": "7d048cbe-b361-4a5f-b82e-60bdfd90182d",
   "metadata": {},
   "outputs": [],
   "source": [
    "df['packets'].max()"
   ]
  },
  {
   "cell_type": "code",
   "execution_count": null,
   "id": "c8690fa9-31e3-44e8-8005-00d926f055bb",
   "metadata": {},
   "outputs": [],
   "source": [
    "import seaborn as sns\n",
    "import warnings\n",
    "warnings.filterwarnings('ignore')"
   ]
  },
  {
   "cell_type": "code",
   "execution_count": null,
   "id": "9fc93e2d-f347-4f7f-8e01-e84f1f927319",
   "metadata": {},
   "outputs": [],
   "source": [
    "sns.distplot(df['packets'])"
   ]
  },
  {
   "cell_type": "code",
   "execution_count": null,
   "id": "4ceb7d81-a397-4926-90da-f59f60f2505d",
   "metadata": {},
   "outputs": [],
   "source": [
    "df['packets'].var()"
   ]
  },
  {
   "cell_type": "code",
   "execution_count": null,
   "id": "4e188e28-7e8b-4865-88c0-4b5e7ddc3a80",
   "metadata": {},
   "outputs": [],
   "source": [
    "df['packets'].std()"
   ]
  },
  {
   "cell_type": "code",
   "execution_count": null,
   "id": "d0816ee9-3cdf-4e6d-9af1-8b523110074c",
   "metadata": {},
   "outputs": [],
   "source": [
    "sns.boxplot(x=df['packets'])"
   ]
  },
  {
   "cell_type": "code",
   "execution_count": null,
   "id": "4c93988d-4569-46bd-aba1-ffc89a97477c",
   "metadata": {},
   "outputs": [],
   "source": [
    "sns.boxplot(df['bytes'])"
   ]
  },
  {
   "cell_type": "code",
   "execution_count": null,
   "id": "819e6017-acbc-4f07-8bbb-b5d7050ebcd0",
   "metadata": {},
   "outputs": [],
   "source": [
    "q1=df['packets'].quantile(0.25)"
   ]
  },
  {
   "cell_type": "code",
   "execution_count": null,
   "id": "c267d1ef-8d82-45b9-bdd2-c42df4446852",
   "metadata": {},
   "outputs": [],
   "source": [
    "q3=df['packets'].quantile(0.75)"
   ]
  },
  {
   "cell_type": "code",
   "execution_count": null,
   "id": "2bae333c-e827-4524-a648-0299d1ef907a",
   "metadata": {},
   "outputs": [],
   "source": [
    "iqr = q3-q1"
   ]
  },
  {
   "cell_type": "code",
   "execution_count": null,
   "id": "7bfb57cd-4510-482c-845f-b096a0309063",
   "metadata": {},
   "outputs": [],
   "source": [
    "uw = q3+1.5*(iqr)"
   ]
  },
  {
   "cell_type": "code",
   "execution_count": null,
   "id": "82b82053-5e49-471e-89ee-58d1a764d4cc",
   "metadata": {},
   "outputs": [],
   "source": [
    "df[df['packets']>2065].count()"
   ]
  },
  {
   "cell_type": "code",
   "execution_count": null,
   "id": "b60779aa-7b83-461b-b3a3-9ea865f5cdf2",
   "metadata": {},
   "outputs": [],
   "source": [
    "lw = q1-1.5*(iqr)"
   ]
  },
  {
   "cell_type": "code",
   "execution_count": null,
   "id": "b36ba6ac-f0b9-4ad3-b44d-9698137038dd",
   "metadata": {
    "scrolled": true
   },
   "outputs": [],
   "source": [
    "df[df['packets']==0]['packets'] = np.nan"
   ]
  },
  {
   "cell_type": "code",
   "execution_count": null,
   "id": "aa9e00d6-48c8-4aa9-9ff2-4b8b5adb7c67",
   "metadata": {},
   "outputs": [],
   "source": [
    "df1=pd.read_csv('e:/data/churn.csv')"
   ]
  },
  {
   "cell_type": "code",
   "execution_count": null,
   "id": "e4573248-71aa-4be0-af46-01316c7214f6",
   "metadata": {},
   "outputs": [],
   "source": [
    "sns.boxplot(x=df1['CreditScore'])"
   ]
  },
  {
   "cell_type": "code",
   "execution_count": null,
   "id": "7f49a20a-29f1-4c7e-bdd9-8b8ee200266e",
   "metadata": {},
   "outputs": [],
   "source": [
    "q1=df1['CreditScore'].quantile(0.25)"
   ]
  },
  {
   "cell_type": "code",
   "execution_count": null,
   "id": "4ad66bc5-10cd-4752-93e5-f9e9bb5e407e",
   "metadata": {},
   "outputs": [],
   "source": [
    "q3=df1['CreditScore'].quantile(0.75)"
   ]
  },
  {
   "cell_type": "code",
   "execution_count": null,
   "id": "c64937e7-8e28-4e35-8205-607daaedb325",
   "metadata": {},
   "outputs": [],
   "source": [
    "uw = q3+1.5*(q3-q1)"
   ]
  },
  {
   "cell_type": "code",
   "execution_count": null,
   "id": "e65c9876-8158-47b7-be03-61b7d60bcb0b",
   "metadata": {},
   "outputs": [],
   "source": [
    "df1['CreditScore'][2] = 920"
   ]
  },
  {
   "cell_type": "code",
   "execution_count": null,
   "id": "7d51b59b-f1b4-4aab-be94-060ef0067d87",
   "metadata": {},
   "outputs": [],
   "source": [
    "sns.distplot(df['packets'])"
   ]
  },
  {
   "cell_type": "code",
   "execution_count": null,
   "id": "b87bceb8-f7fe-4689-9f44-6e34e09cd9ab",
   "metadata": {},
   "outputs": [],
   "source": [
    "sns.boxplot(x=df['packets'],y=df['protocol'])"
   ]
  },
  {
   "cell_type": "code",
   "execution_count": null,
   "id": "371d2262-30ea-4b1f-91a0-9c6b52663708",
   "metadata": {},
   "outputs": [],
   "source": [
    "df['packets'].skew()"
   ]
  },
  {
   "cell_type": "code",
   "execution_count": null,
   "id": "2ed4eea5-53e8-4840-9b05-458ecb89b3db",
   "metadata": {},
   "outputs": [],
   "source": [
    "df['packets'].kurt()"
   ]
  },
  {
   "cell_type": "code",
   "execution_count": null,
   "id": "421a9af3-08c0-4eff-8dcd-7caa24c2e24b",
   "metadata": {},
   "outputs": [],
   "source": [
    "import matplotlib.pyplot as plt"
   ]
  },
  {
   "cell_type": "code",
   "execution_count": null,
   "id": "6a8700d2-6913-43de-b48a-0efe127c908b",
   "metadata": {},
   "outputs": [],
   "source": [
    "plt.plot(df['packets'])"
   ]
  },
  {
   "cell_type": "code",
   "execution_count": null,
   "id": "d24a63f2-b6b1-4922-a68f-267bbb4d962f",
   "metadata": {},
   "outputs": [],
   "source": [
    "plt.hist(df['packets'], bins=10)"
   ]
  },
  {
   "cell_type": "code",
   "execution_count": null,
   "id": "afeed2c7-1fd7-4e71-b25e-00d4ff428e64",
   "metadata": {},
   "outputs": [],
   "source": [
    "sns.displot(df['packets'])"
   ]
  },
  {
   "cell_type": "code",
   "execution_count": null,
   "id": "35561d39-81c9-4339-9bfd-5bb3daeb6bb3",
   "metadata": {},
   "outputs": [],
   "source": [
    "df.describe().T"
   ]
  },
  {
   "cell_type": "code",
   "execution_count": null,
   "id": "ea61193d-70f9-4d20-834e-7b19d7e0a4b4",
   "metadata": {},
   "outputs": [],
   "source": [
    "# 75% of the packets are below 1207, interestingly about 25% of the records sent more than 12076 \n",
    "# packets upto 17k"
   ]
  },
  {
   "cell_type": "code",
   "execution_count": null,
   "id": "15ae0601-333b-4396-93a4-0dfa9fc441ad",
   "metadata": {},
   "outputs": [],
   "source": [
    "df.columns"
   ]
  },
  {
   "cell_type": "code",
   "execution_count": null,
   "id": "3ffd833a-a686-4330-9a20-308c35d1fa4b",
   "metadata": {},
   "outputs": [],
   "source": [
    "df['packets'].describe()"
   ]
  },
  {
   "cell_type": "code",
   "execution_count": null,
   "id": "c24cee6f-7595-41e2-a683-65d01efbb44d",
   "metadata": {},
   "outputs": [],
   "source": [
    "df['protocol'].unique()"
   ]
  },
  {
   "cell_type": "code",
   "execution_count": null,
   "id": "18a88b37-2f48-4d7e-bd32-4a9e8b8b183f",
   "metadata": {},
   "outputs": [],
   "source": [
    "df['protocol'].nunique()"
   ]
  },
  {
   "cell_type": "code",
   "execution_count": null,
   "id": "9528d910-2b6f-47de-b2c1-bb6b0aabc22d",
   "metadata": {},
   "outputs": [],
   "source": [
    "df['protocol'].value_counts()"
   ]
  },
  {
   "cell_type": "code",
   "execution_count": null,
   "id": "94a26945-9d8d-43b5-b758-d5851de4a265",
   "metadata": {},
   "outputs": [],
   "source": [
    "df['src_ip'].nunique()"
   ]
  },
  {
   "cell_type": "code",
   "execution_count": null,
   "id": "46d29f11-df87-4056-b617-85ddde56e4e7",
   "metadata": {},
   "outputs": [],
   "source": [
    "df['src_ip'].value_counts()"
   ]
  },
  {
   "cell_type": "code",
   "execution_count": null,
   "id": "ff818859-13fd-4db9-bee2-e30d3affb1fb",
   "metadata": {},
   "outputs": [],
   "source": [
    "sns.countplot(df['protocol'])"
   ]
  },
  {
   "cell_type": "code",
   "execution_count": null,
   "id": "91633533-2f64-43af-b3bf-77ac06859acb",
   "metadata": {},
   "outputs": [],
   "source": [
    "# multi-variate analysis"
   ]
  },
  {
   "cell_type": "code",
   "execution_count": null,
   "id": "1bf44ef8-1c03-472f-a28a-d87779f7cc61",
   "metadata": {},
   "outputs": [],
   "source": [
    "plt.scatter(x=df['packets'],y=df['bytes'])\n",
    "plt.xlabel(\"packets\")\n",
    "plt.ylabel('bytes')"
   ]
  },
  {
   "cell_type": "code",
   "execution_count": null,
   "id": "e55d59a0-671b-496f-8774-ea75ce3fd471",
   "metadata": {},
   "outputs": [],
   "source": [
    "df[(df['packets']==0)&(df['bytes']>0)].count()"
   ]
  },
  {
   "cell_type": "code",
   "execution_count": null,
   "id": "68dfbb1d-3e68-467a-a409-abf1523e960f",
   "metadata": {},
   "outputs": [],
   "source": [
    "# matplotlib.pyplot\n",
    "# seaborn\n",
    "# ggplot2, plotly"
   ]
  },
  {
   "cell_type": "code",
   "execution_count": null,
   "id": "ca953801-de9a-4e1b-94b2-c897b18ed1f7",
   "metadata": {},
   "outputs": [],
   "source": [
    "help(plt.scatter)"
   ]
  },
  {
   "cell_type": "code",
   "execution_count": null,
   "id": "5876f412-61e1-4c84-b9e2-a3feda581b90",
   "metadata": {},
   "outputs": [],
   "source": [
    "sns.boxplot(x=df['protocol'],y=df['packets'])"
   ]
  },
  {
   "cell_type": "code",
   "execution_count": null,
   "id": "cbc13360-7051-4b09-8d61-897d2cd0d5a1",
   "metadata": {},
   "outputs": [],
   "source": [
    "sns.countplot(x=df['src_port'], hue=df['protocol'])"
   ]
  },
  {
   "cell_type": "code",
   "execution_count": null,
   "id": "9787a43e-04f1-4023-89cd-ee87a95b6ef2",
   "metadata": {},
   "outputs": [],
   "source": [
    "sns.countplot(x=df1['Geography'], hue=df1['Gender'])"
   ]
  },
  {
   "cell_type": "code",
   "execution_count": null,
   "id": "6f03a0a9-4422-4c2a-afb0-61a2c207be90",
   "metadata": {},
   "outputs": [],
   "source": [
    "df['protocol'].value_counts()"
   ]
  },
  {
   "cell_type": "code",
   "execution_count": null,
   "id": "36012d91-0f4b-401c-a193-b2f9456214d2",
   "metadata": {},
   "outputs": [],
   "source": [
    "sns.barplot(y='protocol',x='packets',data=df)"
   ]
  },
  {
   "cell_type": "code",
   "execution_count": null,
   "id": "384e9b20-24b0-42fe-91b8-3c12c8f9a7fb",
   "metadata": {},
   "outputs": [],
   "source": [
    "sns.boxplot(x=df['protocol'],y=df['packets'])"
   ]
  },
  {
   "cell_type": "code",
   "execution_count": null,
   "id": "68210317-723e-4bbc-87f9-18a44cacead0",
   "metadata": {},
   "outputs": [],
   "source": [
    "# Data manipulation"
   ]
  },
  {
   "cell_type": "code",
   "execution_count": null,
   "id": "c572193a-a9a0-4131-beec-c0a9c372d381",
   "metadata": {},
   "outputs": [],
   "source": [
    "grp=df.groupby('protocol')"
   ]
  },
  {
   "cell_type": "code",
   "execution_count": null,
   "id": "885f11b7-2043-4578-bbe4-809ae875141c",
   "metadata": {},
   "outputs": [],
   "source": [
    "grp[['packets','bytes']].mean()"
   ]
  },
  {
   "cell_type": "code",
   "execution_count": null,
   "id": "509a365a-5b94-4436-9a11-88d661b573af",
   "metadata": {},
   "outputs": [],
   "source": [
    "df.groupby('protocol').bytes.mean()"
   ]
  },
  {
   "cell_type": "code",
   "execution_count": null,
   "id": "867ec8f2-6193-4c41-a23c-073baaa91600",
   "metadata": {},
   "outputs": [],
   "source": [
    "df[['packets','bytes','protocol']].groupby('protocol').mean()"
   ]
  },
  {
   "cell_type": "code",
   "execution_count": null,
   "id": "954c95fe-556d-4267-8323-1200c1154d6f",
   "metadata": {},
   "outputs": [],
   "source": [
    "df.groupby('protocol').agg({'packets':['min','max','mean'],'bytes':['mean','std']})"
   ]
  },
  {
   "cell_type": "code",
   "execution_count": null,
   "id": "4febd1e9-0e20-4ad6-aa40-ee0a08357c3b",
   "metadata": {},
   "outputs": [],
   "source": [
    "df.sort_values('bytes', ascending=False).groupby('protocol').head(5)"
   ]
  },
  {
   "cell_type": "code",
   "execution_count": null,
   "id": "b6758012-39a9-448a-b801-59f7ddb9f737",
   "metadata": {},
   "outputs": [],
   "source": [
    "df.groupby('protocol').bytes.mean()"
   ]
  },
  {
   "cell_type": "code",
   "execution_count": null,
   "id": "69482b1e-e8cf-4a40-84b6-615ac4d96c18",
   "metadata": {},
   "outputs": [],
   "source": [
    "agg1=df1.groupby('Geography').agg({'CreditScore':'mean','EstimatedSalary':['mean','max','min'],\n",
    "                              'Balance':'mean','Exited':['mean','std']})"
   ]
  },
  {
   "cell_type": "code",
   "execution_count": null,
   "id": "99a92526-0e80-4986-bedb-2d488a43fbfa",
   "metadata": {},
   "outputs": [],
   "source": [
    "type(agg1)"
   ]
  },
  {
   "cell_type": "code",
   "execution_count": null,
   "id": "f1865e88-6afc-48d2-ae93-69fef1427783",
   "metadata": {},
   "outputs": [],
   "source": [
    "agg1"
   ]
  },
  {
   "cell_type": "code",
   "execution_count": null,
   "id": "c26f359b-c91b-4f58-9516-b632a009269f",
   "metadata": {},
   "outputs": [],
   "source": [
    "help(pd.MultiIndex.from_tuples)"
   ]
  },
  {
   "cell_type": "code",
   "execution_count": null,
   "id": "7bdbe36f-3ee4-48fb-bf2e-8577d3c0cd27",
   "metadata": {},
   "outputs": [],
   "source": [
    "index = pd.MultiIndex.from_tuples([('bird', 'falcon'),('bird', 'parrot'),('mammal', 'lion'),\n",
    "                                   ('mammal', 'monkey')],names=['class', 'name'])"
   ]
  },
  {
   "cell_type": "code",
   "execution_count": null,
   "id": "e9262b48-a659-45ec-8661-f6cd1859922f",
   "metadata": {},
   "outputs": [],
   "source": [
    "columns = pd.MultiIndex.from_tuples([('speed', 'max'),('species', 'type')])"
   ]
  },
  {
   "cell_type": "code",
   "execution_count": null,
   "id": "084978d7-2909-4340-bd7c-eda85d131b58",
   "metadata": {},
   "outputs": [],
   "source": [
    "df = pd.DataFrame([(389.0, 'fly'),( 24.0, 'fly'),( 80.5, 'run'),(np.nan, 'jump')],\n",
    "                  index=index,columns=columns)"
   ]
  },
  {
   "cell_type": "code",
   "execution_count": null,
   "id": "8a34af75-40ad-4196-8933-4b324a16137b",
   "metadata": {},
   "outputs": [],
   "source": [
    "df.index[0][1]"
   ]
  },
  {
   "cell_type": "code",
   "execution_count": null,
   "id": "e1f5e4dc-ee24-4d7e-955b-e4ea7b30a2ae",
   "metadata": {},
   "outputs": [],
   "source": [
    "df['speed']['max'][0]"
   ]
  },
  {
   "cell_type": "code",
   "execution_count": null,
   "id": "9b742571-09fe-4753-ae02-53eac8e979b2",
   "metadata": {},
   "outputs": [],
   "source": [
    "agg2 = df1[['Exited','Geography']].groupby(['Geography']).agg({'Geography':'count', 'Exited':np.sum})"
   ]
  },
  {
   "cell_type": "code",
   "execution_count": null,
   "id": "9ba98c50-e4bf-4dae-b01c-c8f51ef32bc4",
   "metadata": {},
   "outputs": [],
   "source": [
    "pd.concat([agg1,agg2], axis=1)"
   ]
  },
  {
   "cell_type": "code",
   "execution_count": null,
   "id": "3459452b-757a-4471-b95b-fdafe9bd9e83",
   "metadata": {},
   "outputs": [],
   "source": [
    "agg3=df1.groupby('Geography').agg({'CreditScore':'mean','EstimatedSalary':['mean','max','min'],\n",
    "                              'Balance':'mean','Exited':['mean','std']})"
   ]
  },
  {
   "cell_type": "code",
   "execution_count": null,
   "id": "dc48ce20-f8d2-451a-846c-063bcf4ff160",
   "metadata": {},
   "outputs": [],
   "source": [
    "pd.concat([agg1,agg3])"
   ]
  },
  {
   "cell_type": "code",
   "execution_count": null,
   "id": "c89184c8-8834-4ab1-9619-76f11f48c277",
   "metadata": {},
   "outputs": [],
   "source": [
    "df4 = pd.DataFrame({'c1':[1,2,3],'c2':[4,5,6]})"
   ]
  },
  {
   "cell_type": "code",
   "execution_count": null,
   "id": "1168b0a6-48f5-493e-81b3-02f3cdcbe1f2",
   "metadata": {},
   "outputs": [],
   "source": [
    "df5 = pd.DataFrame({'c1':[10,20,30],'c2':[40,50,60]})"
   ]
  },
  {
   "cell_type": "code",
   "execution_count": null,
   "id": "e07f22ff-d765-4e61-88b9-795d0207fa56",
   "metadata": {},
   "outputs": [],
   "source": [
    "pd.concat([df1,df2], ignore_index=True)"
   ]
  },
  {
   "cell_type": "code",
   "execution_count": null,
   "id": "42348fc1-9b4b-4fa1-999d-6a9e583ae827",
   "metadata": {},
   "outputs": [],
   "source": [
    "pd.crosstab(df['src_port'],df['protocol'])"
   ]
  },
  {
   "cell_type": "code",
   "execution_count": null,
   "id": "36dd3f6c-1906-40ea-96d0-211d876232ad",
   "metadata": {},
   "outputs": [],
   "source": [
    "pd.crosstab(df1['Geography'],df1['Exited'])"
   ]
  },
  {
   "cell_type": "code",
   "execution_count": null,
   "id": "0342efa3-e31d-4af3-afad-f2ad1ecef1fb",
   "metadata": {},
   "outputs": [],
   "source": [
    "def sq(n):\n",
    "    return n/60"
   ]
  },
  {
   "cell_type": "code",
   "execution_count": null,
   "id": "2328bfed-ce20-4e48-89ea-058cd2747220",
   "metadata": {},
   "outputs": [],
   "source": [
    "df['dur_min']=df['duration_sec'].apply(sq)"
   ]
  },
  {
   "cell_type": "code",
   "execution_count": null,
   "id": "d3e6c30c-65e8-4820-a1c9-b4a0ffbbdb5c",
   "metadata": {},
   "outputs": [],
   "source": [
    "df2=df.sort_values(by='dur_min',ascending=False)"
   ]
  },
  {
   "cell_type": "code",
   "execution_count": null,
   "id": "5dec926f-bbd1-418d-9554-1d22d1ae4ef3",
   "metadata": {},
   "outputs": [],
   "source": [
    "# Joins"
   ]
  },
  {
   "cell_type": "code",
   "execution_count": null,
   "id": "e9814d3f-2e8d-4b81-b810-56e691bf7b29",
   "metadata": {},
   "outputs": [],
   "source": [
    "df4 = pd.DataFrame({'key1':['a','b','c','d'], 'val1':[1,2,5,10]})\n",
    "df5 = pd.DataFrame({'key1':['a','b','e','f'], 'val2':[10,20,30,40]})"
   ]
  },
  {
   "cell_type": "code",
   "execution_count": null,
   "id": "92d7d8f8-3e8f-4518-a40f-403d31463ccd",
   "metadata": {},
   "outputs": [],
   "source": [
    "# Inner join"
   ]
  },
  {
   "cell_type": "code",
   "execution_count": null,
   "id": "f8bf3716-fd79-4120-9a64-0a1bd135daa4",
   "metadata": {},
   "outputs": [],
   "source": [
    "pd.merge(df4,df5, left_on='key1', right_on='key1')"
   ]
  },
  {
   "cell_type": "code",
   "execution_count": null,
   "id": "b6434b14-5ae9-4bea-a276-333bb0edea48",
   "metadata": {},
   "outputs": [],
   "source": [
    "pd.merge(df4,df5, how='outer',left_on='key1', right_on='key1')"
   ]
  },
  {
   "cell_type": "code",
   "execution_count": null,
   "id": "6d0e66f2-79d3-4d27-99ef-5d6e5430ffba",
   "metadata": {},
   "outputs": [],
   "source": [
    "pd.merge(df4,df5, how='left',left_on='key1', right_on='key1')"
   ]
  },
  {
   "cell_type": "code",
   "execution_count": null,
   "id": "5c4fea03-080c-44a7-9913-95a57b70a716",
   "metadata": {},
   "outputs": [],
   "source": [
    "pd.merge(df4,df5, how='right',left_on='key1', right_on='key1')"
   ]
  },
  {
   "cell_type": "code",
   "execution_count": null,
   "id": "e6f4d18f-ae7f-437c-97d1-57e3ec64e1e2",
   "metadata": {},
   "outputs": [],
   "source": [
    "df4.join"
   ]
  },
  {
   "cell_type": "code",
   "execution_count": null,
   "id": "98f4f09b-475c-4d31-8847-8323128bd3cd",
   "metadata": {},
   "outputs": [],
   "source": [
    "#df4.merge"
   ]
  },
  {
   "cell_type": "code",
   "execution_count": null,
   "id": "0da24122-efa1-4a29-8313-970df5f23b79",
   "metadata": {},
   "outputs": [],
   "source": [
    "help(df4.stack)"
   ]
  },
  {
   "cell_type": "code",
   "execution_count": null,
   "id": "7de06dbe-156d-4fdc-b277-455335019786",
   "metadata": {},
   "outputs": [],
   "source": [
    "df1 = pd.DataFrame({'Mum':[100,200,15,34], 'Blr':[10,200,500,1000]})\n",
    "df2 = pd.DataFrame({'Mum':[10,20,40,80], 'Blr':[110,20,30,400]})"
   ]
  },
  {
   "cell_type": "code",
   "execution_count": null,
   "id": "48441d91-c9c5-4083-b40a-5ee963083138",
   "metadata": {},
   "outputs": [],
   "source": [
    "df3 = pd.concat([df1,df2], ignore_index=True)"
   ]
  },
  {
   "cell_type": "code",
   "execution_count": null,
   "id": "7766f08e-50fb-45a4-ac59-fcbb171b992d",
   "metadata": {},
   "outputs": [],
   "source": [
    "df3['Mum'].mean()"
   ]
  },
  {
   "cell_type": "code",
   "execution_count": null,
   "id": "0d1a2f21-1b6a-485e-aa97-d4d244a9022d",
   "metadata": {},
   "outputs": [],
   "source": [
    "df3['Blr'].mean()"
   ]
  },
  {
   "cell_type": "code",
   "execution_count": null,
   "id": "0b44874f-a49a-46ed-95ca-9c4db9ff8b96",
   "metadata": {},
   "outputs": [],
   "source": [
    "(62+283)/2"
   ]
  },
  {
   "cell_type": "code",
   "execution_count": null,
   "id": "73d66ff4-a3e3-4bcc-9cf8-dfb84b6ae6d4",
   "metadata": {},
   "outputs": [],
   "source": [
    "df4 = df3.stack()"
   ]
  },
  {
   "cell_type": "code",
   "execution_count": null,
   "id": "a3a31eac-2a17-4ea2-873a-73320ee05b67",
   "metadata": {},
   "outputs": [],
   "source": [
    "df2 = pd.DataFrame({\"A\": [\"foo\", \"foo\", \"foo\", \"foo\", \"foo\",\"bar\", \"bar\", \"bar\", \"bar\"],\n",
    "\"B\": [\"one\", \"one\", \"one\", \"two\", \"two\",\"one\", \"one\", \"two\", \"two\"],\"C\": [\"small\", \"large\", \"large\", \"small\",\n",
    "\"small\", \"large\", \"small\", \"small\",\"large\"],\"D\": [1, 2, 2, 3, 3, 4, 5, 6, 7],\"E\": [2, 4, 5, 5, 6, 6, 8, 9, 9]})"
   ]
  },
  {
   "cell_type": "code",
   "execution_count": null,
   "id": "5ed3130e-f504-47a4-bb9e-6cd02ac5ffdf",
   "metadata": {},
   "outputs": [],
   "source": [
    "pd.pivot_table(df2, values='D', index=['A', 'B'], columns=['C'], aggfunc=\"sum\", fill_value=0)"
   ]
  },
  {
   "cell_type": "code",
   "execution_count": null,
   "id": "eec59d56-e06a-45d0-81ec-a2fdd66968ac",
   "metadata": {},
   "outputs": [],
   "source": [
    "help(pd.pivot_table)"
   ]
  },
  {
   "cell_type": "code",
   "execution_count": null,
   "id": "8e4e4460-d4b1-4618-94d4-5c03aef534b8",
   "metadata": {},
   "outputs": [],
   "source": [
    "pd.pivot_table(df, index=['protocol'], values='packets', columns='src_port', aggfunc='sum')"
   ]
  },
  {
   "cell_type": "code",
   "execution_count": null,
   "id": "b1c06110-08e1-4e2e-8d8a-03e07faf800a",
   "metadata": {},
   "outputs": [],
   "source": [
    "# Data cleaning"
   ]
  },
  {
   "cell_type": "code",
   "execution_count": null,
   "id": "4b587d3b-18ed-4457-b077-50bbede79edc",
   "metadata": {},
   "outputs": [],
   "source": [
    "df3 = pd.DataFrame({'Age':[-19,28,np.nan,34,np.nan,38,np.nan,222,np.nan],\n",
    "                    'Sal':[20,40,32,100,25,75,35,np.nan,np.nan], \n",
    "                    'Height':[5.2,4.7,3.8,5.6,5.5,0,4.3,np.nan,59]})"
   ]
  },
  {
   "cell_type": "code",
   "execution_count": null,
   "id": "d5fcaccb-eda6-4698-af11-5c2036587e29",
   "metadata": {},
   "outputs": [],
   "source": [
    "# Handling missing values"
   ]
  },
  {
   "cell_type": "code",
   "execution_count": null,
   "id": "823a389d-b7cc-4d1e-9309-2d896680ce32",
   "metadata": {},
   "outputs": [],
   "source": [
    "df3.isna().sum()"
   ]
  },
  {
   "cell_type": "markdown",
   "id": "a14557c5-71ce-463f-bfcb-d1e8bc45f067",
   "metadata": {},
   "source": [
    "#### Delete all the rows with missing vals"
   ]
  },
  {
   "cell_type": "code",
   "execution_count": null,
   "id": "b5935c90-d926-4e17-80ab-dcdca4d7d69a",
   "metadata": {},
   "outputs": [],
   "source": [
    "df3.dropna(axis=0)"
   ]
  },
  {
   "cell_type": "markdown",
   "id": "e3239cb5-da61-4236-82c9-f24d6ee65d98",
   "metadata": {},
   "source": [
    "#### Delete all the columns with missing vals, optionally set a threshold"
   ]
  },
  {
   "cell_type": "code",
   "execution_count": null,
   "id": "46d54a1f-7817-40a7-a6c0-30e4857f80c9",
   "metadata": {},
   "outputs": [],
   "source": [
    "df3.dropna(axis=1, thresh=6)"
   ]
  },
  {
   "cell_type": "markdown",
   "id": "0b75fdf1-df36-476a-9271-9e1f00d5feb9",
   "metadata": {},
   "source": [
    "#### Replace the items based on a custom logic"
   ]
  },
  {
   "cell_type": "code",
   "execution_count": null,
   "id": "23a31e6a-dc9c-4c88-9efe-c7960994456d",
   "metadata": {},
   "outputs": [],
   "source": [
    "df3.fillna(0)"
   ]
  },
  {
   "cell_type": "code",
   "execution_count": null,
   "id": "690d7cb0-3949-4d91-ae63-6875c9f80cb6",
   "metadata": {},
   "outputs": [],
   "source": [
    "df3['Height'].fillna(value=df3['Height'].mean())"
   ]
  },
  {
   "cell_type": "code",
   "execution_count": null,
   "id": "3a893462-02cd-41b8-a956-459dbea6d64e",
   "metadata": {},
   "outputs": [],
   "source": [
    "df3.describe().T"
   ]
  },
  {
   "cell_type": "code",
   "execution_count": null,
   "id": "35a7c834-bd9b-469b-8eff-768728d39e63",
   "metadata": {},
   "outputs": [],
   "source": [
    "diabetes = pd.read_csv(\"E:/data/diabetes.csv\")"
   ]
  },
  {
   "cell_type": "code",
   "execution_count": null,
   "id": "8372edcc-4b20-4c21-a902-fb17d700da41",
   "metadata": {},
   "outputs": [],
   "source": [
    "diabetes[:5]"
   ]
  },
  {
   "cell_type": "code",
   "execution_count": null,
   "id": "9c0cce19-825b-4fa8-9256-0f44dce98ef6",
   "metadata": {},
   "outputs": [],
   "source": [
    "diabetes.isna().sum()"
   ]
  },
  {
   "cell_type": "code",
   "execution_count": null,
   "id": "45a02ade-1529-4430-b601-91278d8dd5db",
   "metadata": {},
   "outputs": [],
   "source": [
    "diabetes.describe().T"
   ]
  },
  {
   "cell_type": "code",
   "execution_count": null,
   "id": "2be00a7a-0a18-42a5-9f1c-7a4e72ba63f3",
   "metadata": {},
   "outputs": [],
   "source": [
    "diabetes['mass'][501] = '?'"
   ]
  },
  {
   "cell_type": "code",
   "execution_count": null,
   "id": "fcaa5271-bbde-482a-beb8-c1b2348e9a65",
   "metadata": {},
   "outputs": [],
   "source": [
    "diabetes.info()"
   ]
  },
  {
   "cell_type": "code",
   "execution_count": null,
   "id": "7a067a42-c440-4ebb-8b88-9b4c50510ba2",
   "metadata": {},
   "outputs": [],
   "source": [
    "diabetes['mass'][535] = '@'"
   ]
  },
  {
   "cell_type": "code",
   "execution_count": null,
   "id": "41f2bb0f-2f2b-482e-b544-4ab2041b4547",
   "metadata": {},
   "outputs": [],
   "source": [
    "diabetes[:5]"
   ]
  },
  {
   "cell_type": "code",
   "execution_count": null,
   "id": "e259ef67-d949-4ba4-8a7a-938b171e4cf6",
   "metadata": {},
   "outputs": [],
   "source": [
    "diabetes['mass'].astype('float')"
   ]
  },
  {
   "cell_type": "code",
   "execution_count": null,
   "id": "c7f3f6d5-992d-42d8-9b94-2992a4f58ede",
   "metadata": {},
   "outputs": [],
   "source": [
    "diabetes[diabetes['mass']=='?'] = np.nan"
   ]
  },
  {
   "cell_type": "code",
   "execution_count": null,
   "id": "4a2e6583-663f-4a25-b5a5-333569e80b52",
   "metadata": {},
   "outputs": [],
   "source": [
    "diabetes[diabetes['mass']=='@'] = np.nan"
   ]
  },
  {
   "cell_type": "code",
   "execution_count": null,
   "id": "fb72748a-8702-4f7f-a494-b0b04c36c3b4",
   "metadata": {},
   "outputs": [],
   "source": [
    "# Python Data structures, interations, conditions, functions, modules, exception handling"
   ]
  },
  {
   "cell_type": "code",
   "execution_count": null,
   "id": "7dbb46e6-e5f9-4320-89d9-5aa319cca964",
   "metadata": {},
   "outputs": [],
   "source": [
    "# Numpy, Pandas --> EDA, Data cleaning & manipulations"
   ]
  },
  {
   "cell_type": "code",
   "execution_count": null,
   "id": "3d646ccf-f515-44d5-9b02-84a6977e127e",
   "metadata": {},
   "outputs": [],
   "source": [
    "Quantitative Data : Numbers, can be measured\n",
    "\n",
    "Qualitative Data : Categorical\n",
    "\n",
    "Nominal : Categories (no direction/Ordered/Mutually exclusive) --> Male/Female, Smoker/Non-smoker\n",
    "\n",
    "Ordinal : Categories (Ordered, Mutually exclusive) --> Minimal,Moderate,Severe, Unbearable\n",
    "\n",
    "Interval : Difference between the measurements (Number of visits to doctor), Rating of a product, \n",
    "Temperature\n",
    "\n",
    "Ratio : Age, weight, height"
   ]
  },
  {
   "cell_type": "code",
   "execution_count": null,
   "id": "825fd14b-dc7d-4667-ba51-d9b76bd1fde1",
   "metadata": {},
   "outputs": [],
   "source": [
    "import pandas as pd\n",
    "import numpy as np\n",
    "import seaborn as sns\n",
    "import matplotlib.pyplot as plt"
   ]
  },
  {
   "cell_type": "code",
   "execution_count": null,
   "id": "e1098f3e-6240-42f9-a23f-6ffcafe0890e",
   "metadata": {},
   "outputs": [],
   "source": [
    "# Binomial Distribution\n",
    "# Events/outcome should be independent of each other\n",
    "# The outcome should be binomial/[0&1]"
   ]
  },
  {
   "cell_type": "code",
   "execution_count": null,
   "id": "cfed456f-014c-42d6-9820-96ae5b332220",
   "metadata": {},
   "outputs": [],
   "source": [
    "import scipy.stats as st"
   ]
  },
  {
   "cell_type": "code",
   "execution_count": null,
   "id": "f420fd98-ce16-430f-910e-31536c1f2c1b",
   "metadata": {},
   "outputs": [],
   "source": [
    "# Probability of getting heads exactly 2 times\n",
    "st.binom.pmf(2,5,0.5)"
   ]
  },
  {
   "cell_type": "code",
   "execution_count": null,
   "id": "9aec32b4-ac98-4310-b94c-01e363255102",
   "metadata": {},
   "outputs": [],
   "source": [
    "st.binom.pmf(0,5,0.5)"
   ]
  },
  {
   "cell_type": "code",
   "execution_count": null,
   "id": "394c4119-899b-4e83-ac8e-d33f7c1eaec1",
   "metadata": {},
   "outputs": [],
   "source": [
    "st.binom.pmf(1,5,0.5)"
   ]
  },
  {
   "cell_type": "code",
   "execution_count": null,
   "id": "79bceb3f-ff27-4359-862f-0358e687de6d",
   "metadata": {},
   "outputs": [],
   "source": [
    "# Probability of getting heads \"upto\" 2 times [p(0)+p(1)+p(2)] \n",
    "st.binom.cdf(np.arange(3),5,0.5)"
   ]
  },
  {
   "cell_type": "code",
   "execution_count": null,
   "id": "75ecca9f-762c-4772-8a9e-6b43e12e51ae",
   "metadata": {},
   "outputs": [],
   "source": [
    "# Probability of getting more than 2 heads (1-p)\n",
    "1-st.binom.cdf(np.arange(3),5,0.5)"
   ]
  },
  {
   "cell_type": "code",
   "execution_count": null,
   "id": "a7ce8d4a-10f4-43eb-a6b8-64c4830878c1",
   "metadata": {},
   "outputs": [],
   "source": [
    "1-st.binom.cdf(2,5,0.5)"
   ]
  },
  {
   "cell_type": "code",
   "execution_count": null,
   "id": "afef4e2c-f827-4b44-821f-ef3c6adaa384",
   "metadata": {},
   "outputs": [],
   "source": [
    "n = 5\n",
    "p = 0.5\n",
    "x = np.arange(0,6)\n",
    "pmf = st.binom.pmf(x,n,p)\n",
    "pmf"
   ]
  },
  {
   "cell_type": "code",
   "execution_count": null,
   "id": "887ed826-5cc2-45ae-9d30-577ff9bdf2b4",
   "metadata": {},
   "outputs": [],
   "source": [
    "plt.bar(x,pmf)"
   ]
  },
  {
   "cell_type": "code",
   "execution_count": null,
   "id": "9e36e188-ba81-4e77-b51c-c816dcf2a734",
   "metadata": {},
   "outputs": [],
   "source": [
    "# Negative Binomial\n",
    "# concerned about the number of trials required for success"
   ]
  },
  {
   "cell_type": "code",
   "execution_count": null,
   "id": "30fb4863-b467-4061-8358-3c50f78d9a8c",
   "metadata": {},
   "outputs": [],
   "source": [
    "p = 0.20\n",
    "st.nbinom.pmf(2,1,0.20)"
   ]
  },
  {
   "cell_type": "code",
   "execution_count": null,
   "id": "ac1b32be-1a21-4be8-a7e0-9f28f3c33b26",
   "metadata": {},
   "outputs": [],
   "source": [
    "# Geometric distribution\n",
    "# Type of nbinom, where the success is always 1"
   ]
  },
  {
   "cell_type": "code",
   "execution_count": null,
   "id": "242d35ac-9a55-4713-bfe2-d1bfb23974d7",
   "metadata": {},
   "outputs": [],
   "source": [
    "p = 0.10\n",
    "st.geom.pmf(20,p)"
   ]
  },
  {
   "cell_type": "code",
   "execution_count": null,
   "id": "eeebdf6d-ae37-487a-b891-1ccbb5179305",
   "metadata": {},
   "outputs": [],
   "source": [
    "# Poisson Distribution"
   ]
  },
  {
   "cell_type": "code",
   "execution_count": null,
   "id": "11d4da44-1225-435a-80ef-3b1fce7e76ba",
   "metadata": {},
   "outputs": [],
   "source": [
    "#50 people visited your hotel in the last hour, what's the probability it will be 80 in the next hour"
   ]
  },
  {
   "cell_type": "code",
   "execution_count": null,
   "id": "d53d83ad-ebc2-4ad8-810d-d698c93f79a4",
   "metadata": {},
   "outputs": [],
   "source": [
    "lamda = 50\n",
    "x = 80\n",
    "st.poisson.pmf(50,80)"
   ]
  },
  {
   "cell_type": "code",
   "execution_count": null,
   "id": "d26e5ef7-a6f6-49f3-aadd-42d34093372e",
   "metadata": {},
   "outputs": [],
   "source": [
    "help(st.poisson.pmf)"
   ]
  },
  {
   "cell_type": "code",
   "execution_count": null,
   "id": "0ca93e79-c83c-4199-a213-e523bfe7f8e4",
   "metadata": {},
   "outputs": [],
   "source": [
    "# 10 login attempts, 0.20% --> baseline failure, what's the probability of exactly 3 failures"
   ]
  },
  {
   "cell_type": "code",
   "execution_count": null,
   "id": "a9a460a6-a8e8-4a2e-82cf-b0605e647e99",
   "metadata": {},
   "outputs": [],
   "source": [
    "n = 10\n",
    "p = 0.2\n",
    "k = 3"
   ]
  },
  {
   "cell_type": "code",
   "execution_count": null,
   "id": "fb494891-67b8-4af2-956f-79e4f049c25e",
   "metadata": {},
   "outputs": [],
   "source": [
    "st.binom.pmf(k,n,p)"
   ]
  },
  {
   "cell_type": "code",
   "execution_count": null,
   "id": "12c5a0a7-fd98-43bc-a552-9a572578010f",
   "metadata": {},
   "outputs": [],
   "source": [
    "st.binom.cdf(3,10,0.2)"
   ]
  },
  {
   "cell_type": "code",
   "execution_count": null,
   "id": "6e40d498-1b0f-498e-bd77-59ff96cbb7d0",
   "metadata": {},
   "outputs": [],
   "source": [
    "1-st.binom.cdf(3,10,0.2)"
   ]
  },
  {
   "cell_type": "code",
   "execution_count": null,
   "id": "cb73ac9d-759e-4cfb-b21a-220f29b72e7f",
   "metadata": {},
   "outputs": [],
   "source": [
    "st.binom.pmf(3,10,0.2)"
   ]
  },
  {
   "cell_type": "code",
   "execution_count": null,
   "id": "eb5cb4ce-1b2f-4064-8a71-83e16dc966a8",
   "metadata": {},
   "outputs": [],
   "source": [
    "st.binom.rvs(n,p,size=5)"
   ]
  },
  {
   "cell_type": "code",
   "execution_count": null,
   "id": "64ea8cbb-2428-41ec-b71c-15035eefebd4",
   "metadata": {},
   "outputs": [],
   "source": [
    "st.binom.pmf(3,10,0.2)"
   ]
  },
  {
   "cell_type": "code",
   "execution_count": null,
   "id": "6b382499-a3b3-4ce4-a86e-69c3f110d635",
   "metadata": {},
   "outputs": [],
   "source": [
    "st.nbinom.pmf(7,3,0.2)"
   ]
  },
  {
   "cell_type": "code",
   "execution_count": null,
   "id": "edb17d1f-9b65-4c86-8db8-167512b74af2",
   "metadata": {},
   "outputs": [],
   "source": [
    "# Hypothesis Testing for Continuous Random Variables\n",
    "# Parametric Tests\n",
    "# Non-parametric Tests"
   ]
  },
  {
   "cell_type": "raw",
   "id": "5806cfdc-30ef-4490-a328-cbd8124df6bc",
   "metadata": {},
   "source": [
    "# Z-Test, Student's T-Test, ANOVA, CHISQUARE"
   ]
  },
  {
   "cell_type": "code",
   "execution_count": null,
   "id": "33901bac-c8d0-4132-aff6-8c2999cc23a9",
   "metadata": {},
   "outputs": [],
   "source": [
    "# One Tailed Tests / Directional : In the problem statement there is already a direction\n",
    "# Two Tailed Tests / Non-Directional: There is no specific direction"
   ]
  },
  {
   "cell_type": "code",
   "execution_count": null,
   "id": "ebe81b23-c46a-4eb1-b140-9462f0135815",
   "metadata": {},
   "outputs": [],
   "source": [
    "# Z - Test : \n",
    "\n",
    "# The Sample data should be normally distributed\n",
    "# Population standard deviation is known"
   ]
  },
  {
   "cell_type": "code",
   "execution_count": null,
   "id": "08e86b46-ecb1-4a62-bdeb-a7697fcf4381",
   "metadata": {},
   "outputs": [],
   "source": [
    "# Construct the Hypothesis"
   ]
  },
  {
   "cell_type": "code",
   "execution_count": null,
   "id": "f91bb952-4c64-410e-a1f5-a636e0c263ae",
   "metadata": {},
   "outputs": [],
   "source": [
    "# Ha : sample_mean > Population_mean [One tailed or directional problem]\n",
    "# Ha : sample_mean!= Population_mean {Two-tailed problem}\n",
    "# H0 : Sample_mean == Population_mean"
   ]
  },
  {
   "cell_type": "code",
   "execution_count": null,
   "id": "1112b8a3-f70f-4db6-beca-530f9082ff32",
   "metadata": {},
   "outputs": [],
   "source": [
    "# sample_mean = 112.5\n",
    "# Population_mean = 100\n",
    "# Std dev Population = 15\n",
    "# n = 30\n",
    "# alpha = 0.05"
   ]
  },
  {
   "cell_type": "code",
   "execution_count": null,
   "id": "cc0d67a0-300d-4087-b60d-882534438cda",
   "metadata": {},
   "outputs": [],
   "source": [
    "# Test Statistics = 4.56"
   ]
  },
  {
   "cell_type": "code",
   "execution_count": null,
   "id": "425dd103-7d3e-47b5-b140-7c93cc9ba1fa",
   "metadata": {},
   "outputs": [],
   "source": [
    "# Critical Value = 1.645 [One tailed Test]\n",
    "# Critical Value = +-1.96 [Two tailed test]"
   ]
  },
  {
   "cell_type": "raw",
   "id": "7ebcacf5-fae9-48de-9671-d1029ec9d556",
   "metadata": {},
   "source": [
    "sam_mean = 6873\n",
    "pop = 6800\n",
    "n = 1000\n",
    "std dev = 400"
   ]
  },
  {
   "cell_type": "code",
   "execution_count": null,
   "id": "9aec2398-7728-47f9-85c0-9967b91e1e3f",
   "metadata": {},
   "outputs": [],
   "source": [
    "h0 = sam_mean==pop_mean\n",
    "ha = sam_mean!=pop_mean"
   ]
  },
  {
   "cell_type": "code",
   "execution_count": null,
   "id": "ea721785-bb91-4cc3-a683-abe80d050b81",
   "metadata": {},
   "outputs": [],
   "source": [
    "sam_mean>pop_mean\n",
    "sam_mean<pop_mean\n"
   ]
  },
  {
   "cell_type": "code",
   "execution_count": null,
   "id": "2c8c2bd8-15eb-4973-83b8-d054e016db89",
   "metadata": {},
   "outputs": [],
   "source": [
    "# Test Statistics = 4.56"
   ]
  },
  {
   "cell_type": "code",
   "execution_count": null,
   "id": "c69b0e1f-a42a-46c9-8755-ecb3d0671bcf",
   "metadata": {},
   "outputs": [],
   "source": [
    "# Critical Value = 1.645 [One tailed Test]\n",
    "# Critical Value = +-1.96 [Two tailed test]"
   ]
  },
  {
   "cell_type": "code",
   "execution_count": null,
   "id": "c1c2cdad-d21a-4a30-a489-665330ab91eb",
   "metadata": {},
   "outputs": [],
   "source": [
    "# T.stats > Critical Value"
   ]
  },
  {
   "cell_type": "code",
   "execution_count": null,
   "id": "f88176e9-4077-47a8-8ef3-b56e29587550",
   "metadata": {},
   "outputs": [],
   "source": [
    "# Accept the Ha --> The claim is true"
   ]
  },
  {
   "cell_type": "code",
   "execution_count": null,
   "id": "b6725a8f-c210-4642-95ef-72351c246a16",
   "metadata": {},
   "outputs": [],
   "source": [
    "# T-Test\n",
    "\n",
    "# Standard deviation of Sample is used\n",
    "# Degrees of freedom to identify Critical Value\n",
    "\n",
    "# d.f for one sample test --> n-1\n",
    "# d.f for multiple samples --> n-k"
   ]
  },
  {
   "cell_type": "code",
   "execution_count": null,
   "id": "d42bc359-4f85-4975-adca-ebb3fec48837",
   "metadata": {},
   "outputs": [],
   "source": [
    "# Scipy\n",
    "import numpy\n",
    "import scipy\n",
    "import math\n",
    "from numpy.random import randn"
   ]
  },
  {
   "cell_type": "code",
   "execution_count": null,
   "id": "f480ebaa-0f51-4691-a270-a9053ec51c4f",
   "metadata": {},
   "outputs": [],
   "source": [
    "from scipy.stats import norm"
   ]
  },
  {
   "cell_type": "code",
   "execution_count": null,
   "id": "580c24d6-ca63-4494-a34a-03e193ad2040",
   "metadata": {},
   "outputs": [],
   "source": [
    "from statsmodels.stats.weightstats import ztest\n",
    "from statsmodels.stats.weightstats import ttest_ind"
   ]
  },
  {
   "cell_type": "code",
   "execution_count": null,
   "id": "71411052-c2f1-4091-b28b-93fa842cfc7a",
   "metadata": {},
   "outputs": [],
   "source": [
    "sample_mean = 112.5\n",
    "sd_pop = 15\n",
    "alpha = 0.05\n",
    "pop_mean = 100\n",
    "n = 30\n",
    "sd_sam = 15/numpy.sqrt(n)"
   ]
  },
  {
   "cell_type": "code",
   "execution_count": null,
   "id": "7ece05ca-c853-4470-a849-01ad2b34d730",
   "metadata": {},
   "outputs": [],
   "source": [
    "sam_data = sd_pop*randn(30)+sample_mean"
   ]
  },
  {
   "cell_type": "code",
   "execution_count": null,
   "id": "15dac4d7-79b8-444d-abc1-b332e9465913",
   "metadata": {},
   "outputs": [],
   "source": [
    "ztest(sam_data, value=pop_mean, alternative='larger')"
   ]
  },
  {
   "cell_type": "code",
   "execution_count": null,
   "id": "8aba012a-7cd4-44da-a83c-42dfa70b8941",
   "metadata": {},
   "outputs": [],
   "source": [
    "ztest_score, p_value = ztest(sam_data, value=pop_mean, alternative='larger')\n",
    "\n",
    "if (p_value<alpha):\n",
    "    print(\"Reject the null Hypothesis: Principal's students have more IQ than Population\")\n",
    "else:\n",
    "    print(\"If sample IQ>Pop.IQ, it is random by chance and hence accepting NULL hypothesis\")"
   ]
  },
  {
   "cell_type": "raw",
   "id": "75deea6e-0d73-4f43-90c4-a525b9f5e2ea",
   "metadata": {},
   "source": [
    "One-Sample Z-Test for Mean Bytes Sent\n",
    "Question: Is the average bytes_sent significantly different from a benchmark of 5000 bytes \n",
    "(e.g., expected traffic volume)? First, check if bytes_sent is normally distributed using the Shapiro-Wilk test. If normal, proceed with a Z-test; if not, consider a non-parametric alternative like the one-sample Wilcoxon test."
   ]
  },
  {
   "cell_type": "code",
   "execution_count": null,
   "id": "14f874fd-63cf-45e7-b0f3-b77bc1932825",
   "metadata": {},
   "outputs": [],
   "source": [
    "import pandas as pd\n",
    "import numpy as np\n",
    "import scipy.stats as stats\n",
    "import matplotlib.pyplot as plt\n",
    "import seaborn as sns\n",
    "\n",
    "# Load and clean data (simplified from previous steps)\n",
    "traffic_df = pd.read_csv('network_traffic_log.csv')\n",
    "traffic_df['timestamp'] = pd.to_datetime(traffic_df['timestamp'])\n",
    "traffic_df = traffic_df.drop_duplicates()\n",
    "traffic_df['bytes_sent'].fillna(traffic_df['bytes_sent'].median(), inplace=True)\n",
    "traffic_df['duration_sec'] = traffic_df['duration_sec'].abs()\n",
    "traffic_df = traffic_df[~((traffic_df['bytes_sent'] == 0) | (traffic_df['bytes_received'] == 0))]\n",
    "q99 = traffic_df['bytes_sent'].quantile(0.99)\n",
    "traffic_df['bytes_sent'] = np.clip(traffic_df['bytes_sent'], 0, q99)"
   ]
  },
  {
   "cell_type": "code",
   "execution_count": null,
   "id": "1473e10b-aa39-426c-b68d-5a0df735efe4",
   "metadata": {},
   "outputs": [],
   "source": [
    "\n",
    "# Shapiro-Wilk test for normality\n",
    "shapiro_stat, shapiro_p = stats.shapiro(traffic_df['bytes_sent'])\n",
    "print(f\"Shapiro-Wilk Test for bytes_sent: Stat={shapiro_stat:.4f}, P-value={shapiro_p:.4f}\")\n",
    "\n",
    "# Visualize normality\n",
    "plt.figure(figsize=(6, 4))\n",
    "sns.histplot(traffic_df['bytes_sent'], kde=True)\n",
    "plt.title('Distribution of Bytes Sent')\n",
    "plt.show()"
   ]
  },
  {
   "cell_type": "code",
   "execution_count": null,
   "id": "639c3aef-6e1d-49ba-b771-1ef35b2b86c9",
   "metadata": {},
   "outputs": [],
   "source": [
    "    population_mean = 5000\n",
    "    sample_mean = traffic_df['bytes_sent'].mean()\n",
    "    sample_std = traffic_df['bytes_sent'].std()\n",
    "    n = len(traffic_df)\n",
    "    z_stat = (sample_mean - population_mean) / (sample_std / np.sqrt(n))\n",
    "    p_value = 2 * (1 - stats.norm.cdf(abs(z_stat)))\n",
    "    print(f\"Z-test: Stat={z_stat:.2f}, P-value={p_value:.4f}\")"
   ]
  },
  {
   "cell_type": "code",
   "execution_count": null,
   "id": "1ed4d3a7-c388-44cd-b763-f952e903f6a0",
   "metadata": {},
   "outputs": [],
   "source": [
    "# Z-test if normal, else Wilcoxon\n",
    "if shapiro_p > 0.05:\n",
    "    population_mean = 5000\n",
    "    sample_mean = traffic_df['bytes_sent'].mean()\n",
    "    sample_std = traffic_df['bytes_sent'].std()\n",
    "    n = len(traffic_df)\n",
    "    z_stat = (sample_mean - population_mean) / (sample_std / np.sqrt(n))\n",
    "    p_value = 2 * (1 - stats.norm.cdf(abs(z_stat)))\n",
    "    print(f\"Z-test: Stat={z_stat:.2f}, P-value={p_value:.4f}\")\n",
    "else:\n",
    "    stat, p_value = stats.wilcoxon(traffic_df['bytes_sent'] - 5000)\n",
    "    print(f\"Wilcoxon Test: Stat={stat:.2f}, P-value={p_value:.4f}\")"
   ]
  },
  {
   "cell_type": "raw",
   "id": "124b6b57-6075-4c32-adb0-6394755474d2",
   "metadata": {},
   "source": [
    "Two-Sample T-Test for Bytes Sent by Protocol\n",
    "Question: Is there a significant difference in average bytes_sent between TCP and UDP protocols? \n",
    "Check normality of bytes_sent for each group. If normal, use a t-test; if not, use Mann-Whitney U test."
   ]
  },
  {
   "cell_type": "code",
   "execution_count": null,
   "id": "70db95fd-2cee-4260-9c4e-af3ccad1935e",
   "metadata": {},
   "outputs": [],
   "source": [
    "# Subset by protocol\n",
    "tcp_bytes = traffic_df[traffic_df['protocol'] == 'TCP']['bytes_sent']\n",
    "udp_bytes = traffic_df[traffic_df['protocol'] == 'UDP']['bytes_sent']\n",
    "\n",
    "# Shapiro-Wilk for each\n",
    "shapiro_tcp = stats.shapiro(tcp_bytes)\n",
    "shapiro_udp = stats.shapiro(udp_bytes)\n",
    "print(f\"TCP Shapiro: Stat={shapiro_tcp.statistic:.4f}, P-value={shapiro_tcp.pvalue:.4f}\")\n",
    "print(f\"UDP Shapiro: Stat={shapiro_udp.statistic:.4f}, P-value={shapiro_udp.pvalue:.4f}\")\n",
    "\n",
    "# Visualize\n",
    "plt.figure(figsize=(8, 4))\n",
    "plt.subplot(1, 2, 1)\n",
    "sns.histplot(tcp_bytes, kde=True)\n",
    "plt.title('TCP Bytes Sent')\n",
    "plt.subplot(1, 2, 2)\n",
    "sns.histplot(udp_bytes, kde=True)\n",
    "plt.title('UDP Bytes Sent')\n",
    "plt.tight_layout()\n",
    "plt.show()"
   ]
  },
  {
   "cell_type": "code",
   "execution_count": null,
   "id": "9622c920-3d68-449c-b947-108f88c72301",
   "metadata": {},
   "outputs": [],
   "source": [
    "# Test based on normality\n",
    "if shapiro_tcp.pvalue > 0.05 and shapiro_udp.pvalue > 0.05:\n",
    "    t_stat, p_value = stats.ttest_ind(tcp_bytes, udp_bytes)\n",
    "    print(f\"T-test: Stat={t_stat:.2f}, P-value={p_value:.4f}\")\n",
    "else:\n",
    "    u_stat, p_value = stats.mannwhitneyu(tcp_bytes, udp_bytes)\n",
    "    print(f\"Mann-Whitney U Test: Stat={u_stat:.2f}, P-value={p_value:.4f}\")"
   ]
  },
  {
   "cell_type": "code",
   "execution_count": null,
   "id": "359d3442-65e2-48a0-a51d-0ac9e3a15efa",
   "metadata": {},
   "outputs": [],
   "source": [
    "t_stat, p_value = stats.ttest_ind(tcp_bytes, udp_bytes)\n",
    "print(f\"T-test: Stat={t_stat:.2f}, P-value={p_value:.4f}\")"
   ]
  },
  {
   "cell_type": "raw",
   "id": "a69dacd4-a503-4cbe-8cb7-0ab7fb36e93c",
   "metadata": {},
   "source": [
    "# Parametric tests --> IF data is normally distributed\n",
    "Z (std pop is known), T (std pop is not known), F(ANOVA) --> More than 2 samples\n",
    "\n",
    "# Non - Parametric tests --> If the distribution of the data is unknown\n",
    "Chi-square, Mannwhitney, kruskal walli's, wilcoxin"
   ]
  },
  {
   "cell_type": "code",
   "execution_count": null,
   "id": "f029f6f9-a738-4bf5-a429-b0caa53d6d55",
   "metadata": {},
   "outputs": [],
   "source": []
  },
  {
   "cell_type": "raw",
   "id": "816b28e7-3309-43d9-a2be-40a7412b5220",
   "metadata": {},
   "source": [
    "One-Way ANOVA for Duration by Device Type\n",
    "Question: Does average duration_sec differ significantly across source device types (IoT, server, router, workstation)? Test normality for each group.                                                  If normal, use ANOVA; if not, use Kruskal-Wallis."
   ]
  },
  {
   "cell_type": "code",
   "execution_count": null,
   "id": "9be1ba5d-b65d-46cd-a59f-16cb536ea6e0",
   "metadata": {},
   "outputs": [],
   "source": [
    "import statsmodels.api as sm\n",
    "from statsmodels.formula.api import ols\n",
    "\n",
    "# Merge traffic with device info\n",
    "device_df = pd.read_csv('devices.csv')\n",
    "merged_df = traffic_df.merge(device_df, left_on='source_ip', right_on='ip', how='left')\n",
    "\n",
    "# Shapiro-Wilk by device type\n",
    "device_types = merged_df['device_type'].unique()\n",
    "for dtype in device_types:\n",
    "    durations = merged_df[merged_df['device_type'] == dtype]['duration_sec']\n",
    "    stat, p = stats.shapiro(durations)\n",
    "    print(f\"Shapiro {dtype}: Stat={stat:.4f}, P-value={p:.4f}\")\n",
    "\n",
    "# Visualize\n",
    "plt.figure(figsize=(8, 4))\n",
    "sns.boxplot(x='device_type', y='duration_sec', data=merged_df)\n",
    "plt.title('Duration by Device Type')\n",
    "plt.show()"
   ]
  },
  {
   "cell_type": "code",
   "execution_count": null,
   "id": "8b9e1c37-af4b-4096-8d2a-aaaf8d15198f",
   "metadata": {},
   "outputs": [],
   "source": [
    "# Test based on normality\n",
    "if all(stats.shapiro(merged_df[merged_df['device_type'] == dtype]['duration_sec']).pvalue > 0.05 for dtype in device_types):\n",
    "    model = ols('duration_sec ~ C(device_type)', data=merged_df).fit()\n",
    "    anova_table = sm.stats.anova_lm(model, typ=2)\n",
    "    print(\"ANOVA Results:\\n\", anova_table)\n",
    "else:\n",
    "    stat, p_value = stats.kruskal(*[merged_df[merged_df['device_type'] == dtype]['duration_sec'] for dtype in device_types])\n",
    "    print(f\"Kruskal-Wallis Test: Stat={stat:.2f}, P-value={p_value:.4f}\")"
   ]
  },
  {
   "cell_type": "code",
   "execution_count": null,
   "id": "64345b55-bc75-4f01-8d9c-f54261f366cf",
   "metadata": {},
   "outputs": [],
   "source": [
    "stat, p_value = stats.kruskal(*[merged_df[merged_df['device_type'] == dtype]['duration_sec'] for dtype in device_types])\n",
    "print(f\"Kruskal-Wallis Test: Stat={stat:.2f}, P-value={p_value:.4f}\")"
   ]
  },
  {
   "cell_type": "code",
   "execution_count": null,
   "id": "9297edce-5ec8-4b0f-9547-b84a51adbdc3",
   "metadata": {},
   "outputs": [],
   "source": [
    "[merged_df[merged_df['device_type'] == dtype]['duration_sec'] for dtype in device_types]"
   ]
  },
  {
   "cell_type": "code",
   "execution_count": null,
   "id": "16fd542c-44f2-414a-b7fd-1fbe2163292d",
   "metadata": {},
   "outputs": [],
   "source": [
    "merged_df"
   ]
  },
  {
   "cell_type": "code",
   "execution_count": null,
   "id": "aab13a11-1c74-4625-9138-fb857fd780c5",
   "metadata": {},
   "outputs": [],
   "source": [
    "merged_df.isna().sum()"
   ]
  },
  {
   "cell_type": "code",
   "execution_count": null,
   "id": "d1505b41-c689-4ef3-a1b5-9a02711a9ef2",
   "metadata": {},
   "outputs": [],
   "source": [
    "merged_df.dropna(inplace=True)"
   ]
  },
  {
   "cell_type": "raw",
   "id": "2c5fed8e-8f54-4c10-bc04-27df5d304129",
   "metadata": {},
   "source": [
    "ML"
   ]
  },
  {
   "cell_type": "code",
   "execution_count": null,
   "id": "4cdb1b71-758f-4ee9-b41f-946ffaddb6fd",
   "metadata": {},
   "outputs": [],
   "source": [
    "# Supervised ML --> Predictive models --> \n",
    "# Un-supervised ML"
   ]
  },
  {
   "cell_type": "raw",
   "id": "858fe7d2-cf3e-4343-aad1-0ec58542fdb1",
   "metadata": {},
   "source": [
    "Predictive models --> \n",
    "\n",
    "Regression --> If y is continuous\n",
    "Classification --> If y is categorical\n",
    "\n",
    "# Linear, Non-linear, Ensemble"
   ]
  },
  {
   "cell_type": "code",
   "execution_count": null,
   "id": "d0799c00-bab5-41b9-a062-b90dee042bb2",
   "metadata": {},
   "outputs": [],
   "source": []
  },
  {
   "cell_type": "code",
   "execution_count": null,
   "id": "032b5f70-8b42-4eab-b9c2-5df6a1020d64",
   "metadata": {},
   "outputs": [],
   "source": []
  },
  {
   "cell_type": "code",
   "execution_count": null,
   "id": "91c0c18b-e9cd-40e1-ad79-8cd40bd673d5",
   "metadata": {},
   "outputs": [],
   "source": []
  },
  {
   "cell_type": "code",
   "execution_count": null,
   "id": "98fdc19d-6638-4b5e-a4c5-2ddd5a4095a8",
   "metadata": {},
   "outputs": [],
   "source": []
  },
  {
   "cell_type": "code",
   "execution_count": null,
   "id": "d39277f4-1781-4d57-bab2-cc43658cda65",
   "metadata": {},
   "outputs": [],
   "source": []
  }
 ],
 "metadata": {
  "kernelspec": {
   "display_name": "Python 3 (ipykernel)",
   "language": "python",
   "name": "python3"
  },
  "language_info": {
   "codemirror_mode": {
    "name": "ipython",
    "version": 3
   },
   "file_extension": ".py",
   "mimetype": "text/x-python",
   "name": "python",
   "nbconvert_exporter": "python",
   "pygments_lexer": "ipython3",
   "version": "3.12.4"
  }
 },
 "nbformat": 4,
 "nbformat_minor": 5
}
